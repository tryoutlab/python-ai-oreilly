{
 "cells": [
  {
   "cell_type": "code",
   "execution_count": null,
   "metadata": {
    "scrolled": false
   },
   "outputs": [],
   "source": [
    "%run chunker.ipynb\n",
    "from sklearn.feature_extraction.text import CountVectorizer \n",
    "from nltk.corpus import brown \n",
    "\n",
    "input_data = ' '.join(brown.words()[:5400]) \n",
    "\n",
    "chunk_size = 800 \n",
    "text_chunks = chunker(input_data, chunk_size) \n",
    "\n",
    "count_vectorizer = CountVectorizer(min_df=7, max_df=20) \n",
    "document_term_matrix = count_vectorizer.fit_transform(text_chunks) \n",
    "\n",
    "vocabulary = count_vectorizer.get_feature_names() \n",
    "print(\"Vocabulary:\\n\", vocabulary) "
   ]
  },
  {
   "cell_type": "code",
   "execution_count": null,
   "metadata": {},
   "outputs": [],
   "source": [
    "print(\"Document term matrix:\") \n",
    "fmt = '{:>8} '\n",
    "for v in vocabulary:\n",
    "    fmt += '{{:>{}}} '.format(len(v))\n",
    "print(fmt.format('Document', *vocabulary))\n",
    "for i, item in enumerate(document_term_matrix.toarray()): \n",
    "    print(fmt.format('Chunk-' + str(i+1), *item.data)) "
   ]
  },
  {
   "cell_type": "code",
   "execution_count": null,
   "metadata": {},
   "outputs": [],
   "source": []
  }
 ],
 "metadata": {
  "kernelspec": {
   "display_name": "Python 3",
   "language": "python",
   "name": "python3"
  },
  "language_info": {
   "codemirror_mode": {
    "name": "ipython",
    "version": 3
   },
   "file_extension": ".py",
   "mimetype": "text/x-python",
   "name": "python",
   "nbconvert_exporter": "python",
   "pygments_lexer": "ipython3",
   "version": "3.6.7"
  }
 },
 "nbformat": 4,
 "nbformat_minor": 2
}
