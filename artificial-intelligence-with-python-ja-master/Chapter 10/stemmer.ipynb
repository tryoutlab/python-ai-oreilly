{
 "cells": [
  {
   "cell_type": "code",
   "execution_count": null,
   "metadata": {},
   "outputs": [],
   "source": [
    "from nltk.stem.porter import PorterStemmer \n",
    "from nltk.stem.lancaster import LancasterStemmer \n",
    "from nltk.stem.snowball import SnowballStemmer \n",
    "\n",
    "input_words = ['writing', 'calves', 'be', 'branded', 'horse', 'randomize', \n",
    "        'possibly', 'provision', 'hospital', 'kept', 'scratchy', 'code'] \n",
    "\n",
    "porter = PorterStemmer() \n",
    "lancaster = LancasterStemmer() \n",
    "snowball = SnowballStemmer('english') \n",
    "\n",
    "stemmer_names = ['INPUT WORD', 'PORTER', 'LANCASTER', 'SNOWBALL'] \n",
    "fmt = '{:>16}' * len(stemmer_names)\n",
    "print(fmt.format(*stemmer_names))\n",
    "print('=' * 68)\n",
    "\n",
    "for word in input_words: \n",
    "    output = [word, porter.stem(word), lancaster.stem(word), \n",
    "              snowball.stem(word)] \n",
    "    print(fmt.format(*output)) "
   ]
  },
  {
   "cell_type": "code",
   "execution_count": null,
   "metadata": {},
   "outputs": [],
   "source": []
  }
 ],
 "metadata": {
  "kernelspec": {
   "display_name": "Python 3",
   "language": "python",
   "name": "python3"
  },
  "language_info": {
   "codemirror_mode": {
    "name": "ipython",
    "version": 3
   },
   "file_extension": ".py",
   "mimetype": "text/x-python",
   "name": "python",
   "nbconvert_exporter": "python",
   "pygments_lexer": "ipython3",
   "version": "3.6.7"
  }
 },
 "nbformat": 4,
 "nbformat_minor": 2
}
