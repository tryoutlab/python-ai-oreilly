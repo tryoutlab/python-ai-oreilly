{
 "cells": [
  {
   "cell_type": "code",
   "execution_count": null,
   "metadata": {
    "scrolled": true
   },
   "outputs": [],
   "source": [
    "from nltk.stem import WordNetLemmatizer \n",
    "\n",
    "input_words = ['writing', 'calves', 'be', 'branded', 'horse', 'randomize', \n",
    "        'possibly', 'provision', 'hospital', 'kept', 'scratchy', 'code'] \n",
    "\n",
    "lemmatizer = WordNetLemmatizer() \n",
    "\n",
    "lemmatizer_names = ['INPUT WORD', 'NOUN LEMMATIZER', 'VERB LEMMATIZER'] \n",
    "fmt = '{:>24}' * len(lemmatizer_names)\n",
    "print(fmt.format(*lemmatizer_names))\n",
    "print('=' * 75) \n",
    "\n",
    "for word in input_words: \n",
    "    output = [word, lemmatizer.lemmatize(word, pos='n'), \n",
    "                    lemmatizer.lemmatize(word, pos='v')] \n",
    "    print(fmt.format(*output)) "
   ]
  },
  {
   "cell_type": "code",
   "execution_count": null,
   "metadata": {},
   "outputs": [],
   "source": []
  }
 ],
 "metadata": {
  "kernelspec": {
   "display_name": "Python 3",
   "language": "python",
   "name": "python3"
  },
  "language_info": {
   "codemirror_mode": {
    "name": "ipython",
    "version": 3
   },
   "file_extension": ".py",
   "mimetype": "text/x-python",
   "name": "python",
   "nbconvert_exporter": "python",
   "pygments_lexer": "ipython3",
   "version": "3.6.7"
  }
 },
 "nbformat": 4,
 "nbformat_minor": 2
}
