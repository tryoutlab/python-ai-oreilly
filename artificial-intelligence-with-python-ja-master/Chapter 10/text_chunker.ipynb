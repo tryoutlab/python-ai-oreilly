{
 "cells": [
  {
   "cell_type": "code",
   "execution_count": null,
   "metadata": {},
   "outputs": [],
   "source": [
    "%run chunker.ipynb\n",
    "from nltk.corpus import brown \n",
    "\n",
    "input_data = ' '.join(brown.words()[:12000]) \n",
    "\n",
    "chunk_size = 700 \n",
    "chunks = chunker(input_data, chunk_size) \n",
    "print('Number of text chunks =', len(chunks), '\\n') \n",
    "for i, chunk in enumerate(chunks): \n",
    "    print('Chunk', i+1, '==>', chunk[:50])   "
   ]
  },
  {
   "cell_type": "code",
   "execution_count": null,
   "metadata": {},
   "outputs": [],
   "source": []
  }
 ],
 "metadata": {
  "kernelspec": {
   "display_name": "Python 3",
   "language": "python",
   "name": "python3"
  },
  "language_info": {
   "codemirror_mode": {
    "name": "ipython",
    "version": 3
   },
   "file_extension": ".py",
   "mimetype": "text/x-python",
   "name": "python",
   "nbconvert_exporter": "python",
   "pygments_lexer": "ipython3",
   "version": "3.6.7"
  }
 },
 "nbformat": 4,
 "nbformat_minor": 2
}
