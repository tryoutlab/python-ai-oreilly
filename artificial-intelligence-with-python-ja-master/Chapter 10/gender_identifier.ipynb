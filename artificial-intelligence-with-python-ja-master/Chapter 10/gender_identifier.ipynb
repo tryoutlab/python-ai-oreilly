{
 "cells": [
  {
   "cell_type": "code",
   "execution_count": null,
   "metadata": {},
   "outputs": [],
   "source": [
    "import random \n",
    "\n",
    "from nltk import NaiveBayesClassifier \n",
    "from nltk.classify import accuracy as nltk_accuracy \n",
    "from nltk.corpus import names \n",
    "\n",
    "def extract_features(word, N=2): \n",
    "    last_n_letters = word[-N:] \n",
    "    return {'feature': last_n_letters.lower()} \n",
    "\n",
    "male_list = [(name, 'male') for name in names.words('male.txt')] \n",
    "female_list = [(name, 'female') for name in names.words('female.txt')] \n",
    "data = (male_list + female_list) \n",
    "num_train = int(0.8 * len(data))\n",
    "\n",
    "random.seed(5) \n",
    "random.shuffle(data) \n",
    "\n",
    "for i in range(1, 6): \n",
    "    print('\\nNumber of end letters:', i) \n",
    "    features = [(extract_features(n, i), gender) for (n, gender) in data] \n",
    "    train_data, test_data = features[:num_train], features[num_train:] \n",
    "    classifier = NaiveBayesClassifier.train(train_data) \n",
    "\n",
    "    accuracy = round(100 * nltk_accuracy(classifier, test_data), 2) \n",
    "    print('Accuracy = ' + str(accuracy) + '%') \n",
    "\n",
    "    input_names = ['Alexander', 'Danielle', 'David', 'Cheryl'] \n",
    "    for name in input_names: \n",
    "        print(name, '==>', classifier.classify(extract_features(name, i))) \n",
    "    "
   ]
  },
  {
   "cell_type": "code",
   "execution_count": null,
   "metadata": {},
   "outputs": [],
   "source": []
  }
 ],
 "metadata": {
  "kernelspec": {
   "display_name": "Python 3",
   "language": "python",
   "name": "python3"
  },
  "language_info": {
   "codemirror_mode": {
    "name": "ipython",
    "version": 3
   },
   "file_extension": ".py",
   "mimetype": "text/x-python",
   "name": "python",
   "nbconvert_exporter": "python",
   "pygments_lexer": "ipython3",
   "version": "3.6.7"
  }
 },
 "nbformat": 4,
 "nbformat_minor": 2
}
