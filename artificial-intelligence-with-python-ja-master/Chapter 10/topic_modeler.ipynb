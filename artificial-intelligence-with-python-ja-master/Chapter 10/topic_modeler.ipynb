{
 "cells": [
  {
   "cell_type": "code",
   "execution_count": null,
   "metadata": {},
   "outputs": [],
   "source": [
    "from nltk.tokenize import RegexpTokenizer  \n",
    "from nltk.corpus import stopwords\n",
    "from nltk.stem.snowball import SnowballStemmer\n",
    "from gensim import models, corpora\n",
    "\n",
    "def load_data(input_file):\n",
    "    data = []\n",
    "    with open(input_file, 'r') as f:\n",
    "        for line in f.readlines():\n",
    "            data.append(line.strip())\n",
    "    return data\n",
    "\n",
    "def process(input_text): \n",
    "    tokenizer = RegexpTokenizer(r'\\w+') \n",
    "    tokens = tokenizer.tokenize(input_text.lower()) \n",
    "    \n",
    "    stop_words = stopwords.words('english') \n",
    "    tokens = [x for x in tokens if not x in stop_words]     \n",
    "\n",
    "    stemmer = SnowballStemmer('english') \n",
    "    tokens_stemmed = [stemmer.stem(x) for x in tokens] \n",
    "    return tokens_stemmed \n",
    "\n",
    "data = load_data('data.txt') \n",
    "tokens = [process(x) for x in data] \n",
    "\n",
    "dict_tokens = corpora.Dictionary(tokens) \n",
    "doc_term_mat = [dict_tokens.doc2bow(token) for token in tokens] \n",
    "\n",
    "num_topics = 2 \n",
    "ldamodel = models.ldamodel.LdaModel(doc_term_mat, \n",
    "               num_topics=num_topics, id2word=dict_tokens, passes=25) \n",
    "\n",
    "num_words = 5\n",
    "print('Top ' + str(num_words) + ' contributing words to each topic:') \n",
    "for n,values in ldamodel.show_topics(num_topics=num_topics, num_words=num_words, \n",
    "                                     formatted=False): \n",
    "    print('\\nTopic', n)\n",
    "    for word,weight in values: \n",
    "        print(word, '==>', str(round(float(weight) * 100, 2)) + '%') "
   ]
  }
 ],
 "metadata": {
  "kernelspec": {
   "display_name": "Python 3",
   "language": "python",
   "name": "python3"
  },
  "language_info": {
   "codemirror_mode": {
    "name": "ipython",
    "version": 3
   },
   "file_extension": ".py",
   "mimetype": "text/x-python",
   "name": "python",
   "nbconvert_exporter": "python",
   "pygments_lexer": "ipython3",
   "version": "3.6.7"
  }
 },
 "nbformat": 4,
 "nbformat_minor": 2
}
