{
 "cells": [
  {
   "cell_type": "code",
   "execution_count": null,
   "metadata": {},
   "outputs": [],
   "source": [
    "from nltk.corpus import movie_reviews \n",
    "from nltk.classify import NaiveBayesClassifier \n",
    "from nltk.classify.util import accuracy as nltk_accuracy \n",
    "\n",
    "def extract_features(words): \n",
    "    return dict([(word, True) for word in words]) \n",
    "\n",
    "fileids_pos = movie_reviews.fileids('pos') \n",
    "fileids_neg = movie_reviews.fileids('neg') \n",
    "\n",
    "features_pos = [(extract_features(movie_reviews.words(fileids=[f])),\n",
    "                 'Positive') for f in fileids_pos]\n",
    "features_neg = [(extract_features(movie_reviews.words(fileids=[f])),\n",
    "                 'Negative') for f in fileids_neg] \n",
    "\n",
    "threshold = 0.8 \n",
    "num_pos = int(threshold * len(features_pos)) \n",
    "num_neg = int(threshold * len(features_neg)) \n",
    "\n",
    "features_train = features_pos[:num_pos] + features_neg[:num_neg] \n",
    "features_test = features_pos[num_pos:] + features_neg[num_neg:]  \n",
    "print('Number of training datapoints:', len(features_train)) \n",
    "print('Number of test datapoints:', len(features_test)) \n"
   ]
  },
  {
   "cell_type": "code",
   "execution_count": null,
   "metadata": {},
   "outputs": [],
   "source": [
    "classifier = NaiveBayesClassifier.train(features_train) \n",
    "print('Accuracy of the classifier:', \n",
    "      nltk_accuracy(classifier, features_test)) \n"
   ]
  },
  {
   "cell_type": "code",
   "execution_count": null,
   "metadata": {},
   "outputs": [],
   "source": [
    "N = 15 \n",
    "print('Top ' + str(N) + ' most informative words:') \n",
    "for i, item in enumerate(classifier.most_informative_features()[:N]): \n",
    "    print(str(i+1) + '. ' + item[0]) "
   ]
  },
  {
   "cell_type": "code",
   "execution_count": null,
   "metadata": {},
   "outputs": [],
   "source": [
    "input_reviews = [ \n",
    "    'The costumes in this movie were great', \n",
    "    'I think the story was terrible and the characters were very weak', \n",
    "    'People say that the director of the movie is amazing', \n",
    "    'This is such an idiotic movie. I will not recommend it to anyone.' \n",
    "] \n",
    "\n",
    "print(\"Movie review predictions:\") \n",
    "for review in input_reviews: \n",
    "    print(\"\\nReview:\", review) \n",
    "    \n",
    "    features = extract_features(review.split())\n",
    "    probabilities = classifier.prob_classify(features)\n",
    "    predicted_sentiment = probabilities.max() \n",
    "    \n",
    "    print(\"Predicted sentiment:\", predicted_sentiment) \n",
    "    print(\"Probability:\", round(probabilities.prob(predicted_sentiment), 2)) \n"
   ]
  },
  {
   "cell_type": "code",
   "execution_count": null,
   "metadata": {},
   "outputs": [],
   "source": []
  }
 ],
 "metadata": {
  "kernelspec": {
   "display_name": "Python 3",
   "language": "python",
   "name": "python3"
  },
  "language_info": {
   "codemirror_mode": {
    "name": "ipython",
    "version": 3
   },
   "file_extension": ".py",
   "mimetype": "text/x-python",
   "name": "python",
   "nbconvert_exporter": "python",
   "pygments_lexer": "ipython3",
   "version": "3.6.7"
  }
 },
 "nbformat": 4,
 "nbformat_minor": 2
}
