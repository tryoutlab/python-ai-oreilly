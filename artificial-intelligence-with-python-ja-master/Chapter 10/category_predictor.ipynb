{
 "cells": [
  {
   "cell_type": "code",
   "execution_count": null,
   "metadata": {},
   "outputs": [],
   "source": [
    "from sklearn.datasets import fetch_20newsgroups \n",
    "from sklearn.naive_bayes import MultinomialNB \n",
    "from sklearn.feature_extraction.text import TfidfTransformer \n",
    "from sklearn.feature_extraction.text import CountVectorizer \n",
    "\n",
    "category_map = {'talk.politics.misc': 'Politics',\n",
    "                'rec.autos': 'Autos', 'rec.sport.hockey': 'Hockey',\n",
    "                'sci.electronics': 'Electronics', 'sci.med': 'Medicine'} \n",
    "\n",
    "training_data = fetch_20newsgroups(subset='train', \n",
    "    categories=category_map.keys(), shuffle=True, random_state=5) \n",
    "\n",
    "count_vectorizer = CountVectorizer() \n",
    "train_tc = count_vectorizer.fit_transform(training_data.data) \n",
    "print(\"Dimensions of training data:\", train_tc.shape) \n"
   ]
  },
  {
   "cell_type": "code",
   "execution_count": null,
   "metadata": {},
   "outputs": [],
   "source": [
    "tfidf = TfidfTransformer() \n",
    "train_tfidf = tfidf.fit_transform(train_tc) \n",
    "classifier = MultinomialNB().fit(train_tfidf, training_data.target) \n",
    "\n",
    "input_data = [ \n",
    "    'You need to be careful with cars when you are driving on slippery roads', \n",
    "    'A lot of devices can be operated wirelessly', \n",
    "    'Players need to be careful when they are close to goal posts', \n",
    "    'Political debates help us understand the perspectives of both sides' \n",
    "] \n",
    "input_tc = count_vectorizer.transform(input_data) \n",
    "input_tfidf = tfidf.transform(input_tc) \n",
    "\n",
    "predictions = classifier.predict(input_tfidf) \n",
    "for sent, category in zip(input_data, predictions): \n",
    "    print('Input:', sent, '\\nPredicted category:',\n",
    "          category_map[training_data.target_names[category]]) "
   ]
  },
  {
   "cell_type": "code",
   "execution_count": null,
   "metadata": {},
   "outputs": [],
   "source": []
  }
 ],
 "metadata": {
  "kernelspec": {
   "display_name": "Python 3",
   "language": "python",
   "name": "python3"
  },
  "language_info": {
   "codemirror_mode": {
    "name": "ipython",
    "version": 3
   },
   "file_extension": ".py",
   "mimetype": "text/x-python",
   "name": "python",
   "nbconvert_exporter": "python",
   "pygments_lexer": "ipython3",
   "version": "3.6.7"
  }
 },
 "nbformat": 4,
 "nbformat_minor": 2
}
