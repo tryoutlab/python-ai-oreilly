{
 "cells": [
  {
   "cell_type": "code",
   "execution_count": null,
   "metadata": {
    "scrolled": true
   },
   "outputs": [],
   "source": [
    "import numpy as np \n",
    "import matplotlib.pyplot as plt \n",
    "from scipy.io.wavfile import write \n",
    "%matplotlib inline\n",
    "\n",
    "duration = 4  # 秒\n",
    "sampling_freq = 44100  # Hz \n",
    "tone_freq = 784  # Hz \n",
    "\n",
    "t = np.linspace(0, duration, duration * sampling_freq) \n",
    "signal = np.sin(2 * np.pi * tone_freq * t) \n",
    "\n",
    "noise = 0.5 * np.random.rand(duration * sampling_freq) \n",
    "signal += noise \n",
    "\n",
    "scaling_factor = 2 ** 15 - 1\n",
    "signal_normalized = signal / np.max(np.abs(signal)) \n",
    "signal_scaled = np.int16(signal_normalized * scaling_factor) \n",
    "\n",
    "output_file = 'generated_audio.wav'\n",
    "write(output_file, sampling_freq, signal_scaled)"
   ]
  },
  {
   "cell_type": "code",
   "execution_count": null,
   "metadata": {},
   "outputs": [],
   "source": [
    "size = 200\n",
    "signal = signal[:size] \n",
    "time_axis = np.linspace(0, 1000 * size / sampling_freq, size)\n",
    "\n",
    "plt.plot(time_axis, signal, color='black') \n",
    "plt.xlabel('Time (milliseconds)') \n",
    "plt.ylabel('Amplitude') \n",
    "plt.title('Generated audio signal') \n",
    "plt.show()"
   ]
  },
  {
   "cell_type": "code",
   "execution_count": null,
   "metadata": {},
   "outputs": [],
   "source": []
  }
 ],
 "metadata": {
  "kernelspec": {
   "display_name": "Python 3",
   "language": "python",
   "name": "python3"
  },
  "language_info": {
   "codemirror_mode": {
    "name": "ipython",
    "version": 3
   },
   "file_extension": ".py",
   "mimetype": "text/x-python",
   "name": "python",
   "nbconvert_exporter": "python",
   "pygments_lexer": "ipython3",
   "version": "3.6.7"
  }
 },
 "nbformat": 4,
 "nbformat_minor": 2
}
