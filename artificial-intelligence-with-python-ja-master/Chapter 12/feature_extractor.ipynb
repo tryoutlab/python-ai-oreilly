{
 "cells": [
  {
   "cell_type": "code",
   "execution_count": null,
   "metadata": {},
   "outputs": [],
   "source": [
    "import numpy as np \n",
    "import matplotlib.pyplot as plt \n",
    "from scipy.io import wavfile \n",
    "from python_speech_features import mfcc, logfbank \n",
    "%matplotlib inline\n",
    "\n",
    "sampling_freq, signal = wavfile.read('random_sound.wav') \n",
    "signal = signal[:10000] \n",
    "\n",
    "features_mfcc = mfcc(signal, sampling_freq) \n",
    "\n",
    "print('MFCC:\\nNumber of windows =', features_mfcc.shape[0]) \n",
    "print('Length of each feature =', features_mfcc.shape[1]) "
   ]
  },
  {
   "cell_type": "code",
   "execution_count": null,
   "metadata": {},
   "outputs": [],
   "source": [
    "features_mfcc = features_mfcc.T \n",
    "plt.matshow(features_mfcc) \n",
    "plt.title('MFCC') \n",
    "plt.show()"
   ]
  },
  {
   "cell_type": "code",
   "execution_count": null,
   "metadata": {},
   "outputs": [],
   "source": [
    "features_fb = logfbank(signal, sampling_freq) \n",
    "\n",
    "print('Filter bank:\\nNumber of windows =', features_fb.shape[0]) \n",
    "print('Length of each feature =', features_fb.shape[1]) "
   ]
  },
  {
   "cell_type": "code",
   "execution_count": null,
   "metadata": {},
   "outputs": [],
   "source": [
    "features_fb = features_fb.T \n",
    "plt.matshow(features_fb) \n",
    "plt.title('Filter bank') \n",
    "plt.show() "
   ]
  },
  {
   "cell_type": "code",
   "execution_count": null,
   "metadata": {},
   "outputs": [],
   "source": []
  }
 ],
 "metadata": {
  "kernelspec": {
   "display_name": "Python 3",
   "language": "python",
   "name": "python3"
  },
  "language_info": {
   "codemirror_mode": {
    "name": "ipython",
    "version": 3
   },
   "file_extension": ".py",
   "mimetype": "text/x-python",
   "name": "python",
   "nbconvert_exporter": "python",
   "pygments_lexer": "ipython3",
   "version": "3.6.7"
  }
 },
 "nbformat": 4,
 "nbformat_minor": 2
}
