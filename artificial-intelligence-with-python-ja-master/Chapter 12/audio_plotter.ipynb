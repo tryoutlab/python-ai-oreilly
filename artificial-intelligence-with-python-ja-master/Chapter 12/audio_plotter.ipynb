{
 "cells": [
  {
   "cell_type": "code",
   "execution_count": null,
   "metadata": {},
   "outputs": [],
   "source": [
    "import numpy as np \n",
    "import matplotlib.pyplot as plt \n",
    "from scipy.io import wavfile \n",
    "%matplotlib inline\n",
    "\n",
    "sampling_freq, signal = wavfile.read('random_sound.wav') \n",
    "\n",
    "print('Signal shape:', signal.shape) \n",
    "print('Datatype:', signal.dtype) \n",
    "print('Signal duration:', round(signal.shape[0] / float(sampling_freq), 2), 'seconds') "
   ]
  },
  {
   "cell_type": "code",
   "execution_count": null,
   "metadata": {},
   "outputs": [],
   "source": [
    "signal = signal / (2 ** 15)\n",
    "size = 50\n",
    "signal = signal[:size] \n",
    "time_axis = np.linspace(0, 1000 * size / sampling_freq, size)\n",
    "\n",
    "plt.plot(time_axis, signal, color='black') \n",
    "plt.xlabel('Time (milliseconds)') \n",
    "plt.ylabel('Amplitude') \n",
    "plt.title('Input audio signal') \n",
    "plt.show() "
   ]
  },
  {
   "cell_type": "code",
   "execution_count": null,
   "metadata": {},
   "outputs": [],
   "source": []
  }
 ],
 "metadata": {
  "kernelspec": {
   "display_name": "Python 3",
   "language": "python",
   "name": "python3"
  },
  "language_info": {
   "codemirror_mode": {
    "name": "ipython",
    "version": 3
   },
   "file_extension": ".py",
   "mimetype": "text/x-python",
   "name": "python",
   "nbconvert_exporter": "python",
   "pygments_lexer": "ipython3",
   "version": "3.6.7"
  }
 },
 "nbformat": 4,
 "nbformat_minor": 2
}
