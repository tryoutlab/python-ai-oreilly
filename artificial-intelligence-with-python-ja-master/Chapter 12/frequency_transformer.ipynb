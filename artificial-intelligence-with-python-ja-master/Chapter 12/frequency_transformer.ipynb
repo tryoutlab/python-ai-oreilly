{
 "cells": [
  {
   "cell_type": "code",
   "execution_count": null,
   "metadata": {
    "scrolled": false
   },
   "outputs": [],
   "source": [
    "import numpy as np \n",
    "import matplotlib.pyplot as plt \n",
    "from scipy.io import wavfile \n",
    "%matplotlib inline\n",
    "\n",
    "sampling_freq, signal = wavfile.read('spoken_word.wav') \n",
    "signal = signal / (2 ** 15)\n",
    "\n",
    "len_signal = len(signal) \n",
    "len_half = (len_signal + 1) // 2\n",
    "\n",
    "freq_signal = np.fft.fft(signal) \n",
    "\n",
    "freq_signal = np.abs(freq_signal[0:len_half]) / len_half\n",
    "signal_power = 20 * np.log10(freq_signal)\n",
    "x_axis = np.linspace(0, sampling_freq / 2 / 1000.0, len(signal_power))\n",
    "\n",
    "plt.figure() \n",
    "plt.plot(x_axis, signal_power, color='black') \n",
    "plt.xlabel('Frequency (kHz)') \n",
    "plt.ylabel('Signal power (dB)') \n",
    "plt.show() "
   ]
  },
  {
   "cell_type": "code",
   "execution_count": null,
   "metadata": {},
   "outputs": [],
   "source": [
    "plt.figure() \n",
    "plt.xscale('log')\n",
    "plt.plot(x_axis, signal_power, color='black') \n",
    "plt.xlabel('Frequency (kHz)') \n",
    "plt.ylabel('Signal power (dB)') \n",
    "plt.show() "
   ]
  },
  {
   "cell_type": "code",
   "execution_count": null,
   "metadata": {},
   "outputs": [],
   "source": []
  }
 ],
 "metadata": {
  "kernelspec": {
   "display_name": "Python 3",
   "language": "python",
   "name": "python3"
  },
  "language_info": {
   "codemirror_mode": {
    "name": "ipython",
    "version": 3
   },
   "file_extension": ".py",
   "mimetype": "text/x-python",
   "name": "python",
   "nbconvert_exporter": "python",
   "pygments_lexer": "ipython3",
   "version": "3.6.7"
  }
 },
 "nbformat": 4,
 "nbformat_minor": 2
}
