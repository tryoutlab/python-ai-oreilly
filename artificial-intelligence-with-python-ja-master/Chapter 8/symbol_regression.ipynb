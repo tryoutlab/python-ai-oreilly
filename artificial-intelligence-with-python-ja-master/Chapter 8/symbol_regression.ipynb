{
 "cells": [
  {
   "cell_type": "code",
   "execution_count": null,
   "metadata": {},
   "outputs": [],
   "source": [
    "import operator \n",
    "import math \n",
    "import random \n",
    "import numpy as np \n",
    "from deap import algorithms, base, creator, tools, gp \n",
    "\n",
    "random.seed(7) \n",
    "\n",
    "def target_func(x):\n",
    "    return 2 * x**3 - 3 * x**2 + 4 * x - 1\n",
    "\n",
    "def eval_func(individual, points): \n",
    "    func = toolbox.compile(expr=individual) \n",
    "    mse = ((func(x) - target_func(x))**2 for x in points) \n",
    "    return (math.fsum(mse) / len(points),)\n",
    "\n",
    "def division_operator(numerator, denominator): \n",
    "    if denominator == 0: \n",
    "        return 1 \n",
    "    return numerator / denominator \n",
    "\n",
    "pset = gp.PrimitiveSet(\"MAIN\", 1) \n",
    "pset.addPrimitive(operator.add, 2) \n",
    "pset.addPrimitive(operator.sub, 2) \n",
    "pset.addPrimitive(operator.mul, 2) \n",
    "pset.addPrimitive(division_operator, 2) \n",
    "pset.addPrimitive(operator.neg, 1) \n",
    "pset.addPrimitive(math.cos, 1) \n",
    "pset.addPrimitive(math.sin, 1) \n",
    "pset.addEphemeralConstant(\"rand101\", lambda: random.randint(-1,1)) \n",
    "pset.renameArguments(ARG0='x') \n",
    "\n",
    "creator.create(\"FitnessMin\", base.Fitness, weights=(-1.0,)) \n",
    "creator.create(\"Individual\", gp.PrimitiveTree, fitness=creator.FitnessMin) \n",
    "\n",
    "toolbox = base.Toolbox() \n",
    "toolbox.register(\"expr\", gp.genHalfAndHalf, pset=pset, min_=1, max_=2) \n",
    "toolbox.register(\"individual\", tools.initIterate, creator.Individual, toolbox.expr) \n",
    "toolbox.register(\"population\", tools.initRepeat, list, toolbox.individual) \n",
    "toolbox.register(\"compile\", gp.compile, pset=pset) \n",
    "\n",
    "toolbox.register(\"evaluate\", eval_func, points=[x/10. for x in range(-10,10)]) \n",
    "toolbox.register(\"select\", tools.selTournament, tournsize=3) \n",
    "toolbox.register(\"mate\", gp.cxOnePoint) \n",
    "toolbox.register(\"expr_mut\", gp.genFull, min_=0, max_=2) \n",
    "toolbox.register(\"mutate\", gp.mutUniform, expr=toolbox.expr_mut, pset=pset) \n",
    "toolbox.decorate(\"mate\", gp.staticLimit(key=operator.attrgetter(\"height\"), max_value=17)) \n",
    "toolbox.decorate(\"mutate\", gp.staticLimit(key=operator.attrgetter(\"height\"), max_value=17))\n",
    " \n",
    "population = toolbox.population(n=450) \n",
    "hall_of_fame = tools.HallOfFame(1) \n",
    "\n",
    "stats_fit = tools.Statistics(lambda x: x.fitness.values) \n",
    "stats_size = tools.Statistics(len) \n",
    "mstats = tools.MultiStatistics(fitness=stats_fit, size=stats_size) \n",
    "mstats.register(\"avg\", np.mean) \n",
    "mstats.register(\"std\", np.std) \n",
    "mstats.register(\"min\", np.min) \n",
    "mstats.register(\"max\", np.max) \n",
    "\n",
    "probab_crossover = 0.4 \n",
    "probab_mutate = 0.2 \n",
    "num_generations = 60 \n",
    "\n",
    "population, log = algorithms.eaSimple(population, toolbox, \n",
    "        probab_crossover, probab_mutate, num_generations, \n",
    "        stats=mstats, halloffame=hall_of_fame, verbose=True) "
   ]
  },
  {
   "cell_type": "code",
   "execution_count": null,
   "metadata": {},
   "outputs": [],
   "source": [
    "print(hall_of_fame[0])"
   ]
  },
  {
   "cell_type": "code",
   "execution_count": null,
   "metadata": {},
   "outputs": [],
   "source": [
    "%matplotlib inline\n",
    "import matplotlib.pyplot as plt\n",
    "f = toolbox.compile(expr=hall_of_fame[0])\n",
    "xs = [x/10.0 for x in range(-20, 21)]\n",
    "ys = [f(x) for x in xs]\n",
    "ts = [target_func(x) for x in xs]\n",
    "plt.figure()\n",
    "plt.plot(xs, ys)\n",
    "plt.plot(xs, ts)\n",
    "plt.grid(True)\n",
    "plt.show()"
   ]
  },
  {
   "cell_type": "code",
   "execution_count": null,
   "metadata": {},
   "outputs": [],
   "source": []
  }
 ],
 "metadata": {
  "kernelspec": {
   "display_name": "Python 3",
   "language": "python",
   "name": "python3"
  },
  "language_info": {
   "codemirror_mode": {
    "name": "ipython",
    "version": 3
   },
   "file_extension": ".py",
   "mimetype": "text/x-python",
   "name": "python",
   "nbconvert_exporter": "python",
   "pygments_lexer": "ipython3",
   "version": "3.6.7"
  }
 },
 "nbformat": 4,
 "nbformat_minor": 2
}
