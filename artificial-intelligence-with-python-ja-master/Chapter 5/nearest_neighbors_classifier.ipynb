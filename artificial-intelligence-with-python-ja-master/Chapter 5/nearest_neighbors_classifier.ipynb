{
 "cells": [
  {
   "cell_type": "code",
   "execution_count": null,
   "metadata": {},
   "outputs": [],
   "source": [
    "import numpy as np \n",
    "import matplotlib.pyplot as plt \n",
    "import matplotlib.cm as cm \n",
    "from sklearn import neighbors, datasets \n",
    "%matplotlib inline\n",
    "\n",
    "input_file = 'data.txt' \n",
    "data = np.loadtxt(input_file, delimiter=',') \n",
    "X, y = data[:, :-1], data[:, -1].astype(np.int) \n",
    "\n",
    "plt.figure() \n",
    "plt.title('Input data') \n",
    "marker_shapes = 'v^os' \n",
    "\n",
    "for i in range(X.shape[0]): \n",
    "    plt.scatter(X[i, 0], X[i, 1], marker=marker_shapes[y[i]], \n",
    "                s=75, edgecolors='black', facecolors='none') \n",
    "plt.show()"
   ]
  },
  {
   "cell_type": "code",
   "execution_count": null,
   "metadata": {},
   "outputs": [],
   "source": [
    "num_neighbors = 12 \n",
    "\n",
    "classifier = neighbors.KNeighborsClassifier(num_neighbors, weights='distance') \n",
    "classifier.fit(X, y) \n",
    "\n",
    "step_size = 0.01  \n",
    "x_min, x_max = X[:, 0].min() - 1, X[:, 0].max() + 1 \n",
    "y_min, y_max = X[:, 1].min() - 1, X[:, 1].max() + 1 \n",
    "x_values, y_values = np.meshgrid(np.arange(x_min, x_max, step_size), \n",
    "                                 np.arange(y_min, y_max, step_size)) \n",
    "\n",
    "output = classifier.predict(np.c_[x_values.ravel(), y_values.ravel()])\n",
    "\n",
    "output = output.reshape(x_values.shape) \n",
    "plt.figure() \n",
    "plt.pcolormesh(x_values, y_values, output, cmap=cm.Blues) \n",
    "\n",
    "for i in range(X.shape[0]): \n",
    "    plt.scatter(X[i, 0], X[i, 1], marker=marker_shapes[y[i]], \n",
    "                s=50, edgecolors='black', facecolors='none') \n",
    "\n",
    "plt.xlim(x_values.min(), x_values.max()) \n",
    "plt.ylim(y_values.min(), y_values.max()) \n",
    "plt.title('K Nearest Neighbors classifier model boundaries') \n",
    "plt.show()"
   ]
  },
  {
   "cell_type": "code",
   "execution_count": null,
   "metadata": {},
   "outputs": [],
   "source": [
    "test_datapoint = [5.1, 3.6] \n",
    "plt.figure() \n",
    "plt.title('Test datapoint') \n",
    "for i in range(X.shape[0]): \n",
    "    plt.scatter(X[i, 0], X[i, 1], marker=marker_shapes[y[i]], \n",
    "                s=75, edgecolors='black', facecolors='none') \n",
    "\n",
    "plt.scatter(test_datapoint[0], test_datapoint[1], marker='x', \n",
    "            linewidth=6, s=200, facecolors='black') \n",
    "plt.show()"
   ]
  },
  {
   "cell_type": "code",
   "execution_count": null,
   "metadata": {},
   "outputs": [],
   "source": [
    "_, indices = classifier.kneighbors([test_datapoint]) \n",
    "indices = indices.astype(np.int)[0] \n",
    "\n",
    "plt.figure() \n",
    "plt.title('K Nearest Neighbors') \n",
    "\n",
    "for i in indices: \n",
    "    plt.scatter(X[i, 0], X[i, 1], marker=marker_shapes[y[i]], \n",
    "                linewidth=3, s=100, facecolors='black') \n",
    "    \n",
    "plt.scatter(test_datapoint[0], test_datapoint[1], marker='x', \n",
    "            linewidth=6, s=200, facecolors='black') \n",
    "\n",
    "for i in range(X.shape[0]): \n",
    "    plt.scatter(X[i, 0], X[i, 1], marker=marker_shapes[y[i]], \n",
    "                s=75, edgecolors='black', facecolors='none') \n",
    "plt.show() "
   ]
  },
  {
   "cell_type": "code",
   "execution_count": null,
   "metadata": {},
   "outputs": [],
   "source": [
    "print('K-Nearest Neighbours:')\n",
    "for i in indices: \n",
    "    print('({},{}) -> {}'.format(X[i, 0], X[i, 1], y[i]))\n",
    "\n",
    "print(\"Predicted output:\", classifier.predict([test_datapoint])[0]) "
   ]
  },
  {
   "cell_type": "code",
   "execution_count": null,
   "metadata": {},
   "outputs": [],
   "source": []
  }
 ],
 "metadata": {
  "kernelspec": {
   "display_name": "Python 3",
   "language": "python",
   "name": "python3"
  },
  "language_info": {
   "codemirror_mode": {
    "name": "ipython",
    "version": 3
   },
   "file_extension": ".py",
   "mimetype": "text/x-python",
   "name": "python",
   "nbconvert_exporter": "python",
   "pygments_lexer": "ipython3",
   "version": "3.6.7"
  }
 },
 "nbformat": 4,
 "nbformat_minor": 2
}
