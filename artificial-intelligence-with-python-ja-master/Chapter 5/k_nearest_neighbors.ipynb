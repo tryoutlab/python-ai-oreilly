{
 "cells": [
  {
   "cell_type": "code",
   "execution_count": null,
   "metadata": {},
   "outputs": [],
   "source": [
    "import numpy as np \n",
    "import matplotlib.pyplot as plt\n",
    "%matplotlib inline\n",
    "from sklearn.neighbors import NearestNeighbors \n",
    "\n",
    "X = np.array([[2.1, 1.3], [1.3, 3.2], [2.9, 2.5], [2.7, 5.4], [3.8, 0.9], \n",
    "              [7.3, 2.1], [4.2, 6.5], [3.8, 3.7], [2.5, 4.1], [3.4, 1.9], \n",
    "              [5.7, 3.5], [6.1, 4.3], [5.1, 2.2], [6.2, 1.1]]) \n",
    "\n",
    "plt.figure() \n",
    "plt.title('Input data') \n",
    "plt.scatter(X[:,0], X[:,1], marker='o', s=75, color='black') \n",
    "plt.show()"
   ]
  },
  {
   "cell_type": "code",
   "execution_count": null,
   "metadata": {},
   "outputs": [],
   "source": [
    "k = 5 \n",
    "test_datapoint = [4.3, 2.7] \n",
    "\n",
    "knn_model = NearestNeighbors(n_neighbors=k, algorithm='ball_tree').fit(X) \n",
    "distances, indices = knn_model.kneighbors([test_datapoint]) \n",
    "\n",
    "print(\"K Nearest Neighbors:\") \n",
    "for rank, index in enumerate(indices[0][:k], start=1): \n",
    "    print(str(rank) + \" ==>\", X[index]) "
   ]
  },
  {
   "cell_type": "code",
   "execution_count": null,
   "metadata": {},
   "outputs": [],
   "source": [
    "plt.figure() \n",
    "plt.title('Nearest neighbors') \n",
    "plt.scatter(X[:, 0], X[:, 1], marker='o', s=75, color='k') \n",
    "plt.scatter(X[indices][0][:][:, 0], X[indices][0][:][:, 1], \n",
    "            marker='o', s=250, color='k', facecolors='none') \n",
    "plt.scatter(test_datapoint[0], test_datapoint[1], \n",
    "            marker='x', s=75, color='k') \n",
    "plt.show() "
   ]
  },
  {
   "cell_type": "code",
   "execution_count": null,
   "metadata": {},
   "outputs": [],
   "source": []
  }
 ],
 "metadata": {
  "kernelspec": {
   "display_name": "Python 3",
   "language": "python",
   "name": "python3"
  },
  "language_info": {
   "codemirror_mode": {
    "name": "ipython",
    "version": 3
   },
   "file_extension": ".py",
   "mimetype": "text/x-python",
   "name": "python",
   "nbconvert_exporter": "python",
   "pygments_lexer": "ipython3",
   "version": "3.6.7"
  }
 },
 "nbformat": 4,
 "nbformat_minor": 2
}
