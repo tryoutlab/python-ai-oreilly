{
 "cells": [
  {
   "cell_type": "code",
   "execution_count": null,
   "metadata": {},
   "outputs": [],
   "source": [
    "from sklearn.datasets import samples_generator \n",
    "from sklearn.feature_selection import SelectKBest, f_regression \n",
    "from sklearn.pipeline import Pipeline \n",
    "from sklearn.ensemble import ExtraTreesClassifier \n",
    "\n",
    "X, y = samples_generator.make_classification(n_samples=150, \n",
    "        n_features=25, n_classes=3, n_informative=6, \n",
    "        n_redundant=0, random_state=7) \n",
    "\n",
    "k_best_selector = SelectKBest(f_regression, k=9) \n",
    "\n",
    "classifier = ExtraTreesClassifier(n_estimators=60, max_depth=4) \n",
    "\n",
    "processor_pipeline = Pipeline([('selector', k_best_selector), \n",
    "                               ('erf', classifier)]) \n",
    "\n",
    "processor_pipeline.set_params(selector__k=7, erf__n_estimators=30) \n",
    "\n",
    "processor_pipeline.fit(X, y) \n",
    "\n",
    "output = processor_pipeline.predict(X) \n",
    "print(\"Predicted output:\\n\", output) \n",
    "\n",
    "print(\"\\nScore:\", processor_pipeline.score(X, y)) \n",
    "\n",
    "# 特徴選択ブロックの状態を得る\n",
    "status = processor_pipeline.named_steps['selector'].get_support() \n",
    "\n",
    "# 選択された特徴の番号を取得して表示する\n",
    "selected = [i for i, x in enumerate(status) if x] \n",
    "print(\"\\nIndices of selected features:\", ', '.join([str(x) for x in selected])) \n"
   ]
  },
  {
   "cell_type": "code",
   "execution_count": null,
   "metadata": {},
   "outputs": [],
   "source": []
  }
 ],
 "metadata": {
  "kernelspec": {
   "display_name": "Python 3",
   "language": "python",
   "name": "python3"
  },
  "language_info": {
   "codemirror_mode": {
    "name": "ipython",
    "version": 3
   },
   "file_extension": ".py",
   "mimetype": "text/x-python",
   "name": "python",
   "nbconvert_exporter": "python",
   "pygments_lexer": "ipython3",
   "version": "3.6.7"
  }
 },
 "nbformat": 4,
 "nbformat_minor": 2
}
