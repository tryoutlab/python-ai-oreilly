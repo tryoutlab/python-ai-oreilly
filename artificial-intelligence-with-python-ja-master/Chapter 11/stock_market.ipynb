{
 "cells": [
  {
   "cell_type": "code",
   "execution_count": null,
   "metadata": {},
   "outputs": [],
   "source": [
    "import datetime \n",
    "import numpy as np \n",
    "import matplotlib.pyplot as plt \n",
    "from hmmlearn.hmm import GaussianHMM \n",
    "import pandas as pd\n",
    "import pandas_datareader.data as pdd\n",
    "%matplotlib inline\n",
    "\n",
    "QUANDL_API_KEY = 'xxxxxxxxxxxxxxxxxxxx'\n",
    "assert QUANDL_API_KEY != 'xxxxxxxxxxxxxxxxxxxx', 'You must set a valid API KEY.'\n",
    "\n",
    "start = datetime.date(1970, 9, 4) \n",
    "end = datetime.date(2016, 5, 17) \n",
    "stock_quotes = pdd.DataReader('WIKI/INTC', 'quandl', start, end,\n",
    "                              access_key=QUANDL_API_KEY)\n",
    "\n",
    "closing_quotes = np.array(stock_quotes['Close'])\n",
    "volumes = np.array(stock_quotes['Volume'])[1:]\n",
    "\n",
    "diff_percentages = 100.0 * np.diff(closing_quotes) / closing_quotes[:-1] \n",
    "training_data = np.column_stack([diff_percentages, volumes]) \n",
    "\n",
    "hmm = GaussianHMM(n_components=7, covariance_type='diag', n_iter=1000) \n",
    "hmm.fit(training_data) \n",
    "\n",
    "num_samples = 300 \n",
    "samples, _ = hmm.sample(num_samples) \n",
    "\n",
    "\n",
    "plt.figure() \n",
    "plt.title('Difference percentages') \n",
    "plt.plot(np.arange(num_samples), samples[:, 0], c='black') \n",
    "plt.show() "
   ]
  },
  {
   "cell_type": "code",
   "execution_count": null,
   "metadata": {},
   "outputs": [],
   "source": [
    "plt.figure() \n",
    "plt.title('Volume of shares') \n",
    "plt.plot(np.arange(num_samples), samples[:, 1], c='black') \n",
    "plt.ylim(ymin=0) \n",
    "plt.show() "
   ]
  }
 ],
 "metadata": {
  "kernelspec": {
   "display_name": "Python 3",
   "language": "python",
   "name": "python3"
  },
  "language_info": {
   "codemirror_mode": {
    "name": "ipython",
    "version": 3
   },
   "file_extension": ".py",
   "mimetype": "text/x-python",
   "name": "python",
   "nbconvert_exporter": "python",
   "pygments_lexer": "ipython3",
   "version": "3.6.7"
  }
 },
 "nbformat": 4,
 "nbformat_minor": 2
}
