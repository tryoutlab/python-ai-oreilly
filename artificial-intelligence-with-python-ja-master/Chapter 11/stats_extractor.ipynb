{
 "cells": [
  {
   "cell_type": "code",
   "execution_count": null,
   "metadata": {},
   "outputs": [],
   "source": [
    "%matplotlib inline\n",
    "import matplotlib.pyplot as plt \n",
    "import pandas as pd \n",
    "%run read_data.ipynb\n",
    "\n",
    "input_file = 'data_2D.txt' \n",
    "x1 = read_data(input_file, 2) \n",
    "x2 = read_data(input_file, 3) \n",
    "data = pd.DataFrame({'dim1': x1, 'dim2': x2}) \n",
    "\n",
    "print('Maximum values for each dimension:') \n",
    "print(data.max()) \n",
    "print('\\nMinimum values for each dimension:') \n",
    "print(data.min()) "
   ]
  },
  {
   "cell_type": "code",
   "execution_count": null,
   "metadata": {},
   "outputs": [],
   "source": [
    "print('Overall mean:') \n",
    "print(data.mean()) \n",
    "print('\\nRow-wise mean:') \n",
    "print(data.mean(axis=1)[:12]) "
   ]
  },
  {
   "cell_type": "code",
   "execution_count": null,
   "metadata": {
    "scrolled": false
   },
   "outputs": [],
   "source": [
    "start = '1968' \n",
    "end = '1975' \n",
    "data[start:end].plot(style=['-','--']) \n",
    "plt.title('Original') \n",
    "plt.show()\n",
    "data[start:end].rolling(window=24).mean().plot(style=['-','--']) \n",
    "plt.title('Rolling mean') \n",
    "plt.show()\n"
   ]
  },
  {
   "cell_type": "code",
   "execution_count": null,
   "metadata": {},
   "outputs": [],
   "source": [
    "print('Correlation coefficients:')\n",
    "print(data.corr()) \n"
   ]
  },
  {
   "cell_type": "code",
   "execution_count": null,
   "metadata": {},
   "outputs": [],
   "source": [
    "data['dim1'].rolling(window=60).corr(other=data['dim2']).plot() \n",
    "plt.title('Rolling correlation') \n",
    "plt.show() \n"
   ]
  }
 ],
 "metadata": {
  "kernelspec": {
   "display_name": "Python 3",
   "language": "python",
   "name": "python3"
  },
  "language_info": {
   "codemirror_mode": {
    "name": "ipython",
    "version": 3
   },
   "file_extension": ".py",
   "mimetype": "text/x-python",
   "name": "python",
   "nbconvert_exporter": "python",
   "pygments_lexer": "ipython3",
   "version": "3.6.7"
  }
 },
 "nbformat": 4,
 "nbformat_minor": 2
}
