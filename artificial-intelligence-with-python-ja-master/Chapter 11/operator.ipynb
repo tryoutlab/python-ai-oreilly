{
 "cells": [
  {
   "cell_type": "code",
   "execution_count": null,
   "metadata": {},
   "outputs": [],
   "source": [
    "%matplotlib inline\n",
    "import matplotlib.pyplot as plt \n",
    "import pandas as pd \n",
    "%run read_data.ipynb\n",
    "\n",
    "input_file = 'data_2D.txt' \n",
    "x1 = read_data(input_file, 2) \n",
    "x2 = read_data(input_file, 3) \n",
    "\n",
    "data = pd.DataFrame({'dim1': x1, 'dim2': x2}) \n",
    "\n",
    "start = '1968' \n",
    "end = '1975' \n",
    "data[start:end].plot(style=['-', '--']) \n",
    "plt.title('Data overlapped on top of each other') \n",
    "plt.show()"
   ]
  },
  {
   "cell_type": "code",
   "execution_count": null,
   "metadata": {},
   "outputs": [],
   "source": [
    "data[(data['dim1'] < 45) & (data['dim2'] > 30)][start:end].plot(style=['-', '--']) \n",
    "plt.title('dim1 < 45 and dim2 > 30') \n",
    "plt.show()"
   ]
  },
  {
   "cell_type": "code",
   "execution_count": null,
   "metadata": {},
   "outputs": [],
   "source": [
    "sum = data[start:end]['dim1'] + data[start:end]['dim2'] \n",
    "sum.plot() \n",
    "plt.title('Summation (dim1 + dim2)') \n",
    "plt.show() "
   ]
  },
  {
   "cell_type": "code",
   "execution_count": null,
   "metadata": {},
   "outputs": [],
   "source": []
  }
 ],
 "metadata": {
  "kernelspec": {
   "display_name": "Python 3",
   "language": "python",
   "name": "python3"
  },
  "language_info": {
   "codemirror_mode": {
    "name": "ipython",
    "version": 3
   },
   "file_extension": ".py",
   "mimetype": "text/x-python",
   "name": "python",
   "nbconvert_exporter": "python",
   "pygments_lexer": "ipython3",
   "version": "3.6.7"
  }
 },
 "nbformat": 4,
 "nbformat_minor": 2
}
