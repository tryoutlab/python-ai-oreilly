{
 "cells": [
  {
   "cell_type": "code",
   "execution_count": null,
   "metadata": {},
   "outputs": [],
   "source": [
    "import numpy as np \n",
    "%matplotlib inline\n",
    "import matplotlib.pyplot as plt \n",
    "\n",
    "data = np.loadtxt('data_1D.txt', delimiter=',') \n",
    "X = np.column_stack([data[:, 2]]) \n",
    "\n",
    "plt.plot(np.arange(X.shape[0]), X[:,0], c='black') \n",
    "plt.title('Training data') \n",
    "plt.show()"
   ]
  },
  {
   "cell_type": "code",
   "execution_count": null,
   "metadata": {
    "scrolled": true
   },
   "outputs": [],
   "source": [
    "from hmmlearn.hmm import GaussianHMM \n",
    "\n",
    "num_components = 10\n",
    "hmm = GaussianHMM(n_components=num_components, \n",
    "        covariance_type='diag', n_iter=1000) \n",
    "print('Training the Hidden Markov Model...') \n",
    "hmm.fit(X) \n",
    "\n",
    "print('Means and variances:') \n",
    "for i in range(hmm.n_components): \n",
    "    print('\\nHidden state', i+1) \n",
    "    print('Mean =', round(hmm.means_[i][0], 2)) \n",
    "    print('Variance =', round(np.diag(hmm.covars_[i])[0], 2)) \n"
   ]
  },
  {
   "cell_type": "code",
   "execution_count": null,
   "metadata": {
    "scrolled": true
   },
   "outputs": [],
   "source": [
    "num_samples = 1200\n",
    "generated_data, _ = hmm.sample(num_samples)\n",
    "plt.plot(np.arange(num_samples), generated_data[:, 0], c='black')\n",
    "plt.title('Generated data')\n",
    "plt.show()"
   ]
  },
  {
   "cell_type": "code",
   "execution_count": null,
   "metadata": {},
   "outputs": [],
   "source": []
  }
 ],
 "metadata": {
  "kernelspec": {
   "display_name": "Python 3",
   "language": "python",
   "name": "python3"
  },
  "language_info": {
   "codemirror_mode": {
    "name": "ipython",
    "version": 3
   },
   "file_extension": ".py",
   "mimetype": "text/x-python",
   "name": "python",
   "nbconvert_exporter": "python",
   "pygments_lexer": "ipython3",
   "version": "3.6.7"
  }
 },
 "nbformat": 4,
 "nbformat_minor": 2
}
