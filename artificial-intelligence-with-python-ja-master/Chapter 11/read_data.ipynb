{
 "cells": [
  {
   "cell_type": "code",
   "execution_count": 1,
   "metadata": {},
   "outputs": [],
   "source": [
    "import numpy as np \n",
    "import pandas as pd \n",
    "\n",
    "def read_data(input_file, i): \n",
    "    def to_date(x, y):\n",
    "        return str(int(x)) + '-' + str(int(y))\n",
    "\n",
    "    input_data = np.loadtxt(input_file, delimiter=',') \n",
    "    start = to_date(input_data[0, 0], input_data[0, 1]) \n",
    "\n",
    "    if input_data[-1, 1] == 12: \n",
    "        year = input_data[-1, 0] + 1 \n",
    "        month = 1 \n",
    "    else: \n",
    "        year = input_data[-1, 0] \n",
    "        month = input_data[-1, 1] + 1 \n",
    "    end = to_date(year, month) \n",
    "    \n",
    "    date_indices = pd.date_range(start, end, freq='M') \n",
    "    output = pd.Series(input_data[:, i], index=date_indices) \n",
    "    return output "
   ]
  },
  {
   "cell_type": "code",
   "execution_count": null,
   "metadata": {},
   "outputs": [],
   "source": []
  }
 ],
 "metadata": {
  "kernelspec": {
   "display_name": "Python 3",
   "language": "python",
   "name": "python3"
  },
  "language_info": {
   "codemirror_mode": {
    "name": "ipython",
    "version": 3
   },
   "file_extension": ".py",
   "mimetype": "text/x-python",
   "name": "python",
   "nbconvert_exporter": "python",
   "pygments_lexer": "ipython3",
   "version": "3.6.7"
  }
 },
 "nbformat": 4,
 "nbformat_minor": 2
}
