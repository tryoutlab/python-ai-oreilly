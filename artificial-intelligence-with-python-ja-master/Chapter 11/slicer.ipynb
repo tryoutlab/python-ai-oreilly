{
 "cells": [
  {
   "cell_type": "code",
   "execution_count": null,
   "metadata": {},
   "outputs": [],
   "source": [
    "%matplotlib inline\n",
    "import matplotlib.pyplot as plt \n",
    "%run read_data.ipynb\n",
    "\n",
    "index = 2 \n",
    "data = read_data('data_2D.txt', index) \n",
    "\n",
    "start = '2003' \n",
    "end = '2011' \n",
    "plt.figure() \n",
    "data[start:end].plot() \n",
    "plt.title('Input data from ' + start + ' to ' + end) \n",
    "plt.show()"
   ]
  },
  {
   "cell_type": "code",
   "execution_count": null,
   "metadata": {},
   "outputs": [],
   "source": [
    "start = '1998-2' \n",
    "end = '2006-7' \n",
    "plt.figure() \n",
    "data[start:end].plot() \n",
    "plt.title('Input data from ' + start + ' to ' + end) \n",
    "plt.show() \n"
   ]
  },
  {
   "cell_type": "code",
   "execution_count": null,
   "metadata": {},
   "outputs": [],
   "source": [
    "d = pd.Series([0,1,2])\n",
    "print(d[0:2])"
   ]
  },
  {
   "cell_type": "code",
   "execution_count": null,
   "metadata": {},
   "outputs": [],
   "source": [
    "d = pd.Series([0,1,2], index=['foo','bar','zot'])\n",
    "print(d['foo':'zot'])"
   ]
  },
  {
   "cell_type": "code",
   "execution_count": null,
   "metadata": {},
   "outputs": [],
   "source": []
  }
 ],
 "metadata": {
  "kernelspec": {
   "display_name": "Python 3",
   "language": "python",
   "name": "python3"
  },
  "language_info": {
   "codemirror_mode": {
    "name": "ipython",
    "version": 3
   },
   "file_extension": ".py",
   "mimetype": "text/x-python",
   "name": "python",
   "nbconvert_exporter": "python",
   "pygments_lexer": "ipython3",
   "version": "3.6.7"
  }
 },
 "nbformat": 4,
 "nbformat_minor": 2
}
