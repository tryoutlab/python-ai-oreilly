{
 "cells": [
  {
   "cell_type": "code",
   "execution_count": null,
   "metadata": {},
   "outputs": [],
   "source": [
    "import string\n",
    "import numpy as np \n",
    "from pystruct.datasets import load_letters \n",
    "from pystruct.models import ChainCRF \n",
    "from pystruct.learners import FrankWolfeSSVM \n",
    "\n",
    "class CRFModel(object): \n",
    "    def __init__(self, c_val=1.0): \n",
    "        self.clf = FrankWolfeSSVM(model=ChainCRF(),\n",
    "                                  C=c_val, max_iter=50) \n",
    "    def load_data(self): \n",
    "        alphabets = load_letters() \n",
    "        X = np.array(alphabets['data']) \n",
    "        y = np.array(alphabets['labels']) \n",
    "        folds = alphabets['folds'] \n",
    "        return X, y, folds \n",
    "    \n",
    "    def train(self, X_train, y_train): \n",
    "        self.clf.fit(X_train, y_train) \n",
    "\n",
    "    def evaluate(self, X_test, y_test): \n",
    "        return self.clf.score(X_test, y_test) \n",
    "    \n",
    "    def classify(self, input_data): \n",
    "        return self.clf.predict(input_data)[0] \n",
    "\n",
    "    \n",
    "def convert_to_letters(indices): \n",
    "    # 全アルファベットのnumpy配列を作る\n",
    "    alphabets = np.array(list(string.ascii_lowercase)) \n",
    "\n",
    "    # 入力インデックスに対応した文字を抽出する\n",
    "    output = np.take(alphabets, indices) \n",
    "    output = ''.join(output) \n",
    "\n",
    "    return output \n",
    "\n",
    "crf = CRFModel(1.0) \n",
    "X, y, folds = crf.load_data() \n",
    "X_train, X_test = X[folds == 1], X[folds != 1] \n",
    "y_train, y_test = y[folds == 1], y[folds != 1] \n",
    "\n",
    "print('Training the CRF model...') \n",
    "crf.train(X_train, y_train) \n",
    "\n",
    "score = crf.evaluate(X_test, y_test) \n",
    "print('Accuracy score =', str(round(score*100, 2)) + '%') \n"
   ]
  },
  {
   "cell_type": "code",
   "execution_count": null,
   "metadata": {
    "scrolled": false
   },
   "outputs": [],
   "source": [
    "indices = range(3000, len(y_test), 200) \n",
    "for index in indices: \n",
    "    print(\"\\nOriginal  =\", convert_to_letters(y_test[index])) \n",
    "    predicted = crf.classify([X_test[index]]) \n",
    "    print(\"Predicted =\", convert_to_letters(predicted)) "
   ]
  },
  {
   "cell_type": "code",
   "execution_count": null,
   "metadata": {},
   "outputs": [],
   "source": []
  }
 ],
 "metadata": {
  "kernelspec": {
   "display_name": "Python 3",
   "language": "python",
   "name": "python3"
  },
  "language_info": {
   "codemirror_mode": {
    "name": "ipython",
    "version": 3
   },
   "file_extension": ".py",
   "mimetype": "text/x-python",
   "name": "python",
   "nbconvert_exporter": "python",
   "pygments_lexer": "ipython3",
   "version": "3.6.7"
  }
 },
 "nbformat": 4,
 "nbformat_minor": 2
}
