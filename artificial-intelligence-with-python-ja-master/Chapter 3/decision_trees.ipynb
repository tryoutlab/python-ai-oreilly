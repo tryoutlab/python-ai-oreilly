{
 "cells": [
  {
   "cell_type": "code",
   "execution_count": null,
   "metadata": {},
   "outputs": [],
   "source": [
    "import numpy as np \n",
    "import matplotlib.pyplot as plt \n",
    "from sklearn.metrics import classification_report \n",
    "from sklearn import model_selection\n",
    "from sklearn.tree import DecisionTreeClassifier \n",
    "%matplotlib inline\n",
    "%run utilities.ipynb\n",
    "\n",
    "input_file = 'data_decision_trees.txt' \n",
    "data = np.loadtxt(input_file, delimiter=',') \n",
    "X, y = data[:, :-1], data[:, -1] \n",
    "\n",
    "class_0 = np.array(X[y==0]) \n",
    "class_1 = np.array(X[y==1]) \n",
    "\n",
    "plt.figure() \n",
    "plt.scatter(class_0[:, 0], class_0[:, 1], s=75, facecolors='black', \n",
    "            edgecolors='black', linewidth=1, marker='x') \n",
    "plt.scatter(class_1[:, 0], class_1[:, 1], s=75, facecolors='white', \n",
    "            edgecolors='black', linewidth=1, marker='o') \n",
    "plt.title('Input data') \n",
    "plt.show()"
   ]
  },
  {
   "cell_type": "code",
   "execution_count": null,
   "metadata": {},
   "outputs": [],
   "source": [
    "X_train, X_test, y_train, y_test = model_selection.train_test_split( \n",
    "            X, y, test_size=0.25, random_state=5) \n",
    "\n",
    "params = {'random_state': 0, 'max_depth': 4} \n",
    "classifier = DecisionTreeClassifier(**params) \n",
    "classifier.fit(X_train, y_train) \n",
    "visualize_classifier(classifier, X_train, y_train, 'Training dataset') "
   ]
  },
  {
   "cell_type": "code",
   "execution_count": null,
   "metadata": {},
   "outputs": [],
   "source": [
    "y_test_pred = classifier.predict(X_test) \n",
    "visualize_classifier(classifier, X_test, y_test, 'Test dataset') "
   ]
  },
  {
   "cell_type": "code",
   "execution_count": null,
   "metadata": {},
   "outputs": [],
   "source": [
    "class_names = ['Class-0', 'Class-1'] \n",
    "print(\"Classifier performance on training dataset\\n\") \n",
    "print(classification_report(y_train, classifier.predict(X_train), \n",
    "      target_names=class_names)) \n",
    "\n",
    "print(\"\\nClassifier performance on test dataset\\n\") \n",
    "print(classification_report(y_test, y_test_pred, target_names=class_names)) "
   ]
  },
  {
   "cell_type": "code",
   "execution_count": null,
   "metadata": {},
   "outputs": [],
   "source": []
  }
 ],
 "metadata": {
  "kernelspec": {
   "display_name": "Python 3",
   "language": "python",
   "name": "python3"
  },
  "language_info": {
   "codemirror_mode": {
    "name": "ipython",
    "version": 3
   },
   "file_extension": ".py",
   "mimetype": "text/x-python",
   "name": "python",
   "nbconvert_exporter": "python",
   "pygments_lexer": "ipython3",
   "version": "3.6.7"
  }
 },
 "nbformat": 4,
 "nbformat_minor": 2
}
