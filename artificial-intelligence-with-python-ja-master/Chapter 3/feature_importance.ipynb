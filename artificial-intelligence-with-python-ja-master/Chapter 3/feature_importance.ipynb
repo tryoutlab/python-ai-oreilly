{
 "cells": [
  {
   "cell_type": "code",
   "execution_count": null,
   "metadata": {},
   "outputs": [],
   "source": [
    "import numpy as np \n",
    "import matplotlib.pyplot as plt\n",
    "%matplotlib inline\n",
    "from sklearn.tree import DecisionTreeRegressor \n",
    "from sklearn.ensemble import AdaBoostRegressor \n",
    "from sklearn import datasets \n",
    "from sklearn.metrics import mean_squared_error, explained_variance_score \n",
    "from sklearn import model_selection\n",
    "from sklearn.utils import shuffle \n",
    "\n",
    "housing_data = datasets.load_boston() \n",
    "\n",
    "X, y = shuffle(housing_data.data, housing_data.target, random_state=7) \n",
    "\n",
    "X_train, X_test, y_train, y_test = model_selection.train_test_split( \n",
    "            X, y, test_size=0.2, random_state=7) \n",
    "\n",
    "regressor = AdaBoostRegressor(DecisionTreeRegressor(max_depth=4), \n",
    "                              n_estimators=400, random_state=7) \n",
    "regressor.fit(X_train, y_train) \n",
    "\n",
    "y_pred = regressor.predict(X_test) \n",
    "mse = mean_squared_error(y_test, y_pred) \n",
    "evs = explained_variance_score(y_test, y_pred ) \n",
    "print(\"ADABOOST REGRESSOR\") \n",
    "print(\"Mean squared error =\", round(mse, 2)) \n",
    "print(\"Explained variance score =\", round(evs, 2)) \n",
    "\n",
    "feature_importances = regressor.feature_importances_ \n",
    "feature_names = housing_data.feature_names \n",
    "\n",
    "feature_importances = 100.0 * (feature_importances / max(feature_importances))\n",
    "\n",
    "index_sorted = np.flipud(np.argsort(feature_importances)) \n",
    "\n",
    "pos = np.arange(index_sorted.shape[0]) + 0.5 \n",
    "\n",
    "plt.figure() \n",
    "plt.bar(pos, feature_importances[index_sorted], align='center') \n",
    "plt.xticks(pos, feature_names[index_sorted]) \n",
    "plt.ylabel('Relative Importance') \n",
    "plt.title('Feature importance using AdaBoost regressor') \n",
    "plt.show() "
   ]
  }
 ],
 "metadata": {
  "kernelspec": {
   "display_name": "Python 3",
   "language": "python",
   "name": "python3"
  },
  "language_info": {
   "codemirror_mode": {
    "name": "ipython",
    "version": 3
   },
   "file_extension": ".py",
   "mimetype": "text/x-python",
   "name": "python",
   "nbconvert_exporter": "python",
   "pygments_lexer": "ipython3",
   "version": "3.6.7"
  }
 },
 "nbformat": 4,
 "nbformat_minor": 2
}
