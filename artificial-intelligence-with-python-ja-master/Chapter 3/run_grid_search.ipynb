{
 "cells": [
  {
   "cell_type": "code",
   "execution_count": null,
   "metadata": {},
   "outputs": [],
   "source": [
    "import numpy as np \n",
    "from sklearn.ensemble import ExtraTreesClassifier \n",
    "from sklearn import model_selection\n",
    "from sklearn.metrics import classification_report \n",
    "\n",
    "input_file = 'data_random_forests.txt' \n",
    "data = np.loadtxt(input_file, delimiter=',') \n",
    "X, y = data[:, :-1], data[:, -1] \n",
    "\n",
    "class_0 = np.array(X[y==0]) \n",
    "class_1 = np.array(X[y==1]) \n",
    "class_2 = np.array(X[y==2]) \n",
    "\n",
    "X_train, X_test, y_train, y_test = model_selection.train_test_split( \n",
    "            X, y, test_size=0.25, random_state=5) \n",
    "\n",
    "parameter_grid = [ {'n_estimators': [100], 'max_depth': [2, 4, 7, 12, 16]}, \n",
    "                   {'max_depth': [4], 'n_estimators': [25, 50, 100, 250]} \n",
    "                 ] \n",
    "\n",
    "#parameter_grid = [ {'n_estimators': [25, 50, 100, 250], \n",
    "#                    'max_depth': [2, 4, 7, 12, 16]} ] \n",
    "\n",
    "metrics = ['precision_weighted', 'recall_weighted'] \n",
    "\n",
    "for metric in metrics: \n",
    "    print(\"\\n##### Searching optimal parameters for\", metric) \n",
    "\n",
    "    classifier = model_selection.GridSearchCV( \n",
    "                  ExtraTreesClassifier(random_state=0), \n",
    "                  parameter_grid, cv=5, scoring=metric) \n",
    "    classifier.fit(X_train, y_train) \n",
    "        \n",
    "    print(\"\\nGrid scores for the parameter grid:\") \n",
    "    for params, avg_score in zip(classifier.cv_results_['params'],\n",
    "                                 classifier.cv_results_['mean_test_score']): \n",
    "        print(params, '-->', round(avg_score, 3)) \n",
    "\n",
    "    print(\"\\nBest parameters:\", classifier.best_params_) \n",
    "    \n",
    "    y_pred = classifier.predict(X_test) \n",
    "    print(\"\\nPerformance report:\\n\") \n",
    "    print(classification_report(y_test, y_pred)) "
   ]
  },
  {
   "cell_type": "code",
   "execution_count": null,
   "metadata": {},
   "outputs": [],
   "source": []
  }
 ],
 "metadata": {
  "kernelspec": {
   "display_name": "Python 3",
   "language": "python",
   "name": "python3"
  },
  "language_info": {
   "codemirror_mode": {
    "name": "ipython",
    "version": 3
   },
   "file_extension": ".py",
   "mimetype": "text/x-python",
   "name": "python",
   "nbconvert_exporter": "python",
   "pygments_lexer": "ipython3",
   "version": "3.6.7"
  }
 },
 "nbformat": 4,
 "nbformat_minor": 2
}
