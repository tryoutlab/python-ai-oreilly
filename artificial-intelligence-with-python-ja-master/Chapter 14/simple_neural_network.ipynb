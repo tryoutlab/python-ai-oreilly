{
 "cells": [
  {
   "cell_type": "code",
   "execution_count": null,
   "metadata": {},
   "outputs": [],
   "source": [
    "import numpy as np \n",
    "import matplotlib.pyplot as plt \n",
    "import neurolab as nl \n",
    "%matplotlib inline\n",
    "\n",
    "def plot4(data, labels):\n",
    "    plt.figure() \n",
    "    ind = labels[:,0] * 2 + labels[:,1]\n",
    "    plots = []\n",
    "    for i, m in enumerate(('o', '.', '+', 'x')):\n",
    "        p = plt.scatter(data[ind==i,0], data[ind==i,1], marker=m, c='black')\n",
    "        plots.append(p)\n",
    "    plt.xlabel('Dimension 1') \n",
    "    plt.ylabel('Dimension 2') \n",
    "    plt.title('Input data') \n",
    "    plt.legend(plots, ['0 0', '0 1', '1 0', '1 1'], bbox_to_anchor=(1.2, 1))\n",
    "    plt.show()\n",
    "\n",
    "text = np.loadtxt('data_simple_nn.txt') \n",
    "data = text[:, 0:2] \n",
    "labels = text[:, 2:] \n",
    "\n",
    "plot4(data, labels)"
   ]
  },
  {
   "cell_type": "code",
   "execution_count": null,
   "metadata": {},
   "outputs": [],
   "source": [
    "dim1_min, dim1_max = data[:,0].min(), data[:,0].max() \n",
    "dim2_min, dim2_max = data[:,1].min(), data[:,1].max() \n",
    "dim1 = [dim1_min, dim1_max] \n",
    "dim2 = [dim2_min, dim2_max] \n",
    "num_output = 2\n",
    "\n",
    "nn = nl.net.newp([dim1, dim2], num_output) \n",
    "\n",
    "#nn = nl.net.newff([dim1, dim2], [8, num_output]) \n",
    "#nn.trainf = nl.train.train_gd \n",
    "\n",
    "error_progress = nn.train(data, labels, epochs=100, show=20, lr=0.03) \n",
    "\n",
    "plt.figure() \n",
    "plt.plot(error_progress) \n",
    "plt.xlabel('Number of epochs') \n",
    "plt.ylabel('Training error') \n",
    "plt.title('Training error progress') \n",
    "plt.grid() \n",
    "plt.show() "
   ]
  },
  {
   "cell_type": "code",
   "execution_count": null,
   "metadata": {},
   "outputs": [],
   "source": [
    "print('Test results:') \n",
    "data_test = [[0.4, 4.3], [4.4, 0.6], [4.7, 8.1]] \n",
    "for item in data_test: \n",
    "    print(item, '-->', nn.sim([item])[0])   "
   ]
  },
  {
   "cell_type": "code",
   "execution_count": null,
   "metadata": {},
   "outputs": [],
   "source": [
    "xy = np.array(data_test)\n",
    "out = np.where(nn.sim(xy) < 0.5, 0, 1)\n",
    "plot4(xy, out)\n",
    "\n",
    "x = np.random.rand(100) * (dim1_max - dim1_min) + dim1_min\n",
    "y = np.random.rand(100) * (dim2_max - dim2_min) + dim2_min\n",
    "xy = np.hstack([x.reshape(-1,1), y.reshape(-1,1)])\n",
    "out = np.where(nn.sim(xy) < 0.5, 0, 1)\n",
    "plot4(xy, out)"
   ]
  },
  {
   "cell_type": "code",
   "execution_count": null,
   "metadata": {},
   "outputs": [],
   "source": []
  }
 ],
 "metadata": {
  "kernelspec": {
   "display_name": "Python 3",
   "language": "python",
   "name": "python3"
  },
  "language_info": {
   "codemirror_mode": {
    "name": "ipython",
    "version": 3
   },
   "file_extension": ".py",
   "mimetype": "text/x-python",
   "name": "python",
   "nbconvert_exporter": "python",
   "pygments_lexer": "ipython3",
   "version": "3.6.7"
  }
 },
 "nbformat": 4,
 "nbformat_minor": 2
}
