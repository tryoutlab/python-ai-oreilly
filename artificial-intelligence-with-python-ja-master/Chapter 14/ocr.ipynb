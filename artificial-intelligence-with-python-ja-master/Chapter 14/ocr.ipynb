{
 "cells": [
  {
   "cell_type": "code",
   "execution_count": null,
   "metadata": {},
   "outputs": [],
   "source": [
    "import numpy as np\n",
    "import neurolab as nl\n",
    "\n",
    "input_file = 'letter.data'\n",
    "\n",
    "num_datapoints = 50\n",
    "num_train = int(0.9 * num_datapoints)\n",
    "num_test = num_datapoints - num_train\n",
    "\n",
    "orig_labels = 'omandig'\n",
    "num_orig_labels = len(orig_labels)\n",
    "\n",
    "data = []\n",
    "labels = []\n",
    "\n",
    "with open(input_file, 'r') as f:\n",
    "    for line in f.readlines():\n",
    "        list_vals = line.split('\\t')\n",
    "\n",
    "        if list_vals[1] not in orig_labels:\n",
    "            continue\n",
    "\n",
    "        label = np.zeros((num_orig_labels, 1))\n",
    "        label[orig_labels.index(list_vals[1])] = 1\n",
    "        labels.append(label)\n",
    "        \n",
    "        cur_char = np.array([float(x) for x in list_vals[6:-1]])\n",
    "        data.append(cur_char)\n",
    "\n",
    "        if len(data) >= num_datapoints:\n",
    "            break\n",
    "\n",
    "labels = np.array(labels).reshape(-1, num_orig_labels)\n",
    "num_dims = 8 * 16\n",
    "data = np.array(data).reshape(-1, num_dims)\n",
    "\n",
    "nn = nl.net.newff([[0, 1]] * num_dims, [128, 16, num_orig_labels])\n",
    "nn.trainf = nl.train.train_gd\n",
    "\n",
    "error_progress = nn.train(data[:num_train,:], labels[:num_train,:], \n",
    "                          epochs=10000, show=100, goal=0.01)"
   ]
  },
  {
   "cell_type": "code",
   "execution_count": null,
   "metadata": {},
   "outputs": [],
   "source": [
    "print('Testing on unknown data:') \n",
    "predicted = nn.sim(data[num_train:, :]) \n",
    "for i in range(num_test): \n",
    "    print('\\nOriginal:', orig_labels[np.argmax(labels[num_train+i])]) \n",
    "    print('Predicted:', orig_labels[np.argmax(predicted[i])]) "
   ]
  },
  {
   "cell_type": "code",
   "execution_count": null,
   "metadata": {},
   "outputs": [],
   "source": []
  }
 ],
 "metadata": {
  "kernelspec": {
   "display_name": "Python 3",
   "language": "python",
   "name": "python3"
  },
  "language_info": {
   "codemirror_mode": {
    "name": "ipython",
    "version": 3
   },
   "file_extension": ".py",
   "mimetype": "text/x-python",
   "name": "python",
   "nbconvert_exporter": "python",
   "pygments_lexer": "ipython3",
   "version": "3.6.7"
  }
 },
 "nbformat": 4,
 "nbformat_minor": 2
}
