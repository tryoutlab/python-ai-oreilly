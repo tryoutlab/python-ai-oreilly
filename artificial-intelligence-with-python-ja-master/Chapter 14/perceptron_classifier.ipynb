{
 "cells": [
  {
   "cell_type": "code",
   "execution_count": null,
   "metadata": {},
   "outputs": [],
   "source": [
    "import numpy as np \n",
    "import matplotlib.pyplot as plt \n",
    "import neurolab as nl \n",
    "%matplotlib inline\n",
    "\n",
    "text = np.loadtxt('data_perceptron.txt') \n",
    "data = text[:, :2] \n",
    "labels = text[:, 2]\n",
    "\n",
    "plt.figure() \n",
    "plt.scatter(data[labels==0, 0], data[labels==0,1], marker='o')\n",
    "plt.scatter(data[labels==1, 0], data[labels==1,1], marker='x')\n",
    "plt.xlabel('Dimension 1') \n",
    "plt.ylabel('Dimension 2') \n",
    "plt.title('Input data') \n",
    "plt.show()"
   ]
  },
  {
   "cell_type": "code",
   "execution_count": null,
   "metadata": {},
   "outputs": [],
   "source": [
    "dim1_min, dim1_max, dim2_min, dim2_max = 0, 1, 0, 1 \n",
    "dim1 = [dim1_min, dim1_max] \n",
    "dim2 = [dim2_min, dim2_max] \n",
    "num_output = 1\n",
    "\n",
    "perceptron = nl.net.newp([dim1, dim2], num_output) \n",
    "error_progress = perceptron.train(data, labels.reshape(-1,1), epochs=100, show=20, lr=0.03) \n",
    "\n",
    "plt.figure() \n",
    "plt.plot(error_progress) \n",
    "plt.xlabel('Number of epochs') \n",
    "plt.ylabel('Training error') \n",
    "plt.title('Training error progress') \n",
    "plt.grid() \n",
    "plt.show() "
   ]
  },
  {
   "cell_type": "code",
   "execution_count": null,
   "metadata": {},
   "outputs": [],
   "source": [
    "xy = np.random.rand(100, 2)\n",
    "out = perceptron.sim(xy).ravel()\n",
    "\n",
    "plt.figure()\n",
    "plt.scatter(xy[out==0,0], xy[out==0,1], marker='o')\n",
    "plt.scatter(xy[out==1,0], xy[out==1,1], marker='x')\n",
    "plt.xlabel('Dimension 1') \n",
    "plt.ylabel('Dimension 2') \n",
    "plt.show()"
   ]
  },
  {
   "cell_type": "code",
   "execution_count": null,
   "metadata": {},
   "outputs": [],
   "source": []
  }
 ],
 "metadata": {
  "kernelspec": {
   "display_name": "Python 3",
   "language": "python",
   "name": "python3"
  },
  "language_info": {
   "codemirror_mode": {
    "name": "ipython",
    "version": 3
   },
   "file_extension": ".py",
   "mimetype": "text/x-python",
   "name": "python",
   "nbconvert_exporter": "python",
   "pygments_lexer": "ipython3",
   "version": "3.6.7"
  }
 },
 "nbformat": 4,
 "nbformat_minor": 2
}
