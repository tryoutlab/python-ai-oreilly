{
 "cells": [
  {
   "cell_type": "code",
   "execution_count": null,
   "metadata": {},
   "outputs": [],
   "source": [
    "import numpy as np \n",
    "import matplotlib.pyplot as plt \n",
    "import neurolab as nl \n",
    "%matplotlib inline\n",
    "\n",
    "def get_data(n):\n",
    "    wave_1 = 0.5 * np.sin(np.arange(0, n)) \n",
    "    wave_2 = 3.6 * np.sin(np.arange(0, n)) \n",
    "    wave_3 = 1.1 * np.sin(np.arange(0, n)) \n",
    "    wave_4 = 4.7 * np.sin(np.arange(0, n)) \n",
    "\n",
    "    amp_1 = np.ones(n) \n",
    "    amp_2 = 2.1 + np.zeros(n) \n",
    "    amp_3 = 3.2 * np.ones(n) \n",
    "    amp_4 = 0.8 + np.zeros(n) \n",
    "\n",
    "    w = np.array([wave_1, wave_2, wave_3, wave_4]).reshape(-1, 1) \n",
    "    a = np.array([[amp_1, amp_2, amp_3, amp_4]]).reshape(-1, 1) \n",
    "    return w, a\n",
    "\n",
    "num_points = 40 \n",
    "wave, amp = get_data(num_points)\n",
    "\n",
    "plt.figure()\n",
    "p1, = plt.plot(wave)\n",
    "p2, = plt.plot(amp)\n",
    "plt.legend([p1, p2], ['wave', 'amp'])\n",
    "plt.show()"
   ]
  },
  {
   "cell_type": "code",
   "execution_count": null,
   "metadata": {},
   "outputs": [],
   "source": [
    "nn = nl.net.newelm([[-2, 2]], [10, 1], [nl.trans.TanSig(), nl.trans.PureLin()]) \n",
    "nn.layers[0].initf = nl.init.InitRand([-0.1, 0.1], 'wb') \n",
    "nn.layers[1].initf = nl.init.InitRand([-0.1, 0.1], 'wb') \n",
    "nn.init() \n",
    "\n",
    "error_progress = nn.train(wave, amp, epochs=1200, show=100, goal=0.01) \n",
    "\n",
    "plt.figure()\n",
    "plt.plot(error_progress) \n",
    "plt.xlabel('Number of epochs') \n",
    "plt.ylabel('Error (MSE)') \n",
    "plt.show()"
   ]
  },
  {
   "cell_type": "code",
   "execution_count": null,
   "metadata": {},
   "outputs": [],
   "source": [
    "def visualize_output(original, predicted, xlim=None):\n",
    "    plt.figure()\n",
    "    p1, = plt.plot(original)\n",
    "    p2, = plt.plot(predicted)\n",
    "    plt.legend([p1, p2], ['Original', 'Predicted'])\n",
    "    if xlim is not None:\n",
    "        plt.xlim(xlim)\n",
    "    plt.show()\n",
    "\n",
    "output = nn.sim(wave)\n",
    "visualize_output(amp, output)"
   ]
  },
  {
   "cell_type": "code",
   "execution_count": null,
   "metadata": {},
   "outputs": [],
   "source": [
    "i, o = get_data(82)\n",
    "p = nn.sim(i)\n",
    "visualize_output(o, p, [0, 300])\n",
    "\n",
    "i, o = get_data(30)\n",
    "p = nn.sim(i)\n",
    "visualize_output(o, p, [0, 300])"
   ]
  },
  {
   "cell_type": "code",
   "execution_count": null,
   "metadata": {},
   "outputs": [],
   "source": []
  }
 ],
 "metadata": {
  "kernelspec": {
   "display_name": "Python 3",
   "language": "python",
   "name": "python3"
  },
  "language_info": {
   "codemirror_mode": {
    "name": "ipython",
    "version": 3
   },
   "file_extension": ".py",
   "mimetype": "text/x-python",
   "name": "python",
   "nbconvert_exporter": "python",
   "pygments_lexer": "ipython3",
   "version": "3.6.7"
  }
 },
 "nbformat": 4,
 "nbformat_minor": 2
}
