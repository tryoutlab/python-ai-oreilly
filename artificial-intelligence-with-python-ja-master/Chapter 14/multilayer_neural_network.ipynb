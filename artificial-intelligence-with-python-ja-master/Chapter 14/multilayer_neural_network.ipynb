{
 "cells": [
  {
   "cell_type": "code",
   "execution_count": null,
   "metadata": {},
   "outputs": [],
   "source": [
    "import numpy as np \n",
    "import matplotlib.pyplot as plt \n",
    "import neurolab as nl \n",
    "%matplotlib inline\n",
    "\n",
    "min_val = -15 \n",
    "max_val = 15 \n",
    "num_points = 130 \n",
    "x = np.linspace(min_val, max_val, num_points) \n",
    "y = 3 * np.square(x) + 5 \n",
    "y /= np.linalg.norm(y) \n",
    "\n",
    "data = x.reshape(-1, 1) \n",
    "labels = y.reshape(-1, 1) \n",
    "\n",
    "plt.figure() \n",
    "plt.scatter(data, labels) \n",
    "plt.xlabel('Dimension 1') \n",
    "plt.ylabel('Dimension 2') \n",
    "plt.title('Input data') \n",
    "plt.show()"
   ]
  },
  {
   "cell_type": "code",
   "execution_count": null,
   "metadata": {},
   "outputs": [],
   "source": [
    "nn = nl.net.newff([[min_val, max_val]], [10, 6, 1]) \n",
    "nn.trainf = nl.train.train_gd \n",
    "error_progress = nn.train(data, labels, epochs=2000, show=100, goal=0.01) \n",
    "\n",
    "plt.figure() \n",
    "plt.plot(error_progress) \n",
    "plt.xlabel('Number of epochs') \n",
    "plt.ylabel('Error') \n",
    "plt.title('Training error progress') \n",
    "plt.show()"
   ]
  },
  {
   "cell_type": "code",
   "execution_count": null,
   "metadata": {},
   "outputs": [],
   "source": [
    "output = nn.sim(data) \n",
    "\n",
    "plt.figure() \n",
    "plt.scatter(data, labels, marker='.') \n",
    "plt.scatter(data, output) \n",
    "plt.title('Actual vs predicted') \n",
    "plt.show() "
   ]
  },
  {
   "cell_type": "code",
   "execution_count": null,
   "metadata": {},
   "outputs": [],
   "source": []
  }
 ],
 "metadata": {
  "kernelspec": {
   "display_name": "Python 3",
   "language": "python",
   "name": "python3"
  },
  "language_info": {
   "codemirror_mode": {
    "name": "ipython",
    "version": 3
   },
   "file_extension": ".py",
   "mimetype": "text/x-python",
   "name": "python",
   "nbconvert_exporter": "python",
   "pygments_lexer": "ipython3",
   "version": "3.6.7"
  }
 },
 "nbformat": 4,
 "nbformat_minor": 2
}
