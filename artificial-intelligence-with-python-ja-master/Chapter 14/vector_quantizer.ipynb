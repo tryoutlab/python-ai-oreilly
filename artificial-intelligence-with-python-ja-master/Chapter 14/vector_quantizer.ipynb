{
 "cells": [
  {
   "cell_type": "code",
   "execution_count": null,
   "metadata": {},
   "outputs": [],
   "source": [
    "import numpy as np \n",
    "import matplotlib.pyplot as plt \n",
    "import neurolab as nl \n",
    "%matplotlib inline\n",
    "\n",
    "text = np.loadtxt('data_vector_quantization.txt') \n",
    "data = text[:, 0:2] \n",
    "labels = text[:, 2:] \n",
    "\n",
    "num_input_neurons = 10 \n",
    "num_output_neurons = 4 \n",
    "weights = [1/num_output_neurons] * num_output_neurons \n",
    "nn = nl.net.newlvq(nl.tool.minmax(data), num_input_neurons, weights) \n",
    "\n",
    "nn.train(data, labels, epochs=500, goal=-1) \n",
    "\n",
    "xx, yy = np.meshgrid(np.arange(0, 10, 0.2), np.arange(0, 10, 0.2)) \n",
    "xx = xx.reshape(-1, 1) \n",
    "yy = yy.reshape(-1, 1) \n",
    "grid_xy = np.hstack([xx, yy])\n",
    "\n",
    "grid_eval = nn.sim(grid_xy) \n",
    "\n",
    "grid_1 = grid_xy[grid_eval[:,0] == 1] \n",
    "grid_2 = grid_xy[grid_eval[:,1] == 1] \n",
    "grid_3 = grid_xy[grid_eval[:,2] == 1] \n",
    "grid_4 = grid_xy[grid_eval[:,3] == 1] \n",
    "\n",
    "plt.plot(grid_1[:,0], grid_1[:,1], 'm.', \n",
    "         grid_2[:,0], grid_2[:,1], 'bx', \n",
    "         grid_3[:,0], grid_3[:,1], 'c^', \n",
    "         grid_4[:,0], grid_4[:,1], 'y+') \n",
    "\n",
    "class_1 = data[labels[:,0] == 1] \n",
    "class_2 = data[labels[:,1] == 1] \n",
    "class_3 = data[labels[:,2] == 1] \n",
    "class_4 = data[labels[:,3] == 1] \n",
    "\n",
    "plt.plot(class_1[:,0], class_1[:,1], 'ko', \n",
    "         class_2[:,0], class_2[:,1], 'ko', \n",
    "         class_3[:,0], class_3[:,1], 'ko', \n",
    "         class_4[:,0], class_4[:,1], 'ko') \n",
    "\n",
    "plt.axis([0, 10, 0, 10]) \n",
    "plt.xlabel('Dimension 1') \n",
    "plt.ylabel('Dimension 2') \n",
    "plt.title('Vector quantization') \n",
    "\n",
    "plt.show() "
   ]
  },
  {
   "cell_type": "code",
   "execution_count": null,
   "metadata": {},
   "outputs": [],
   "source": []
  }
 ],
 "metadata": {
  "kernelspec": {
   "display_name": "Python 3",
   "language": "python",
   "name": "python3"
  },
  "language_info": {
   "codemirror_mode": {
    "name": "ipython",
    "version": 3
   },
   "file_extension": ".py",
   "mimetype": "text/x-python",
   "name": "python",
   "nbconvert_exporter": "python",
   "pygments_lexer": "ipython3",
   "version": "3.6.7"
  }
 },
 "nbformat": 4,
 "nbformat_minor": 2
}
