{
 "cells": [
  {
   "cell_type": "code",
   "execution_count": null,
   "metadata": {},
   "outputs": [],
   "source": [
    "import simpleai.search as ss\n",
    "\n",
    "class CustomProblem(ss.SearchProblem): \n",
    "    def set_target(self, target_string): \n",
    "        self.target_string = target_string \n",
    "        \n",
    "    def actions(self, cur_state):\n",
    "        if len(cur_state) < len(self.target_string):\n",
    "            alphabets = 'abcdefghijklmnopqrstuvwxyz'\n",
    "            return list(alphabets + ' ' + alphabets.upper())\n",
    "        else:\n",
    "            return []\n",
    "\n",
    "    def result(self, cur_state, action): \n",
    "        return cur_state + action \n",
    "\n",
    "    def is_goal(self, cur_state): \n",
    "        return cur_state == self.target_string \n",
    "\n",
    "    def heuristic(self, cur_state):\n",
    "        # 現在の文字列を目標の文字列と比較する\n",
    "        dist = sum([1 if cur_state[i] != self.target_string[i] else 0\n",
    "                    for i in range(len(cur_state))])\n",
    "\n",
    "        # 文字列の長さの差を求める\n",
    "        diff = len(self.target_string) - len(cur_state)\n",
    "\n",
    "        return dist + diff\n",
    "\n",
    "problem = CustomProblem() \n",
    "\n",
    "input_string = 'Artificial Intelligence'\n",
    "initial_state = ''\n",
    "#input_string = 'Artificial Intelligence with Python'\n",
    "#initial_state = 'Artificial Inte'\n",
    "\n",
    "problem.set_target(input_string) \n",
    "problem.initial_state = initial_state \n",
    "\n",
    "output = ss.greedy(problem) \n",
    "\n",
    "print('Target string:', input_string) \n",
    "print('\\nPath to the solution:') \n",
    "for item in output.path(): \n",
    "    print(item) "
   ]
  },
  {
   "cell_type": "code",
   "execution_count": null,
   "metadata": {},
   "outputs": [],
   "source": []
  }
 ],
 "metadata": {
  "kernelspec": {
   "display_name": "Python 3",
   "language": "python",
   "name": "python3"
  },
  "language_info": {
   "codemirror_mode": {
    "name": "ipython",
    "version": 3
   },
   "file_extension": ".py",
   "mimetype": "text/x-python",
   "name": "python",
   "nbconvert_exporter": "python",
   "pygments_lexer": "ipython3",
   "version": "3.6.7"
  }
 },
 "nbformat": 4,
 "nbformat_minor": 2
}
