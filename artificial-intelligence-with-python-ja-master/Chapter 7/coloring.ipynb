{
 "cells": [
  {
   "cell_type": "code",
   "execution_count": null,
   "metadata": {},
   "outputs": [],
   "source": [
    "from simpleai.search import CspProblem, backtrack \n",
    "\n",
    "names = ('Mark', 'Julia', 'Steve', 'Amanda', 'Brian', \n",
    "         'Joanne', 'Derek', 'Allan', 'Michelle', 'Kelly', 'Chris')\n",
    "\n",
    "colors = dict((name, ['red', 'green', 'blue', 'gray']) for name in names)\n",
    "\n",
    "def constraint_func(names, values): \n",
    "    return values[0] != values[1]  \n",
    "\n",
    "constraints = [ \n",
    "  (('Mark', 'Julia'), constraint_func), \n",
    "  (('Mark', 'Steve'), constraint_func), \n",
    "  (('Julia', 'Steve'), constraint_func), \n",
    "  (('Julia', 'Amanda'), constraint_func), \n",
    "  (('Julia', 'Derek'), constraint_func), \n",
    "  (('Julia', 'Brian'), constraint_func), \n",
    "  (('Steve', 'Amanda'), constraint_func), \n",
    "  (('Steve', 'Allan'), constraint_func), \n",
    "  (('Steve', 'Michelle'), constraint_func), \n",
    "  (('Amanda', 'Michelle'), constraint_func), \n",
    "  (('Amanda', 'Joanne'), constraint_func), \n",
    "  (('Amanda', 'Derek'), constraint_func), \n",
    "  (('Brian', 'Derek'), constraint_func), \n",
    "  (('Brian', 'Kelly'), constraint_func), \n",
    "  (('Joanne', 'Michelle'), constraint_func), \n",
    "  (('Joanne', 'Derek'), constraint_func),\n",
    "  (('Joanne', 'Chris'), constraint_func),     \n",
    "  (('Derek', 'Kelly'), constraint_func), \n",
    "  (('Derek', 'Chris'), constraint_func),     \n",
    "  (('Kelly', 'Chris'), constraint_func), \n",
    "  (('Allan', 'Michelle'), constraint_func), \n",
    "] \n",
    "\n",
    "problem = CspProblem(names, colors, constraints) \n",
    "output = backtrack(problem) \n",
    "print('Color mapping:') \n",
    "for k, v in output.items(): \n",
    "    print(k, '==>', v) "
   ]
  },
  {
   "cell_type": "code",
   "execution_count": null,
   "metadata": {},
   "outputs": [],
   "source": []
  }
 ],
 "metadata": {
  "kernelspec": {
   "display_name": "Python 3",
   "language": "python",
   "name": "python3"
  },
  "language_info": {
   "codemirror_mode": {
    "name": "ipython",
    "version": 3
   },
   "file_extension": ".py",
   "mimetype": "text/x-python",
   "name": "python",
   "nbconvert_exporter": "python",
   "pygments_lexer": "ipython3",
   "version": "3.6.7"
  }
 },
 "nbformat": 4,
 "nbformat_minor": 2
}
