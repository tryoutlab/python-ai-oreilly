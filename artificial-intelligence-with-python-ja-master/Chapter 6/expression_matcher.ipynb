{
 "cells": [
  {
   "cell_type": "code",
   "execution_count": null,
   "metadata": {},
   "outputs": [],
   "source": [
    "from kanren import run, var, fact \n",
    "import kanren.assoccomm as la \n",
    "\n",
    "add = 'addition' \n",
    "mul = 'multiplication' \n",
    "\n",
    "fact(la.commutative, mul) \n",
    "fact(la.commutative, add) \n",
    "fact(la.associative, mul) \n",
    "fact(la.associative, add) \n",
    "\n",
    "a, b, c = var('a'), var('b'), var('c') \n",
    "\n",
    "expression_orig = (add, (mul, 3, -2), (mul, (add, 1, (mul, 2, 3)), -1)) \n",
    "expression1 = (add, (mul, (add, 1, (mul, 2, a)), b), (mul, 3, c)) \n",
    "expression2 = (add, (mul, c, 3), (mul, b, (add, (mul, 2, a), 1))) \n",
    "expression3 = (add, (add, (mul, (mul, 2, a), b), b), (mul, 3, c)) \n",
    "\n",
    "print(run(0, (a, b, c), la.eq_assoccomm(expression1, expression_orig))) \n",
    "print(run(0, (a, b, c), la.eq_assoccomm(expression2, expression_orig))) \n",
    "print(run(0, (a, b, c), la.eq_assoccomm(expression3, expression_orig))) "
   ]
  },
  {
   "cell_type": "code",
   "execution_count": null,
   "metadata": {},
   "outputs": [],
   "source": []
  }
 ],
 "metadata": {
  "kernelspec": {
   "display_name": "Python 3",
   "language": "python",
   "name": "python3"
  },
  "language_info": {
   "codemirror_mode": {
    "name": "ipython",
    "version": 3
   },
   "file_extension": ".py",
   "mimetype": "text/x-python",
   "name": "python",
   "nbconvert_exporter": "python",
   "pygments_lexer": "ipython3",
   "version": "3.6.7"
  }
 },
 "nbformat": 4,
 "nbformat_minor": 2
}
