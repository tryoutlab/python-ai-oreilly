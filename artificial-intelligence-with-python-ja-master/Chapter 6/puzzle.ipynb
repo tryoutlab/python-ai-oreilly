{
 "cells": [
  {
   "cell_type": "code",
   "execution_count": null,
   "metadata": {},
   "outputs": [],
   "source": [
    "from kanren import * \n",
    "\n",
    "people = var() \n",
    "\n",
    "rules = lall( \n",
    "    (eq, (var(), var(), var(), var()), people), \n",
    "    (membero, ('Steve', var(), 'blue', var()), people), \n",
    "    (membero, (var(), 'cat', var(), 'Canada'), people),\n",
    "    (membero, ('Matthew', var(), var(), 'USA'), people),\n",
    "    (membero, (var(), var(), 'black', 'Australia'), people),\n",
    "    (membero, ('Jack', 'cat', var(), var()), people),\n",
    "    (membero, ('Alfred', var(), var(), 'Australia'), people),\n",
    "    (membero, (var(), 'dog', var(), 'France'), people),\n",
    "    (membero, (var(), 'rabbit', var(), var()), people) \n",
    ")\n",
    "  \n",
    "solutions = run(0, people, rules)    \n",
    "output = [house for house in solutions[0] if 'rabbit' in house][0][0]     \n",
    "print(output + ' is the owner of the rabbit')     "
   ]
  },
  {
   "cell_type": "code",
   "execution_count": null,
   "metadata": {},
   "outputs": [],
   "source": [
    "print('Here are all the details:') \n",
    "attribs = ['Name', 'Pet', 'Color', 'Country'] \n",
    "print('\\n' + '\\t\\t'.join(attribs)) \n",
    "print('=' * 57) \n",
    "\n",
    "for item in solutions[0]: \n",
    "    print('\\t\\t'.join([str(x) for x in item])) "
   ]
  },
  {
   "cell_type": "code",
   "execution_count": null,
   "metadata": {},
   "outputs": [],
   "source": []
  }
 ],
 "metadata": {
  "kernelspec": {
   "display_name": "Python 3",
   "language": "python",
   "name": "python3"
  },
  "language_info": {
   "codemirror_mode": {
    "name": "ipython",
    "version": 3
   },
   "file_extension": ".py",
   "mimetype": "text/x-python",
   "name": "python",
   "nbconvert_exporter": "python",
   "pygments_lexer": "ipython3",
   "version": "3.6.7"
  }
 },
 "nbformat": 4,
 "nbformat_minor": 2
}
