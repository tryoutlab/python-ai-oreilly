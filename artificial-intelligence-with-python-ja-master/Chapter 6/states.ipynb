{
 "cells": [
  {
   "cell_type": "code",
   "execution_count": null,
   "metadata": {},
   "outputs": [],
   "source": [
    "from kanren import run, fact, eq, Relation, var \n",
    "\n",
    "coastal = Relation() \n",
    "adjacent = Relation() \n",
    "\n",
    "file_coastal = 'coastal_states.txt' \n",
    "with open(file_coastal, 'r') as f: \n",
    "    line = f.read() \n",
    "    coastal_states = line.split(',') \n",
    "\n",
    "for state in coastal_states: \n",
    "    fact(coastal, state) \n",
    "    \n",
    "file_adjacent = 'adjacent_states.txt' \n",
    "with open(file_adjacent, 'r') as f: \n",
    "    adjlist = [line.strip().split(',') for line in f\n",
    "                   if line and line[0].isalpha()] \n",
    "\n",
    "for L in adjlist: \n",
    "    head, tail = L[0], L[1:] \n",
    "    for state in tail: \n",
    "        fact(adjacent, head, state) "
   ]
  },
  {
   "cell_type": "code",
   "execution_count": null,
   "metadata": {},
   "outputs": [],
   "source": [
    "x = var() \n",
    "output = run(0, x, adjacent('Nevada', 'Louisiana')) \n",
    "print('Yes' if len(output) else 'No') "
   ]
  },
  {
   "cell_type": "code",
   "execution_count": null,
   "metadata": {},
   "outputs": [],
   "source": [
    "output = run(0, x, adjacent('Oregon', x)) \n",
    "for item in output: \n",
    "    print(item) "
   ]
  },
  {
   "cell_type": "code",
   "execution_count": null,
   "metadata": {},
   "outputs": [],
   "source": [
    "output = run(0, x, adjacent('Mississippi', x), coastal(x)) \n",
    "for item in output: \n",
    "    print(item) "
   ]
  },
  {
   "cell_type": "code",
   "execution_count": null,
   "metadata": {},
   "outputs": [],
   "source": [
    "y= var()\n",
    "output = run(7, x, coastal(y), adjacent(x, y)) \n",
    "for item in output: \n",
    "    print(item) "
   ]
  },
  {
   "cell_type": "code",
   "execution_count": null,
   "metadata": {},
   "outputs": [],
   "source": [
    "output = run(0, x, adjacent('Arkansas', x), adjacent('Kentucky', x)) \n",
    "for item in output: \n",
    "    print(item) "
   ]
  },
  {
   "cell_type": "code",
   "execution_count": null,
   "metadata": {},
   "outputs": [],
   "source": []
  }
 ],
 "metadata": {
  "kernelspec": {
   "display_name": "Python 3",
   "language": "python",
   "name": "python3"
  },
  "language_info": {
   "codemirror_mode": {
    "name": "ipython",
    "version": 3
   },
   "file_extension": ".py",
   "mimetype": "text/x-python",
   "name": "python",
   "nbconvert_exporter": "python",
   "pygments_lexer": "ipython3",
   "version": "3.6.7"
  }
 },
 "nbformat": 4,
 "nbformat_minor": 2
}
