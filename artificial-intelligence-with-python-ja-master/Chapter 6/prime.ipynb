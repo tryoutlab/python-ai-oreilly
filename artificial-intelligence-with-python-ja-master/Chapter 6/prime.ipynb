{
 "cells": [
  {
   "cell_type": "code",
   "execution_count": null,
   "metadata": {},
   "outputs": [],
   "source": [
    "import itertools as it \n",
    "from kanren import isvar, membero, var, run, eq\n",
    "from kanren.core import success, fail, condeseq\n",
    "from sympy.ntheory.generate import prime, isprime \n",
    "\n",
    "# xが素数かどうかを判定する\n",
    "def check_prime(x): \n",
    "    if isvar(x): \n",
    "        return condeseq([eq(x, p)] for p in map(prime, it.count(1))) \n",
    "    else: \n",
    "        return success if isprime(x) else fail \n",
    "\n",
    "x = var() \n",
    "\n",
    "list_nums = (23, 4, 27, 17, 13, 10, 21, 29, 3, 32, 11, 19) \n",
    "print('List of primes in the list:') \n",
    "print(set(run(0, x, (membero, x, list_nums), (check_prime, x))))"
   ]
  },
  {
   "cell_type": "code",
   "execution_count": null,
   "metadata": {
    "scrolled": true
   },
   "outputs": [],
   "source": [
    "print('List of first 7 prime numbers:') \n",
    "print(run(7, x, (check_prime, x))) "
   ]
  }
 ],
 "metadata": {
  "kernelspec": {
   "display_name": "Python 3",
   "language": "python",
   "name": "python3"
  },
  "language_info": {
   "codemirror_mode": {
    "name": "ipython",
    "version": 3
   },
   "file_extension": ".py",
   "mimetype": "text/x-python",
   "name": "python",
   "nbconvert_exporter": "python",
   "pygments_lexer": "ipython3",
   "version": "3.6.7"
  }
 },
 "nbformat": 4,
 "nbformat_minor": 2
}
