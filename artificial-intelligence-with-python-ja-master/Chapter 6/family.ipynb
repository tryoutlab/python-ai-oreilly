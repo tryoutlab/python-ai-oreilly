{
 "cells": [
  {
   "cell_type": "code",
   "execution_count": null,
   "metadata": {
    "scrolled": true
   },
   "outputs": [],
   "source": [
    "import json \n",
    "from kanren import Relation, facts, run, conde, var, eq \n",
    "\n",
    "with open('relationships.json') as f: \n",
    "    d = json.loads(f.read()) \n",
    "\n",
    "father = Relation() \n",
    "mother = Relation() \n",
    "\n",
    "for item in d['father']:\n",
    "    facts(father, (list(item.keys())[0], list(item.values())[0])) \n",
    "\n",
    "for item in d['mother']: \n",
    "    facts(mother, (list(item.keys())[0], list(item.values())[0])) \n",
    "    \n",
    "def parent(x, y): \n",
    "    return conde((father(x, y),), (mother(x, y),)) \n",
    "\n",
    "def grandparent(x, y): \n",
    "    temp = var() \n",
    "    return conde((parent(x, temp), parent(temp, y))) \n",
    "\n",
    "def sibling(x, y): \n",
    "    temp = var() \n",
    "    return conde((parent(temp, x), parent(temp, y))) \n",
    "\n",
    "def uncle(x, y): \n",
    "    temp = var()\n",
    "    return conde((father(temp, x), grandparent(temp, y))) \n",
    "#    return conde((sibling(temp, x), parent(temp, y)))\n",
    "\n",
    "x = var()\n",
    "output = run(0, x, (father, 'John', x)) \n",
    "for item in output: \n",
    "    print(item) "
   ]
  },
  {
   "cell_type": "code",
   "execution_count": null,
   "metadata": {},
   "outputs": [],
   "source": [
    "output = run(0, x, mother(x, 'William'))\n",
    "for item in output: \n",
    "    print(item) "
   ]
  },
  {
   "cell_type": "code",
   "execution_count": null,
   "metadata": {},
   "outputs": [],
   "source": [
    "output = run(0, x, parent(x, 'Adam')) \n",
    "for item in output: \n",
    "    print(item) "
   ]
  },
  {
   "cell_type": "code",
   "execution_count": null,
   "metadata": {},
   "outputs": [],
   "source": [
    "output = run(0, x, grandparent(x, 'Wayne')) \n",
    "for item in output: \n",
    "    print(item) "
   ]
  },
  {
   "cell_type": "code",
   "execution_count": null,
   "metadata": {},
   "outputs": [],
   "source": [
    "output = run(0, x, grandparent('Megan', x)) \n",
    "for item in output: \n",
    "    print(item) "
   ]
  },
  {
   "cell_type": "code",
   "execution_count": null,
   "metadata": {},
   "outputs": [],
   "source": [
    "name = 'David' \n",
    "output = run(0, x, sibling(x, name)) \n",
    "siblings = [x for x in output if x != name] \n",
    "for item in siblings: \n",
    "    print(item) "
   ]
  },
  {
   "cell_type": "code",
   "execution_count": null,
   "metadata": {},
   "outputs": [],
   "source": [
    "name = 'Tiffany' \n",
    "# 父親の名前を求める\n",
    "name_father = run(0, x, father(x, name))[0] \n",
    "output = run(0, x, uncle(x, name)) \n",
    "# 父親を除去する\n",
    "output = [x for x in output if x != name_father] \n",
    "for item in output: \n",
    "    print(item) "
   ]
  },
  {
   "cell_type": "code",
   "execution_count": null,
   "metadata": {},
   "outputs": [],
   "source": [
    "a, b, c = var(), var(), var() \n",
    "output = run(0, (a, b), father(a, c), mother(b, c)) \n",
    "for item in output: \n",
    "    print('Husband:', item[0], '<==> Wife:', item[1]) "
   ]
  },
  {
   "cell_type": "code",
   "execution_count": null,
   "metadata": {},
   "outputs": [],
   "source": []
  }
 ],
 "metadata": {
  "kernelspec": {
   "display_name": "Python 3",
   "language": "python",
   "name": "python3"
  },
  "language_info": {
   "codemirror_mode": {
    "name": "ipython",
    "version": 3
   },
   "file_extension": ".py",
   "mimetype": "text/x-python",
   "name": "python",
   "nbconvert_exporter": "python",
   "pygments_lexer": "ipython3",
   "version": "3.6.7"
  }
 },
 "nbformat": 4,
 "nbformat_minor": 2
}
