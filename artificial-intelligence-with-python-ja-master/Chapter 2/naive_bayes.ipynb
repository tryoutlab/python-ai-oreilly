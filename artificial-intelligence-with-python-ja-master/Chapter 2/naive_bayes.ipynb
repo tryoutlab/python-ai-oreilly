{
 "cells": [
  {
   "cell_type": "code",
   "execution_count": null,
   "metadata": {},
   "outputs": [],
   "source": [
    "import numpy as np \n",
    "from sklearn.naive_bayes import GaussianNB\n",
    "%run utilities.ipynb\n",
    "\n",
    "input_file = 'data_multivar_nb.txt' \n",
    "\n",
    "data = np.loadtxt(input_file, delimiter=',') \n",
    "X, y = data[:, :-1], data[:, -1] \n",
    "\n",
    "classifier = GaussianNB()\n",
    "classifier.fit(X, y)\n",
    "\n",
    "y_pred = classifier.predict(X)\n",
    "\n",
    "accuracy = 100.0 * (y == y_pred).sum() / X.shape[0] \n",
    "print(\"Accuracy of Naive Bayes classifier =\", round(accuracy, 2), \"%\") \n",
    "\n",
    "visualize_classifier(classifier, X, y)"
   ]
  },
  {
   "cell_type": "code",
   "execution_count": null,
   "metadata": {},
   "outputs": [],
   "source": [
    "from sklearn import model_selection \n",
    "\n",
    "X_train, X_test, y_train, y_test = model_selection.train_test_split(X, y,\n",
    "                                      test_size=0.2, random_state=3) \n",
    "classifier_new = GaussianNB() \n",
    "classifier_new.fit(X_train, y_train) \n",
    "y_test_pred = classifier_new.predict(X_test) \n",
    "\n",
    "accuracy = 100.0 * (y_test == y_test_pred).sum() / X_test.shape[0] \n",
    "print(\"Accuracy of the new classifier =\", round(accuracy, 2), \"%\") \n",
    "\n",
    "visualize_classifier(classifier_new, X_test, y_test) \n",
    "\n",
    "num_folds = 3 \n",
    "accuracy_values = model_selection.cross_val_score(classifier, \n",
    "                      X, y, scoring='accuracy', cv=num_folds) \n",
    "print(\"Accuracy: \" + str(round(100*accuracy_values.mean(), 2)) + \"%\") \n",
    "\n",
    "precision_values = model_selection.cross_val_score(classifier, \n",
    "                      X, y, scoring='precision_weighted', cv=num_folds) \n",
    "print(\"Precision: \" + str(round(100*precision_values.mean(), 2)) + \"%\") \n",
    "\n",
    "recall_values = model_selection.cross_val_score(classifier, \n",
    "                      X, y, scoring='recall_weighted', cv=num_folds) \n",
    "print(\"Recall: \" + str(round(100*recall_values.mean(), 2)) + \"%\") \n",
    "\n",
    "f1_values = model_selection.cross_val_score(classifier, \n",
    "                      X, y, scoring='f1_weighted', cv=num_folds) \n",
    "print(\"F1: \" + str(round(100*f1_values.mean(), 2)) + \"%\") "
   ]
  },
  {
   "cell_type": "code",
   "execution_count": null,
   "metadata": {},
   "outputs": [],
   "source": []
  }
 ],
 "metadata": {
  "kernelspec": {
   "display_name": "Python 3",
   "language": "python",
   "name": "python3"
  },
  "language_info": {
   "codemirror_mode": {
    "name": "ipython",
    "version": 3
   },
   "file_extension": ".py",
   "mimetype": "text/x-python",
   "name": "python",
   "nbconvert_exporter": "python",
   "pygments_lexer": "ipython3",
   "version": "3.6.7"
  }
 },
 "nbformat": 4,
 "nbformat_minor": 2
}
