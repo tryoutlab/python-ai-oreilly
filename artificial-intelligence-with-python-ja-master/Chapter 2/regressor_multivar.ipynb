{
 "cells": [
  {
   "cell_type": "code",
   "execution_count": null,
   "metadata": {},
   "outputs": [],
   "source": [
    "import numpy as np \n",
    "from sklearn import linear_model \n",
    "import sklearn.metrics as sm \n",
    "\n",
    "input_file = 'data_multivar_regr.txt'\n",
    "data = np.loadtxt(input_file, delimiter=',') \n",
    "X, y = data[:, :-1], data[:, -1] \n",
    "\n",
    "linear_regressor = linear_model.LinearRegression() \n",
    "linear_regressor.fit(X, y) \n",
    "\n",
    "y_pred = linear_regressor.predict(X) \n",
    "\n",
    "print(\"Linear Regressor performance:\") \n",
    "print(\"Mean absolute error =\", round(sm.mean_absolute_error(y, y_pred), 2)) \n",
    "print(\"Mean squared error =\", round(sm.mean_squared_error(y, y_pred), 2)) \n",
    "print(\"Median absolute error =\", round(sm.median_absolute_error(y, y_pred), 2)) \n",
    "print(\"Explained variance score =\", round(sm.explained_variance_score(y, y_pred), 2)) \n",
    "print(\"R2 score =\", round(sm.r2_score(y, y_pred), 2)) "
   ]
  },
  {
   "cell_type": "code",
   "execution_count": null,
   "metadata": {},
   "outputs": [],
   "source": [
    "print(\"Linear regression:\\n\", linear_regressor.predict(X[0:5])) \n",
    "print(\"True output values:\\n\", y[0:5])"
   ]
  },
  {
   "cell_type": "code",
   "execution_count": null,
   "metadata": {},
   "outputs": [],
   "source": []
  }
 ],
 "metadata": {
  "kernelspec": {
   "display_name": "Python 3",
   "language": "python",
   "name": "python3"
  },
  "language_info": {
   "codemirror_mode": {
    "name": "ipython",
    "version": 3
   },
   "file_extension": ".py",
   "mimetype": "text/x-python",
   "name": "python",
   "nbconvert_exporter": "python",
   "pygments_lexer": "ipython3",
   "version": "3.6.7"
  }
 },
 "nbformat": 4,
 "nbformat_minor": 2
}
