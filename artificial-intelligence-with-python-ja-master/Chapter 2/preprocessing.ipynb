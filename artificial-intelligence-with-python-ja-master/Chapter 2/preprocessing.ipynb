{
 "cells": [
  {
   "cell_type": "code",
   "execution_count": null,
   "metadata": {},
   "outputs": [],
   "source": [
    "import numpy as np \n",
    "from sklearn import preprocessing\n",
    "\n",
    "input_data = np.array([[5.1, -2.9, 3.3], \n",
    "                       [-1.2, 7.8, -6.1], \n",
    "                       [3.9, 0.4, 2.1], \n",
    "                       [7.3, -9.9, -4.5]])\n",
    "\n",
    "data_binarized = preprocessing.Binarizer(threshold=2.1).transform(input_data) \n",
    "print(\"Binarized data:\\n\", data_binarized) "
   ]
  },
  {
   "cell_type": "code",
   "execution_count": null,
   "metadata": {},
   "outputs": [],
   "source": [
    "print(\"BEFORE:\") \n",
    "print(\"Mean =\", input_data.mean(axis=0)) \n",
    "print(\"Std deviation =\", input_data.std(axis=0)) \n",
    "\n",
    "data_scaled = preprocessing.scale(input_data) \n",
    "print(\"AFTER:\") \n",
    "print(\"Mean =\", data_scaled.mean(axis=0)) \n",
    "print(\"Std deviation =\", data_scaled.std(axis=0)) "
   ]
  },
  {
   "cell_type": "code",
   "execution_count": null,
   "metadata": {},
   "outputs": [],
   "source": [
    "data_centered = preprocessing.scale(input_data, with_std=False) \n",
    "print(\"AFTER:\") \n",
    "print(\"Mean =\", data_centered.mean(axis=0)) \n",
    "print(\"Std deviation =\", data_centered.std(axis=0)) "
   ]
  },
  {
   "cell_type": "code",
   "execution_count": null,
   "metadata": {},
   "outputs": [],
   "source": [
    "data_scaler_minmax = preprocessing.MinMaxScaler(feature_range=(0, 1)) \n",
    "data_scaled_minmax = data_scaler_minmax.fit_transform(input_data) \n",
    "print(\"Min max scaled data:\\n\", data_scaled_minmax) "
   ]
  },
  {
   "cell_type": "code",
   "execution_count": null,
   "metadata": {},
   "outputs": [],
   "source": [
    "data_normalized_l1 = preprocessing.normalize(input_data, norm='l1') \n",
    "data_normalized_l2 = preprocessing.normalize(input_data, norm='l2') \n",
    "print(\"L1 normalized data:\\n\", data_normalized_l1) \n",
    "print(\"L2 normalized data:\\n\", data_normalized_l2)"
   ]
  },
  {
   "cell_type": "code",
   "execution_count": null,
   "metadata": {},
   "outputs": [],
   "source": []
  }
 ],
 "metadata": {
  "kernelspec": {
   "display_name": "Python 3",
   "language": "python",
   "name": "python3"
  },
  "language_info": {
   "codemirror_mode": {
    "name": "ipython",
    "version": 3
   },
   "file_extension": ".py",
   "mimetype": "text/x-python",
   "name": "python",
   "nbconvert_exporter": "python",
   "pygments_lexer": "ipython3",
   "version": "3.6.7"
  }
 },
 "nbformat": 4,
 "nbformat_minor": 2
}
