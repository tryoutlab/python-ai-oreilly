{
 "cells": [
  {
   "cell_type": "code",
   "execution_count": null,
   "metadata": {},
   "outputs": [],
   "source": [
    "import numpy as np \n",
    "from sklearn import preprocessing\n",
    "\n",
    "input_labels = ['red', 'black', 'red', 'green', 'black', 'yellow', 'white'] \n",
    "\n",
    "encoder = preprocessing.LabelEncoder() \n",
    "encoder.fit(input_labels) \n",
    "\n",
    "print(\"Label mapping:\") \n",
    "for i, item in enumerate(encoder.classes_): \n",
    "    print(item, '-->', i) \n",
    "    \n",
    "test_labels = ['green', 'red', 'black'] \n",
    "encoded_values = encoder.transform(test_labels) \n",
    "print(\"Labels =\", test_labels) \n",
    "print(\"Encoded values =\", list(encoded_values))     "
   ]
  },
  {
   "cell_type": "code",
   "execution_count": null,
   "metadata": {},
   "outputs": [],
   "source": [
    "encoded_values = [3, 0, 4, 1] \n",
    "decoded_list = encoder.inverse_transform(encoded_values) \n",
    "print(\"Encoded values =\", encoded_values) \n",
    "print(\"Decoded labels =\", list(decoded_list)) "
   ]
  },
  {
   "cell_type": "code",
   "execution_count": null,
   "metadata": {},
   "outputs": [],
   "source": []
  }
 ],
 "metadata": {
  "kernelspec": {
   "display_name": "Python 3",
   "language": "python",
   "name": "python3"
  },
  "language_info": {
   "codemirror_mode": {
    "name": "ipython",
    "version": 3
   },
   "file_extension": ".py",
   "mimetype": "text/x-python",
   "name": "python",
   "nbconvert_exporter": "python",
   "pygments_lexer": "ipython3",
   "version": "3.6.7"
  }
 },
 "nbformat": 4,
 "nbformat_minor": 2
}
