{
 "cells": [
  {
   "cell_type": "code",
   "execution_count": null,
   "metadata": {},
   "outputs": [],
   "source": [
    "import numpy as np \n",
    "from sklearn import datasets \n",
    "from sklearn.svm import SVR \n",
    "from sklearn.metrics import mean_squared_error, explained_variance_score \n",
    "from sklearn.utils import shuffle \n",
    "\n",
    "data = datasets.load_boston() \n",
    "X, y = shuffle(data.data, data.target, random_state=7) \n",
    "\n",
    "num_training = int(0.8 * len(X)) \n",
    "X_train, y_train = X[:num_training], y[:num_training] \n",
    "X_test, y_test = X[num_training:], y[num_training:] \n",
    "\n",
    "sv_regressor = SVR(kernel='linear', C=1.0, epsilon=0.1) \n",
    "sv_regressor.fit(X_train, y_train) \n",
    "\n",
    "y_test_pred = sv_regressor.predict(X_test) \n",
    "mse = mean_squared_error(y_test, y_test_pred) \n",
    "evs = explained_variance_score(y_test, y_test_pred) \n",
    "print(\"#### Performance ####\") \n",
    "print(\"Mean squared error =\", round(mse, 2)) \n",
    "print(\"Explained variance score =\", round(evs, 2)) "
   ]
  },
  {
   "cell_type": "code",
   "execution_count": null,
   "metadata": {},
   "outputs": [],
   "source": [
    "test_data = [3.7, 0, 18.4, 1, 0.87, 5.95, 91, 2.5052, 26, 666, 20.2, 351.34, 15.27] \n",
    "print(\"Predicted price:\", sv_regressor.predict([test_data])[0]) "
   ]
  }
 ],
 "metadata": {
  "kernelspec": {
   "display_name": "Python 3",
   "language": "python",
   "name": "python3"
  },
  "language_info": {
   "codemirror_mode": {
    "name": "ipython",
    "version": 3
   },
   "file_extension": ".py",
   "mimetype": "text/x-python",
   "name": "python",
   "nbconvert_exporter": "python",
   "pygments_lexer": "ipython3",
   "version": "3.6.7"
  }
 },
 "nbformat": 4,
 "nbformat_minor": 2
}
