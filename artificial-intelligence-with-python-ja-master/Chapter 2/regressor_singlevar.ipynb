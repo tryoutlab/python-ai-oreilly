{
 "cells": [
  {
   "cell_type": "code",
   "execution_count": null,
   "metadata": {},
   "outputs": [],
   "source": [
    "import numpy as np \n",
    "from sklearn import linear_model \n",
    "import sklearn.metrics as sm \n",
    "import matplotlib.pyplot as plt\n",
    "%matplotlib inline\n",
    "\n",
    "input_file = 'data_singlevar_regr.txt'\n",
    "data = np.loadtxt(input_file, delimiter=',') \n",
    "X, y = data[:, :-1], data[:, -1] \n",
    "\n",
    "regressor = linear_model.LinearRegression() \n",
    "regressor.fit(X, y) \n",
    "\n",
    "y_pred = regressor.predict(X) \n",
    "\n",
    "plt.scatter(X, y, color='green') \n",
    "plt.plot(X, y_pred, color='black') \n",
    "plt.show() "
   ]
  },
  {
   "cell_type": "code",
   "execution_count": null,
   "metadata": {},
   "outputs": [],
   "source": [
    "print(\"Linear regressor performance:\") \n",
    "print(\"Mean absolute error =\", round(sm.mean_absolute_error(y, y_pred), 2)) \n",
    "print(\"Mean squared error =\", round(sm.mean_squared_error(y, y_pred), 2)) \n",
    "print(\"Median absolute error =\", round(sm.median_absolute_error(y, y_pred), 2)) \n",
    "print(\"Explain variance score =\", round(sm.explained_variance_score(y, y_pred), 2)) \n",
    "print(\"R2 score =\", round(sm.r2_score(y, y_pred), 2)) "
   ]
  },
  {
   "cell_type": "code",
   "execution_count": null,
   "metadata": {},
   "outputs": [],
   "source": [
    "import pickle \n",
    "# モデルを保存\n",
    "output_model_file = 'model.pkl' \n",
    "with open(output_model_file, 'wb') as f: \n",
    "    pickle.dump(regressor, f) "
   ]
  },
  {
   "cell_type": "code",
   "execution_count": null,
   "metadata": {},
   "outputs": [],
   "source": [
    "# モデルを読み込む\n",
    "with open(output_model_file, 'rb') as f: \n",
    "    regressor_model = pickle.load(f) \n",
    " \n",
    "# テストデータで推論する\n",
    "y_pred_new = regressor_model.predict(X) \n",
    "print(\"New mean absolute error =\", \n",
    "      round(sm.mean_absolute_error(y, y_pred_new), 2)) "
   ]
  },
  {
   "cell_type": "code",
   "execution_count": null,
   "metadata": {},
   "outputs": [],
   "source": []
  }
 ],
 "metadata": {
  "kernelspec": {
   "display_name": "Python 3",
   "language": "python",
   "name": "python3"
  },
  "language_info": {
   "codemirror_mode": {
    "name": "ipython",
    "version": 3
   },
   "file_extension": ".py",
   "mimetype": "text/x-python",
   "name": "python",
   "nbconvert_exporter": "python",
   "pygments_lexer": "ipython3",
   "version": "3.6.7"
  }
 },
 "nbformat": 4,
 "nbformat_minor": 2
}
