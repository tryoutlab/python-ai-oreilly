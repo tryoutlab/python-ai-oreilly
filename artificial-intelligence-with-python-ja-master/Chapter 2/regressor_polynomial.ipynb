{
 "cells": [
  {
   "cell_type": "code",
   "execution_count": null,
   "metadata": {},
   "outputs": [],
   "source": [
    "import numpy as np \n",
    "from sklearn import linear_model \n",
    "import sklearn.metrics as sm \n",
    "import matplotlib.pyplot as plt\n",
    "%matplotlib inline\n",
    "\n",
    "RANGE = 5\n",
    "x = np.random.rand(100) * RANGE\n",
    "y = np.sin(x) + np.random.rand(100) * 0.3\n",
    "\n",
    "x = x.reshape(-1, 1)\n",
    "regressor = linear_model.LinearRegression() \n",
    "regressor.fit(x, y) \n",
    "\n",
    "x_test = np.linspace(0, RANGE, 100).reshape(-1,1)\n",
    "y_pred = regressor.predict(x_test) \n",
    "\n",
    "plt.scatter(x, y, color='green') \n",
    "plt.plot(x_test, y_pred, color='black') \n",
    "plt.show() "
   ]
  },
  {
   "cell_type": "code",
   "execution_count": null,
   "metadata": {},
   "outputs": [],
   "source": [
    "y_pred = regressor.predict(x) \n",
    "print(\"Mean absolute error =\", round(sm.mean_absolute_error(y, y_pred), 2)) \n",
    "print(\"Mean squared error =\", round(sm.mean_squared_error(y, y_pred), 2)) \n",
    "print(\"Median absolute error =\", round(sm.median_absolute_error(y, y_pred), 2)) \n",
    "print(\"Explain variance score =\", round(sm.explained_variance_score(y, y_pred), 2)) \n",
    "print(\"R2 score =\", round(sm.r2_score(y, y_pred), 2)) "
   ]
  },
  {
   "cell_type": "code",
   "execution_count": null,
   "metadata": {},
   "outputs": [],
   "source": [
    "from sklearn.preprocessing import PolynomialFeatures\n",
    "\n",
    "polynomial = PolynomialFeatures(degree=10) \n",
    "x_transformed = polynomial.fit_transform(x) \n",
    "poly_linear_regressor = linear_model.LinearRegression() \n",
    "poly_linear_regressor.fit(x_transformed, y)\n",
    "\n",
    "x_test_transformed = polynomial.transform(x_test) \n",
    "y_pred = poly_linear_regressor.predict(x_test_transformed) \n",
    "plt.scatter(x, y, color='green') \n",
    "plt.plot(x_test, y_pred, color='black') \n",
    "plt.show() "
   ]
  },
  {
   "cell_type": "code",
   "execution_count": null,
   "metadata": {},
   "outputs": [],
   "source": [
    "y_pred = poly_linear_regressor.predict(x_transformed) \n",
    "print(\"Mean absolute error =\", round(sm.mean_absolute_error(y, y_pred), 2)) \n",
    "print(\"Mean squared error =\", round(sm.mean_squared_error(y, y_pred), 2)) \n",
    "print(\"Median absolute error =\", round(sm.median_absolute_error(y, y_pred), 2)) \n",
    "print(\"Explain variance score =\", round(sm.explained_variance_score(y, y_pred), 2)) \n",
    "print(\"R2 score =\", round(sm.r2_score(y, y_pred), 2)) "
   ]
  },
  {
   "cell_type": "code",
   "execution_count": null,
   "metadata": {},
   "outputs": [],
   "source": []
  }
 ],
 "metadata": {
  "kernelspec": {
   "display_name": "Python 3",
   "language": "python",
   "name": "python3"
  },
  "language_info": {
   "codemirror_mode": {
    "name": "ipython",
    "version": 3
   },
   "file_extension": ".py",
   "mimetype": "text/x-python",
   "name": "python",
   "nbconvert_exporter": "python",
   "pygments_lexer": "ipython3",
   "version": "3.6.7"
  }
 },
 "nbformat": 4,
 "nbformat_minor": 2
}
