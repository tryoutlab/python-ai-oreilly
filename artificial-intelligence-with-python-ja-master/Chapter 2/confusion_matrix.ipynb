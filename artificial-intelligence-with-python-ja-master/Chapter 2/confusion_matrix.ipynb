{
 "cells": [
  {
   "cell_type": "code",
   "execution_count": null,
   "metadata": {},
   "outputs": [],
   "source": [
    "import numpy as np \n",
    "import matplotlib.pyplot as plt \n",
    "%matplotlib inline\n",
    "from sklearn.metrics import confusion_matrix \n",
    "from sklearn.metrics import classification_report\n",
    "\n",
    "true_labels = [2, 0, 0, 2, 4, 4, 1, 0, 3, 3, 3] \n",
    "pred_labels = [2, 1, 0, 2, 4, 3, 1, 0, 1, 3, 3] \n",
    "\n",
    "confusion_mat = confusion_matrix(true_labels, pred_labels) \n",
    "print(confusion_mat)\n",
    "\n",
    "plt.imshow(confusion_mat, interpolation='nearest', cmap=plt.cm.gray) \n",
    "plt.title('Confusion matrix') \n",
    "plt.colorbar() \n",
    "ticks = np.arange(5) \n",
    "plt.xticks(ticks, ticks) \n",
    "plt.yticks(ticks, ticks) \n",
    "plt.ylabel('True labels') \n",
    "plt.xlabel('Predicted labels') \n",
    "plt.show()"
   ]
  },
  {
   "cell_type": "code",
   "execution_count": null,
   "metadata": {},
   "outputs": [],
   "source": [
    "targets = ['Class-0', 'Class-1', 'Class-2', 'Class-3', 'Class-4'] \n",
    "print('\\n', classification_report(true_labels, pred_labels, target_names=targets)) "
   ]
  }
 ],
 "metadata": {
  "kernelspec": {
   "display_name": "Python 3",
   "language": "python",
   "name": "python3"
  },
  "language_info": {
   "codemirror_mode": {
    "name": "ipython",
    "version": 3
   },
   "file_extension": ".py",
   "mimetype": "text/x-python",
   "name": "python",
   "nbconvert_exporter": "python",
   "pygments_lexer": "ipython3",
   "version": "3.6.7"
  }
 },
 "nbformat": 4,
 "nbformat_minor": 2
}
