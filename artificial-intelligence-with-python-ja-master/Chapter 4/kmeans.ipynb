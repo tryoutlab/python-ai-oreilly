{
 "cells": [
  {
   "cell_type": "code",
   "execution_count": null,
   "metadata": {},
   "outputs": [],
   "source": [
    "import numpy as np \n",
    "import matplotlib.pyplot as plt\n",
    "%matplotlib inline\n",
    "from sklearn.cluster import KMeans \n",
    "from sklearn import metrics \n",
    "\n",
    "X = np.loadtxt('data_clustering.txt', delimiter=',') \n",
    "\n",
    "plt.figure() \n",
    "plt.scatter(X[:,0], X[:,1], marker='o', facecolors='none', \n",
    "        edgecolors='black', s=80) \n",
    "x_min, x_max = X[:, 0].min() - 1, X[:, 0].max() + 1 \n",
    "y_min, y_max = X[:, 1].min() - 1, X[:, 1].max() + 1 \n",
    "plt.title('Input data') \n",
    "plt.xlim(x_min, x_max) \n",
    "plt.ylim(y_min, y_max) \n",
    "plt.xticks(()) \n",
    "plt.yticks(()) \n",
    "plt.show()"
   ]
  },
  {
   "cell_type": "code",
   "execution_count": null,
   "metadata": {},
   "outputs": [],
   "source": [
    "num_clusters = 5 \n",
    "kmeans = KMeans(init='k-means++', n_clusters=num_clusters, n_init=10) \n",
    "kmeans.fit(X) \n",
    "\n",
    "step_size = 0.01 \n",
    "x_min, x_max = X[:, 0].min() - 1, X[:, 0].max() + 1 \n",
    "y_min, y_max = X[:, 1].min() - 1, X[:, 1].max() + 1 \n",
    "x_vals, y_vals = np.meshgrid(np.arange(x_min, x_max, step_size), \n",
    "        np.arange(y_min, y_max, step_size)) \n",
    "\n",
    "output = kmeans.predict(np.c_[x_vals.ravel(), y_vals.ravel()]) \n",
    "\n",
    "output = output.reshape(x_vals.shape) \n",
    "plt.figure() \n",
    "plt.clf() \n",
    "plt.imshow(output, interpolation='nearest', \n",
    "           extent=(x_vals.min(), x_vals.max(), \n",
    "                   y_vals.min(), y_vals.max()), \n",
    "           cmap=plt.cm.Paired, \n",
    "           aspect='auto', \n",
    "           origin='lower') \n",
    "plt.scatter(X[:,0], X[:,1], marker='o', facecolors='none', \n",
    "            edgecolors='black', s=80) \n",
    "cluster_centers = kmeans.cluster_centers_ \n",
    "plt.scatter(cluster_centers[:,0], cluster_centers[:,1], \n",
    "            marker='o', s=210, linewidths=4, color='black', \n",
    "            zorder=12, facecolors='black') \n",
    "\n",
    "x_min, x_max = X[:, 0].min() - 1, X[:, 0].max() + 1 \n",
    "y_min, y_max = X[:, 1].min() - 1, X[:, 1].max() + 1 \n",
    "plt.title('Boundaries of clusters') \n",
    "plt.xlim(x_min, x_max) \n",
    "plt.ylim(y_min, y_max) \n",
    "plt.xticks(()) \n",
    "plt.yticks(()) \n",
    "plt.show() \n"
   ]
  },
  {
   "cell_type": "code",
   "execution_count": null,
   "metadata": {},
   "outputs": [],
   "source": []
  }
 ],
 "metadata": {
  "kernelspec": {
   "display_name": "Python 3",
   "language": "python",
   "name": "python3"
  },
  "language_info": {
   "codemirror_mode": {
    "name": "ipython",
    "version": 3
   },
   "file_extension": ".py",
   "mimetype": "text/x-python",
   "name": "python",
   "nbconvert_exporter": "python",
   "pygments_lexer": "ipython3",
   "version": "3.6.7"
  }
 },
 "nbformat": 4,
 "nbformat_minor": 2
}
