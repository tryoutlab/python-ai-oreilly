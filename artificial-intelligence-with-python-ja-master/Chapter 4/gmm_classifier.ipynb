{
 "cells": [
  {
   "cell_type": "code",
   "execution_count": null,
   "metadata": {},
   "outputs": [],
   "source": [
    "import numpy as np \n",
    "import matplotlib.pyplot as plt\n",
    "%matplotlib inline\n",
    "from matplotlib import patches \n",
    "\n",
    "from sklearn import datasets \n",
    "from sklearn.mixture import GaussianMixture \n",
    "from sklearn.model_selection import StratifiedKFold \n",
    "\n",
    "iris = datasets.load_iris() \n",
    "\n",
    "indices = StratifiedKFold(n_splits=5).split(iris.data, iris.target) \n",
    "\n",
    "# 最初のサブグループを取得する\n",
    "train_index, test_index = next(iter(indices)) \n",
    "\n",
    "# 訓練用データとラベルを取得する\n",
    "X_train = iris.data[train_index] \n",
    "y_train = iris.target[train_index] \n",
    "\n",
    "# 検証用データとラベルを取得する\n",
    "X_test = iris.data[test_index] \n",
    "y_test = iris.target[test_index] \n",
    "\n",
    "num_classes = len(np.unique(y_train)) \n",
    "\n",
    "gmm = GaussianMixture(n_components=num_classes, covariance_type='full', \n",
    "                      init_params='random', random_state=0, max_iter=20) \n",
    "gmm.means_init = np.array([X_train[y_train == i].mean(axis=0) \n",
    "                               for i in range(num_classes)]) \n",
    "gmm.fit(X_train) \n",
    "\n",
    "plt.figure() \n",
    "axis_handle = plt.subplot(1, 1, 1)\n",
    "colors = 'bgr' \n",
    "for i, color in enumerate(colors): \n",
    "    eigenvalues, eigenvectors = np.linalg.eigh( \n",
    "        gmm.covariances_[i][:2, :2]) \n",
    "    norm_vec = eigenvectors[0] / np.linalg.norm(eigenvectors[0]) \n",
    "    angle = np.arctan2(norm_vec[1], norm_vec[0]) \n",
    "    angle = 180 * angle / np.pi \n",
    "    scaling_factor = 8 \n",
    "    eigenvalues *= scaling_factor \n",
    "    ellipse = patches.Ellipse(gmm.means_[i, :2], \n",
    "                eigenvalues[0], eigenvalues[1], 180 + angle, \n",
    "                color=color) \n",
    "\n",
    "    ellipse.set_clip_box(axis_handle.bbox) \n",
    "    ellipse.set_alpha(0.6) \n",
    "    axis_handle.add_artist(ellipse) \n",
    "\n",
    "for i, color in enumerate(colors): \n",
    "    cur_data = iris.data[iris.target == i] \n",
    "    plt.scatter(cur_data[:,0], cur_data[:,1], marker='o', \n",
    "                facecolors='none', edgecolors=color, s=40, \n",
    "                label=iris.target_names[i]) \n",
    "    \n",
    "    test_data = X_test[y_test == i] \n",
    "    plt.scatter(test_data[:,0], test_data[:,1], marker='s', \n",
    "                facecolors=color, edgecolors=color, s=40, \n",
    "                label=iris.target_names[i]) \n",
    "\n",
    "plt.title('GMM classifier') \n",
    "plt.show()"
   ]
  },
  {
   "cell_type": "code",
   "execution_count": null,
   "metadata": {},
   "outputs": [],
   "source": [
    "y_train_pred = gmm.predict(X_train) \n",
    "accuracy_training = np.mean(y_train_pred.ravel() == y_train.ravel()) * 100 \n",
    "print('Accuracy on training data =', accuracy_training) \n",
    "\n",
    "y_test_pred = gmm.predict(X_test) \n",
    "accuracy_testing = np.mean(y_test_pred.ravel() == y_test.ravel()) * 100 \n",
    "print('Accuracy on testing data =', accuracy_testing) "
   ]
  },
  {
   "cell_type": "code",
   "execution_count": null,
   "metadata": {},
   "outputs": [],
   "source": []
  }
 ],
 "metadata": {
  "kernelspec": {
   "display_name": "Python 3",
   "language": "python",
   "name": "python3"
  },
  "language_info": {
   "codemirror_mode": {
    "name": "ipython",
    "version": 3
   },
   "file_extension": ".py",
   "mimetype": "text/x-python",
   "name": "python",
   "nbconvert_exporter": "python",
   "pygments_lexer": "ipython3",
   "version": "3.6.7"
  }
 },
 "nbformat": 4,
 "nbformat_minor": 2
}
