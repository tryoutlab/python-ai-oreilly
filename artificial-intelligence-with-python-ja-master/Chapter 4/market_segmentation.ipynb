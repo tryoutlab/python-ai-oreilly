{
 "cells": [
  {
   "cell_type": "code",
   "execution_count": null,
   "metadata": {},
   "outputs": [],
   "source": [
    "import csv \n",
    "import numpy as np \n",
    "import matplotlib.pyplot as plt \n",
    "%matplotlib inline\n",
    "from sklearn.cluster import MeanShift, estimate_bandwidth\n",
    "\n",
    "# ファイルからデータを読み込む\n",
    "input_file = 'sales.csv' \n",
    "file_reader = csv.reader(open(input_file, 'r'), delimiter=',') \n",
    "\n",
    "X = [] \n",
    "for count, row in enumerate(file_reader): \n",
    "    if not count: \n",
    "        names = row[1:] \n",
    "        continue \n",
    "    X.append([float(x) for x in row[1:]]) \n",
    "\n",
    "# numpy 配列に変換する\n",
    "X = np.array(X) \n",
    "\n",
    "bandwidth = estimate_bandwidth(X, quantile=0.8, n_samples=len(X)) \n",
    "\n",
    "meanshift_model = MeanShift(bandwidth=bandwidth, bin_seeding=True) \n",
    "meanshift_model.fit(X) \n",
    "\n",
    "labels = meanshift_model.labels_ \n",
    "cluster_centers = meanshift_model.cluster_centers_ \n",
    "num_clusters = len(np.unique(labels)) \n",
    "\n",
    "print(\"Number of clusters in input data =\", num_clusters) \n",
    "\n",
    "print(\"\\nCenters of clusters:\") \n",
    "print('\\t'.join([name[:7] for name in names])) \n",
    "for cluster_center in cluster_centers: \n",
    "    print('\\t'.join([str(int(x)) for x in cluster_center])) "
   ]
  },
  {
   "cell_type": "code",
   "execution_count": null,
   "metadata": {},
   "outputs": [],
   "source": [
    "plt.figure() \n",
    "x = 1\n",
    "y = 2\n",
    "#plt.scatter(X[:,x], X[:,y], marker='.')\n",
    "plt.scatter(cluster_centers[:,x], cluster_centers[:,y], \n",
    "        s=120, edgecolors='black', facecolors='none') \n",
    "\n",
    "plt.title('Centers of 2D clusters') \n",
    "plt.xlabel(names[x])\n",
    "plt.ylabel(names[y])\n",
    "plt.show() "
   ]
  }
 ],
 "metadata": {
  "kernelspec": {
   "display_name": "Python 3",
   "language": "python",
   "name": "python3"
  },
  "language_info": {
   "codemirror_mode": {
    "name": "ipython",
    "version": 3
   },
   "file_extension": ".py",
   "mimetype": "text/x-python",
   "name": "python",
   "nbconvert_exporter": "python",
   "pygments_lexer": "ipython3",
   "version": "3.6.7"
  }
 },
 "nbformat": 4,
 "nbformat_minor": 2
}
