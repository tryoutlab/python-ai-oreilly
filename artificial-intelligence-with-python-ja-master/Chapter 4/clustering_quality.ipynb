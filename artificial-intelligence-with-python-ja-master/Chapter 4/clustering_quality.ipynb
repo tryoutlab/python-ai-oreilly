{
 "cells": [
  {
   "cell_type": "code",
   "execution_count": null,
   "metadata": {},
   "outputs": [],
   "source": [
    "import numpy as np \n",
    "import matplotlib.pyplot as plt\n",
    "%matplotlib inline\n",
    "from sklearn import metrics \n",
    "from sklearn.cluster import KMeans \n",
    "\n",
    "X = np.loadtxt('data_quality.txt', delimiter=',') \n",
    "\n",
    "plt.figure() \n",
    "plt.scatter(X[:,0], X[:,1], color='black', s=80, marker='o', facecolors='none') \n",
    "x_min, x_max = X[:, 0].min() - 1, X[:, 0].max() + 1 \n",
    "y_min, y_max = X[:, 1].min() - 1, X[:, 1].max() + 1 \n",
    "plt.title('Input data') \n",
    "plt.xlim(x_min, x_max) \n",
    "plt.ylim(y_min, y_max) \n",
    "plt.xticks(()) \n",
    "plt.yticks(()) \n",
    "\n",
    "plt.show() "
   ]
  },
  {
   "cell_type": "code",
   "execution_count": null,
   "metadata": {},
   "outputs": [],
   "source": [
    "scores = [] \n",
    "values = np.arange(2, 10) \n",
    "\n",
    "for num_clusters in values: \n",
    "    kmeans = KMeans(init='k-means++', n_clusters=num_clusters, n_init=10) \n",
    "    kmeans.fit(X) \n",
    "    score = metrics.silhouette_score(X, kmeans.labels_, \n",
    "                metric='euclidean', sample_size=len(X)) \n",
    "    print(\"\\nNumber of clusters =\", num_clusters) \n",
    "    print(\"Silhouette score =\", score) \n",
    "                \n",
    "    scores.append(score) \n",
    "    \n",
    "plt.figure() \n",
    "plt.bar(values, scores, width=0.7, color='black', align='center') \n",
    "plt.title('Silhouette score vs number of clusters') \n",
    "plt.show()\n",
    "\n",
    "num_clusters = np.argmax(scores) + values[0] \n",
    "print('Optimal number of clusters =', num_clusters) "
   ]
  }
 ],
 "metadata": {
  "kernelspec": {
   "display_name": "Python 3",
   "language": "python",
   "name": "python3"
  },
  "language_info": {
   "codemirror_mode": {
    "name": "ipython",
    "version": 3
   },
   "file_extension": ".py",
   "mimetype": "text/x-python",
   "name": "python",
   "nbconvert_exporter": "python",
   "pygments_lexer": "ipython3",
   "version": "3.6.7"
  }
 },
 "nbformat": 4,
 "nbformat_minor": 2
}
