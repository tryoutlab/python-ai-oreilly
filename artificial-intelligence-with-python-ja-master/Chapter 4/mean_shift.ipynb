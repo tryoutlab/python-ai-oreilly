{
 "cells": [
  {
   "cell_type": "code",
   "execution_count": null,
   "metadata": {},
   "outputs": [],
   "source": [
    "import numpy as np \n",
    "import matplotlib.pyplot as plt \n",
    "%matplotlib inline\n",
    "from sklearn.cluster import MeanShift, estimate_bandwidth \n",
    "from itertools import cycle \n",
    "\n",
    "X = np.loadtxt('data_clustering.txt', delimiter=',') \n",
    "bandwidth_X = estimate_bandwidth(X, quantile=0.1, n_samples=len(X)) \n",
    "\n",
    "meanshift_model = MeanShift(bandwidth=bandwidth_X, bin_seeding=True) \n",
    "meanshift_model.fit(X) \n",
    "\n",
    "cluster_centers = meanshift_model.cluster_centers_ \n",
    "print('Centers of clusters:\\n', cluster_centers) \n",
    "\n",
    "labels = meanshift_model.labels_ \n",
    "num_clusters = len(np.unique(labels)) \n",
    "print(\"\\nNumber of clusters in input data =\", num_clusters) \n",
    "\n",
    "plt.figure() \n",
    "markers = 'o*xvs' \n",
    "for i, marker in zip(range(num_clusters), markers): \n",
    "    plt.scatter(X[labels==i, 0], X[labels==i, 1], marker=marker, color='black') \n",
    "    cluster_center = cluster_centers[i] \n",
    "    plt.plot(cluster_center[0], cluster_center[1], marker='o', \n",
    "             markerfacecolor='black', markeredgecolor='black', \n",
    "             markersize=15) \n",
    "\n",
    "plt.title('Clusters') \n",
    "plt.show() \n"
   ]
  },
  {
   "cell_type": "code",
   "execution_count": null,
   "metadata": {},
   "outputs": [],
   "source": []
  }
 ],
 "metadata": {
  "kernelspec": {
   "display_name": "Python 3",
   "language": "python",
   "name": "python3"
  },
  "language_info": {
   "codemirror_mode": {
    "name": "ipython",
    "version": 3
   },
   "file_extension": ".py",
   "mimetype": "text/x-python",
   "name": "python",
   "nbconvert_exporter": "python",
   "pygments_lexer": "ipython3",
   "version": "3.6.7"
  }
 },
 "nbformat": 4,
 "nbformat_minor": 2
}
