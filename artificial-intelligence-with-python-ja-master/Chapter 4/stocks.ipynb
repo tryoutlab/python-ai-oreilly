{
 "cells": [
  {
   "cell_type": "code",
   "execution_count": null,
   "metadata": {
    "scrolled": false
   },
   "outputs": [],
   "source": [
    "import datetime \n",
    "import json \n",
    "import numpy as np \n",
    "from sklearn import covariance, cluster \n",
    "import pandas as pd\n",
    "import pandas_datareader.data as pdd\n",
    "\n",
    "input_file = 'company_symbol_mapping.json' \n",
    "with open(input_file, 'r') as f: \n",
    "    company_symbols_map = json.loads(f.read()) \n",
    "symbols = list(company_symbols_map.keys())\n",
    "                   \n",
    "QUANDL_API_KEY = 'xxxxxxxxxxxxxxxxxxxx'\n",
    "assert QUANDL_API_KEY != 'xxxxxxxxxxxxxxxxxxxx', 'You must set a valid API KEY.'\n",
    "\n",
    "start_date = datetime.datetime(2003, 7, 3) \n",
    "end_date = datetime.datetime(2007, 5, 4) \n",
    "\n",
    "quotes = []\n",
    "names = []\n",
    "for symbol in symbols:\n",
    "    try:\n",
    "        print('Loading', symbol, company_symbols_map[symbol], end='...')\n",
    "        d = pdd.DataReader('WIKI/' + symbol, 'quandl', start_date, end_date,\n",
    "                           access_key=QUANDL_API_KEY)\n",
    "        print('done.')\n",
    "        quotes.append(d)\n",
    "        names.append(company_symbols_map[symbol])\n",
    "    except:\n",
    "        print('not found.')\n",
    "names = np.array(names)\n",
    "\n",
    "opening_quotes = np.array([quote['Open'] for quote in quotes]).astype(np.float) \n",
    "closing_quotes = np.array([quote['Close'] for quote in quotes]).astype(np.float) \n",
    "quotes_diff = closing_quotes - opening_quotes \n",
    "\n",
    "X = quotes_diff.copy().T \n",
    "X /= X.std(axis=0) \n",
    "\n",
    "edge_model = covariance.GraphicalLassoCV(cv=3) \n",
    "\n",
    "with np.errstate(invalid='ignore'): \n",
    "    edge_model.fit(X) \n",
    "\n",
    "_, labels = cluster.affinity_propagation(edge_model.covariance_) \n",
    "num_labels = labels.max() \n",
    "\n",
    "for i in range(num_labels + 1): \n",
    "    print(\"Cluster\", i+1, \"==>\", ', '.join(names[labels == i])) "
   ]
  }
 ],
 "metadata": {
  "kernelspec": {
   "display_name": "Python 3",
   "language": "python",
   "name": "python3"
  },
  "language_info": {
   "codemirror_mode": {
    "name": "ipython",
    "version": 3
   },
   "file_extension": ".py",
   "mimetype": "text/x-python",
   "name": "python",
   "nbconvert_exporter": "python",
   "pygments_lexer": "ipython3",
   "version": "3.6.7"
  }
 },
 "nbformat": 4,
 "nbformat_minor": 2
}
