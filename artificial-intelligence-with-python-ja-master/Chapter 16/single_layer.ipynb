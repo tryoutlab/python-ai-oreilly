{
 "cells": [
  {
   "cell_type": "code",
   "execution_count": null,
   "metadata": {},
   "outputs": [],
   "source": [
    "import tensorflow as tf\n",
    "from tensorflow.examples.tutorials.mnist import input_data\n",
    "\n",
    "input_dir = './mnist_data'\n",
    "mnist = input_data.read_data_sets(input_dir, one_hot=True)\n",
    "\n",
    "x = tf.placeholder(tf.float32, [None, 28*28])\n",
    "W = tf.Variable(tf.zeros([28*28, 10]))\n",
    "b = tf.Variable(tf.zeros([10]))\n",
    "y = tf.matmul(x, W) + b\n",
    "\n",
    "y_loss = tf.placeholder(tf.float32, [None, 10])\n",
    "loss = tf.reduce_mean(tf.nn.softmax_cross_entropy_with_logits_v2(\n",
    "                          labels=y_loss, logits=y))\n",
    "optimizer = tf.train.GradientDescentOptimizer(0.5).minimize(loss)\n",
    "\n",
    "session = tf.Session()\n",
    "\n",
    "init = tf.global_variables_initializer()\n",
    "session.run(init)\n",
    "\n",
    "num_iterations = 2000\n",
    "batch_size = 75\n",
    "for _ in range(num_iterations):\n",
    "    x_batch, y_batch = mnist.train.next_batch(batch_size)\n",
    "    session.run(optimizer, feed_dict={x: x_batch, y_loss: y_batch})\n",
    "\n",
    "predicted = tf.equal(tf.argmax(y, 1), tf.argmax(y_loss, 1))\n",
    "accuracy = tf.reduce_mean(tf.cast(predicted, tf.float32))\n",
    "print('Accuracy =', session.run(accuracy, feed_dict={\n",
    "      x: mnist.test.images, \n",
    "      y_loss: mnist.test.labels}))"
   ]
  },
  {
   "cell_type": "code",
   "execution_count": null,
   "metadata": {},
   "outputs": [],
   "source": []
  }
 ],
 "metadata": {
  "kernelspec": {
   "display_name": "Python 3",
   "language": "python",
   "name": "python3"
  },
  "language_info": {
   "codemirror_mode": {
    "name": "ipython",
    "version": 3
   },
   "file_extension": ".py",
   "mimetype": "text/x-python",
   "name": "python",
   "nbconvert_exporter": "python",
   "pygments_lexer": "ipython3",
   "version": "3.6.7"
  }
 },
 "nbformat": 4,
 "nbformat_minor": 2
}
