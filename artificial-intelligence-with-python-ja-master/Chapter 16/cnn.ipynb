{
 "cells": [
  {
   "cell_type": "code",
   "execution_count": null,
   "metadata": {
    "scrolled": true
   },
   "outputs": [],
   "source": [
    "import tensorflow as tf\n",
    "from tensorflow.examples.tutorials.mnist import input_data\n",
    "\n",
    "input_dir = './mnist_data'\n",
    "mnist = input_data.read_data_sets(input_dir, one_hot=True)\n",
    "\n",
    "def create_layer(shape):\n",
    "    W = tf.Variable(tf.truncated_normal(shape, stddev=0.1))\n",
    "    b = tf.Variable(tf.constant(0.1, shape=[shape[-1]]))\n",
    "    return W, b\n",
    "\n",
    "def convolution_2d(x, W):\n",
    "    return tf.nn.conv2d(x, W, strides=[1, 1, 1, 1], \n",
    "            padding='SAME')\n",
    "\n",
    "def max_pooling(x):\n",
    "    return tf.nn.max_pool(x, ksize=[1, 2, 2, 1], \n",
    "            strides=[1, 2, 2, 1], padding='SAME')\n",
    "\n",
    "x = tf.placeholder(tf.float32, [None, 28*28])\n",
    "\n",
    "x_image = tf.reshape(x, [-1, 28, 28, 1])\n",
    "\n",
    "W_conv1, b_conv1 = create_layer([5, 5, 1, 32])\n",
    "h_conv1 = tf.nn.relu(convolution_2d(x_image, W_conv1) + b_conv1)\n",
    "h_pool1 = max_pooling(h_conv1)\n",
    "\n",
    "W_conv2, b_conv2 = create_layer([5, 5, 32, 64])\n",
    "h_conv2 = tf.nn.relu(convolution_2d(h_pool1, W_conv2) + b_conv2)\n",
    "h_pool2 = max_pooling(h_conv2)\n",
    "\n",
    "W_fc1, b_fc1 = create_layer([7 * 7 * 64, 1024])\n",
    "h_pool2_flat = tf.reshape(h_pool2, [-1, 7*7*64])\n",
    "h_fc1 = tf.nn.relu(tf.matmul(h_pool2_flat, W_fc1) + b_fc1)\n",
    "\n",
    "keep_prob = tf.placeholder(tf.float32)\n",
    "h_fc1_drop = tf.nn.dropout(h_fc1, keep_prob)\n",
    "\n",
    "W_fc2, b_fc2 = create_layer([1024, 10])\n",
    "y_conv = tf.matmul(h_fc1_drop, W_fc2) + b_fc2\n",
    "\n",
    "y_loss = tf.placeholder(tf.float32, [None, 10])\n",
    "loss = tf.reduce_mean(tf.nn.softmax_cross_entropy_with_logits_v2(labels=y_loss, logits=y_conv))\n",
    "optimizer = tf.train.AdamOptimizer(1e-4).minimize(loss)\n",
    "\n",
    "predicted = tf.equal(tf.argmax(y_conv, 1), tf.argmax(y_loss, 1))\n",
    "accuracy = tf.reduce_mean(tf.cast(predicted, tf.float32))\n",
    "\n",
    "sess = tf.InteractiveSession()\n",
    "\n",
    "init = tf.global_variables_initializer()\n",
    "sess.run(init)\n",
    "\n",
    "num_iterations = 2000\n",
    "batch_size = 75\n",
    "print('Training the model....')\n",
    "for i in range(num_iterations):\n",
    "    batch = mnist.train.next_batch(batch_size)\n",
    "\n",
    "    if i % 50 == 0:\n",
    "        cur_accuracy = accuracy.eval(feed_dict={\n",
    "                x: batch[0], y_loss: batch[1], keep_prob: 1.0})\n",
    "        print('Iteration', i, ', Accuracy =', cur_accuracy)\n",
    "\n",
    "    optimizer.run(feed_dict={x: batch[0], y_loss: batch[1], keep_prob: 0.5})"
   ]
  },
  {
   "cell_type": "code",
   "execution_count": null,
   "metadata": {},
   "outputs": [],
   "source": [
    "print('Testing. Wait a minute....')\n",
    "print('Test accuracy =', accuracy.eval(feed_dict={\n",
    "        x: mnist.test.images, y_loss: mnist.test.labels, \n",
    "        keep_prob: 1.0}))\n",
    "\n",
    "sess.close()"
   ]
  },
  {
   "cell_type": "code",
   "execution_count": null,
   "metadata": {},
   "outputs": [],
   "source": []
  }
 ],
 "metadata": {
  "kernelspec": {
   "display_name": "Python 3",
   "language": "python",
   "name": "python3"
  },
  "language_info": {
   "codemirror_mode": {
    "name": "ipython",
    "version": 3
   },
   "file_extension": ".py",
   "mimetype": "text/x-python",
   "name": "python",
   "nbconvert_exporter": "python",
   "pygments_lexer": "ipython3",
   "version": "3.6.7"
  }
 },
 "nbformat": 4,
 "nbformat_minor": 2
}
