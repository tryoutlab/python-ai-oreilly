{
 "cells": [
  {
   "cell_type": "code",
   "execution_count": null,
   "metadata": {},
   "outputs": [],
   "source": [
    "import numpy as np\n",
    "import matplotlib.pyplot as plt\n",
    "import tensorflow as tf\n",
    "%matplotlib inline\n",
    "\n",
    "num_points = 1200\n",
    "m = 0.2\n",
    "c = 0.5\n",
    "x_data = np.random.normal(0.0, 0.8, num_points)\n",
    "noise = np.random.normal(0.0, 0.04, num_points)\n",
    "y_data = m * x_data + c + noise \n",
    "\n",
    "plt.figure()\n",
    "plt.plot(x_data, y_data, 'ro')\n",
    "plt.title('Input data')\n",
    "plt.show()"
   ]
  },
  {
   "cell_type": "code",
   "execution_count": null,
   "metadata": {
    "scrolled": false
   },
   "outputs": [],
   "source": [
    "W = tf.Variable(tf.random_uniform([1], -1.0, 1.0))\n",
    "b = tf.Variable(tf.zeros([1]))\n",
    "y = W * x_data + b\n",
    "\n",
    "loss = tf.reduce_mean(tf.square(y - y_data))\n",
    "\n",
    "optimizer = tf.train.GradientDescentOptimizer(0.5)\n",
    "train = optimizer.minimize(loss)\n",
    "\n",
    "sess = tf.Session()\n",
    "\n",
    "init = tf.global_variables_initializer()\n",
    "sess.run(init)\n",
    "\n",
    "num_iterations = 10\n",
    "for step in range(num_iterations):\n",
    "    \n",
    "    sess.run(train)\n",
    "    print('ITERATION', step+1)\n",
    "    print('W =', sess.run(W)[0])\n",
    "    print('b =', sess.run(b)[0])\n",
    "    print('loss =', sess.run(loss))\n",
    "\n",
    "    plt.figure()\n",
    "    plt.plot(x_data, y_data, 'ro')\n",
    "\n",
    "    plt.plot(x_data, sess.run(W) * x_data + sess.run(b))\n",
    "    plt.title('Iteration ' + str(step+1) + ' of ' + str(num_iterations))\n",
    "    plt.show()"
   ]
  }
 ],
 "metadata": {
  "kernelspec": {
   "display_name": "Python 3",
   "language": "python",
   "name": "python3"
  },
  "language_info": {
   "codemirror_mode": {
    "name": "ipython",
    "version": 3
   },
   "file_extension": ".py",
   "mimetype": "text/x-python",
   "name": "python",
   "nbconvert_exporter": "python",
   "pygments_lexer": "ipython3",
   "version": "3.6.7"
  }
 },
 "nbformat": 4,
 "nbformat_minor": 2
}
