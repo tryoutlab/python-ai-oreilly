{
 "cells": [
  {
   "cell_type": "code",
   "execution_count": null,
   "metadata": {},
   "outputs": [],
   "source": [
    "%matplotlib inline\n",
    "import numpy as np\n",
    "import matplotlib.pyplot as plt\n",
    "from tensorflow.keras.callbacks import Callback\n",
    "from tensorflow.keras.models import Sequential\n",
    "from tensorflow.keras.layers import Dense\n",
    "from tensorflow.keras.initializers import RandomUniform\n",
    "from tensorflow.keras.optimizers import SGD\n",
    "\n",
    "num_points = 1200\n",
    "m = 0.2\n",
    "c = 0.5\n",
    "x_data = np.random.normal(0.0, 0.8, num_points)\n",
    "noise = np.random.normal(0.0, 0.04, num_points)\n",
    "y_data = m * x_data + c + noise \n",
    "\n",
    "plt.figure()\n",
    "plt.plot(x_data, y_data, 'ro')\n",
    "plt.title('Input data')\n",
    "plt.show()"
   ]
  },
  {
   "cell_type": "code",
   "execution_count": null,
   "metadata": {
    "scrolled": false
   },
   "outputs": [],
   "source": [
    "num_iterations = 10\n",
    "\n",
    "class MyCallback(Callback):\n",
    "    def on_epoch_end(self, epoch, logs):\n",
    "        W = self.model.get_weights()[0][0][0]\n",
    "        b = self.model.get_weights()[1][0]\n",
    "        print('ITERATION', epoch+1)\n",
    "        print('W =', W)\n",
    "        print('b =', b)\n",
    "        print('loss =', logs.get('loss'))\n",
    "        plt.figure()\n",
    "        plt.plot(x_data, y_data, 'ro')\n",
    "        plt.plot(x_data, W * x_data + b)\n",
    "        plt.title('Iteration ' + str(epoch+1) + ' of ' + str(num_iterations))\n",
    "        plt.show()\n",
    "\n",
    "model = Sequential([\n",
    "    Dense(1, activation='linear', input_shape=(1,),\n",
    "          kernel_initializer=RandomUniform(-1.0, 1.0))\n",
    "])\n",
    "model.compile(loss='mse', optimizer=SGD(0.001))\n",
    "\n",
    "history = model.fit(x_data, y_data, batch_size=1, epochs=num_iterations,\n",
    "                    verbose=0, callbacks=[MyCallback()])"
   ]
  }
 ],
 "metadata": {
  "kernelspec": {
   "display_name": "Python 3",
   "language": "python",
   "name": "python3"
  },
  "language_info": {
   "codemirror_mode": {
    "name": "ipython",
    "version": 3
   },
   "file_extension": ".py",
   "mimetype": "text/x-python",
   "name": "python",
   "nbconvert_exporter": "python",
   "pygments_lexer": "ipython3",
   "version": "3.6.7"
  }
 },
 "nbformat": 4,
 "nbformat_minor": 2
}
