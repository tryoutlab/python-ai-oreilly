{
 "cells": [
  {
   "cell_type": "code",
   "execution_count": null,
   "metadata": {
    "scrolled": true
   },
   "outputs": [],
   "source": [
    "%run ipython_show_image.ipynb\n",
    "import cv2 \n",
    "import numpy as np\n",
    "\n",
    "cap = cv2.VideoCapture('ed.mp4') \n",
    "scaling_factor = 1 \n",
    "\n",
    "lower = np.array([0, 30, 60]) \n",
    "upper = np.array([50, 255, 255]) \n",
    "\n",
    "try:\n",
    "    while True:\n",
    "        frame = get_frame(cap, scaling_factor)\n",
    "        if frame is None: break\n",
    "            \n",
    "        hsv = cv2.cvtColor(frame, cv2.COLOR_BGR2HSV)\n",
    "        mask = cv2.inRange(hsv, lower, upper) \n",
    "        img_bitwise_and = cv2.bitwise_and(frame, frame, mask=mask)\n",
    "        img_median_blurred = cv2.medianBlur(img_bitwise_and, 5)\n",
    "        img2 = cv2.hconcat([frame, img_median_blurred])\n",
    "        show_image(img2)\n",
    "\n",
    "except KeyboardInterrupt:\n",
    "    print('Interrupted')\n",
    "\n",
    "cap.release()"
   ]
  }
 ],
 "metadata": {
  "kernelspec": {
   "display_name": "Python 3",
   "language": "python",
   "name": "python3"
  },
  "language_info": {
   "codemirror_mode": {
    "name": "ipython",
    "version": 3
   },
   "file_extension": ".py",
   "mimetype": "text/x-python",
   "name": "python",
   "nbconvert_exporter": "python",
   "pygments_lexer": "ipython3",
   "version": "3.6.7"
  }
 },
 "nbformat": 4,
 "nbformat_minor": 2
}
