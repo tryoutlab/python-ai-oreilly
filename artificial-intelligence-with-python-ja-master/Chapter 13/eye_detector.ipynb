{
 "cells": [
  {
   "cell_type": "code",
   "execution_count": null,
   "metadata": {},
   "outputs": [],
   "source": [
    "%run ipython_show_image.ipynb\n",
    "import cv2 \n",
    "import numpy as np \n",
    "\n",
    "face_cascade = cv2.CascadeClassifier( \n",
    "        'haar_cascade_files/haarcascade_frontalface_default.xml') \n",
    "eye_cascade = cv2.CascadeClassifier(\n",
    "        'haar_cascade_files/haarcascade_eye.xml') \n",
    "if face_cascade.empty(): \n",
    "    raise IOError('Unable to load the face cascade classifier xml file') \n",
    "if eye_cascade.empty(): \n",
    "    raise IOError('Unable to load the eye cascade classifier xml file') \n",
    "\n",
    "cap = cv2.VideoCapture('ed.mp4') \n",
    "scaling_factor = 1\n",
    "\n",
    "try:\n",
    "    while True:\n",
    "        frame = get_frame(cap, scaling_factor)\n",
    "        if frame is None: break\n",
    "        gray = cv2.cvtColor(frame, cv2.COLOR_BGR2GRAY) \n",
    "        \n",
    "        face_rects = face_cascade.detectMultiScale(gray, 1.1, 3) \n",
    "        for x,y,w,h in face_rects:\n",
    "            roi_gray = gray[y:y+h, x:x+w] \n",
    "            roi_color = frame[y:y+h, x:x+w] \n",
    "            \n",
    "            eyes = eye_cascade.detectMultiScale(roi_gray) \n",
    "            for xe,ye,we,he in eyes: \n",
    "                center = (int(xe + we/2), int(ye + he/2))\n",
    "                radius = int(0.3 * (we + he)) \n",
    "                color = (0,255,0) \n",
    "                thickness = 3 \n",
    "                cv2.circle(roi_color, center, radius, color, thickness) \n",
    "            \n",
    "        show_image(frame)\n",
    "\n",
    "except KeyboardInterrupt:\n",
    "    print('Interrupted')\n",
    "\n",
    "cap.release()        "
   ]
  },
  {
   "cell_type": "code",
   "execution_count": null,
   "metadata": {},
   "outputs": [],
   "source": []
  }
 ],
 "metadata": {
  "kernelspec": {
   "display_name": "Python 3",
   "language": "python",
   "name": "python3"
  },
  "language_info": {
   "codemirror_mode": {
    "name": "ipython",
    "version": 3
   },
   "file_extension": ".py",
   "mimetype": "text/x-python",
   "name": "python",
   "nbconvert_exporter": "python",
   "pygments_lexer": "ipython3",
   "version": "3.6.7"
  }
 },
 "nbformat": 4,
 "nbformat_minor": 2
}
