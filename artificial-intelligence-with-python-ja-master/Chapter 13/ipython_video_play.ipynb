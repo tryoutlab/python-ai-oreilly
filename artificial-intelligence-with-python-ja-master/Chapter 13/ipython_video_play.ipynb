{
 "cells": [
  {
   "cell_type": "code",
   "execution_count": null,
   "metadata": {},
   "outputs": [],
   "source": [
    "%run ipython_show_image.ipynb\n",
    "import cv2\n",
    "\n",
    "# ファイルを読み込む場合\n",
    "cap = cv2.VideoCapture('bbb.mp4') \n",
    "# カメラからキャプチャする場合\n",
    "#cap = cv2.VideoCapture(0)\n",
    "\n",
    "try:\n",
    "    while True:\n",
    "        frame = get_frame(cap, 1.0)\n",
    "        if frame is None: break\n",
    "        show_image(frame)\n",
    "    print('Finished.')\n",
    "\n",
    "except KeyboardInterrupt:\n",
    "    print('Interrupted.')\n",
    "\n",
    "cap.release()"
   ]
  },
  {
   "cell_type": "code",
   "execution_count": null,
   "metadata": {},
   "outputs": [],
   "source": []
  }
 ],
 "metadata": {
  "kernelspec": {
   "display_name": "Python 3",
   "language": "python",
   "name": "python3"
  },
  "language_info": {
   "codemirror_mode": {
    "name": "ipython",
    "version": 3
   },
   "file_extension": ".py",
   "mimetype": "text/x-python",
   "name": "python",
   "nbconvert_exporter": "python",
   "pygments_lexer": "ipython3",
   "version": "3.6.7"
  }
 },
 "nbformat": 4,
 "nbformat_minor": 2
}
