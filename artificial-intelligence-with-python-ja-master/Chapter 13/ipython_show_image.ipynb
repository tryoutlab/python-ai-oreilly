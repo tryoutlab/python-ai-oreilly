{
 "cells": [
  {
   "cell_type": "code",
   "execution_count": null,
   "metadata": {},
   "outputs": [],
   "source": [
    "import cv2\n",
    "import IPython.display\n",
    "\n",
    "def show_image(image):\n",
    "    _, png = cv2.imencode('.png', image) \n",
    "    i = IPython.display.Image(data=png)\n",
    "    IPython.display.clear_output(wait=True)\n",
    "    IPython.display.display(i)\n",
    "    \n",
    "def get_frame(cap, scaling_factor): \n",
    "    r, frame = cap.read() \n",
    "    if not r: return None\n",
    "    frame = cv2.resize(frame, None,\n",
    "                       fx=scaling_factor, fy=scaling_factor, \n",
    "                       interpolation=cv2.INTER_AREA) \n",
    "    return frame     "
   ]
  },
  {
   "cell_type": "code",
   "execution_count": null,
   "metadata": {},
   "outputs": [],
   "source": []
  }
 ],
 "metadata": {
  "kernelspec": {
   "display_name": "Python 3",
   "language": "python",
   "name": "python3"
  },
  "language_info": {
   "codemirror_mode": {
    "name": "ipython",
    "version": 3
   },
   "file_extension": ".py",
   "mimetype": "text/x-python",
   "name": "python",
   "nbconvert_exporter": "python",
   "pygments_lexer": "ipython3",
   "version": "3.6.7"
  }
 },
 "nbformat": 4,
 "nbformat_minor": 2
}
