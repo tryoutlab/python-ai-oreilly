{
 "cells": [
  {
   "cell_type": "code",
   "execution_count": null,
   "metadata": {},
   "outputs": [],
   "source": [
    "%run ipython_show_image.ipynb\n",
    "import cv2\n",
    "\n",
    "def get_gray_frame(cap, scaling_factor):\n",
    "    frame = get_frame(cap, scaling_factor)\n",
    "    if frame is None: return None\n",
    "    gray = cv2.cvtColor(frame, cv2.COLOR_BGR2GRAY) \n",
    "    return gray\n",
    "    \n",
    "def frame_diff(prev_frame, cur_frame, next_frame): \n",
    "    diff_frames_1 = cv2.absdiff(next_frame, cur_frame) \n",
    "    diff_frames_2 = cv2.absdiff(cur_frame, prev_frame) \n",
    "    return cv2.bitwise_and(diff_frames_1, diff_frames_2) \n",
    "    \n",
    "cap = cv2.VideoCapture('bbb.mp4') \n",
    "scaling_factor = 1 \n",
    "\n",
    "prev_frame = get_gray_frame(cap, scaling_factor) \n",
    "cur_frame = get_gray_frame(cap, scaling_factor) \n",
    "next_frame = get_gray_frame(cap, scaling_factor) \n",
    "\n",
    "try:\n",
    "    while True:\n",
    "        diff = frame_diff(prev_frame, cur_frame, next_frame)\n",
    "        show_image(diff)\n",
    "\n",
    "        prev_frame = cur_frame \n",
    "        cur_frame = next_frame \n",
    "        next_frame = get_gray_frame(cap, scaling_factor)  \n",
    "        if next_frame is None: break\n",
    "            \n",
    "except KeyboardInterrupt:\n",
    "    print('Interrupted')\n",
    "\n",
    "cap.release()"
   ]
  },
  {
   "cell_type": "code",
   "execution_count": null,
   "metadata": {},
   "outputs": [],
   "source": []
  }
 ],
 "metadata": {
  "kernelspec": {
   "display_name": "Python 3",
   "language": "python",
   "name": "python3"
  },
  "language_info": {
   "codemirror_mode": {
    "name": "ipython",
    "version": 3
   },
   "file_extension": ".py",
   "mimetype": "text/x-python",
   "name": "python",
   "nbconvert_exporter": "python",
   "pygments_lexer": "ipython3",
   "version": "3.6.7"
  },
  "widgets": {
   "state": {},
   "version": "1.1.2"
  }
 },
 "nbformat": 4,
 "nbformat_minor": 2
}
