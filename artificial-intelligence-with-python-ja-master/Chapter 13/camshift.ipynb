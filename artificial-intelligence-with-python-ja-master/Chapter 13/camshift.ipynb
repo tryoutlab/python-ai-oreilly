{
 "cells": [
  {
   "cell_type": "code",
   "execution_count": null,
   "metadata": {},
   "outputs": [],
   "source": [
    "%matplotlib notebook\n",
    "import cv2 \n",
    "import matplotlib.pyplot as plt\n",
    "import matplotlib.patches as patches\n",
    "\n",
    "class RectInput:\n",
    "    def __init__(self, image):\n",
    "        self.fig, self.ax = plt.subplots()\n",
    "        self.pev = None\n",
    "        self.rect = None\n",
    "        self.ax.imshow(cv2.cvtColor(image, cv2.COLOR_BGR2RGB))\n",
    "        self.fig.canvas.mpl_connect('button_press_event', self.on_press)\n",
    "        self.fig.canvas.mpl_connect('button_release_event', self.on_release)\n",
    "        self.fig.canvas.mpl_connect('motion_notify_event', self.on_move)\n",
    "        self.bbox = None\n",
    "        plt.show()\n",
    "        \n",
    "    def on_press(self, ev):\n",
    "        self.pev = ev\n",
    "        if self.rect is None:\n",
    "            self.rect = patches.Rectangle((ev.xdata, ev.ydata), 1, 1, color='white', fill=False)\n",
    "            self.ax.add_patch(self.rect)\n",
    "        else:\n",
    "            self.rect.set_bounds(ev.xdata, ev.ydata, 1, 1)\n",
    "\n",
    "    def on_release(self, ev):\n",
    "        self.pev = None\n",
    "    \n",
    "    def on_move(self, ev):\n",
    "        if self.pev is None: return\n",
    "        self.bbox = (int(min(self.pev.xdata, ev.xdata)),\n",
    "                     int(min(self.pev.ydata, ev.ydata)),\n",
    "                     int(abs(self.pev.xdata - ev.xdata)),\n",
    "                     int(abs(self.pev.ydata - ev.ydata)))\n",
    "        self.ax.set_xlabel('bbox {} {} {} {}'.format(*self.bbox))\n",
    "        self.rect.set_bounds(*self.bbox) \n",
    "        self.fig.canvas.draw()\n"
   ]
  },
  {
   "cell_type": "code",
   "execution_count": null,
   "metadata": {},
   "outputs": [],
   "source": [
    "%run ipython_show_image.ipynb\n",
    "cap = cv2.VideoCapture('bbb.mp4') \n",
    "scaling_factor = 1.0\n",
    "first_frame = get_frame(cap, scaling_factor)\n",
    "cap.release()\n",
    "\n",
    "rinput = RectInput(first_frame)"
   ]
  },
  {
   "cell_type": "code",
   "execution_count": null,
   "metadata": {},
   "outputs": [],
   "source": [
    "x,y,w,h = rinput.bbox\n",
    "hsv = cv2.cvtColor(first_frame, cv2.COLOR_BGR2HSV)\n",
    "hsv_roi = hsv[y:y+h, x:x+w]\n",
    "hist = cv2.calcHist([hsv_roi], [0], None, [16], [0,180])\n",
    "cv2.normalize(hist, hist, 0, 255, cv2.NORM_MINMAX)\n",
    "\n",
    "track_window = (x,y,w,h)\n",
    "\n",
    "cap = cv2.VideoCapture('bbb.mp4') \n",
    "try:\n",
    "    while True:\n",
    "        frame = get_frame(cap, scaling_factor)\n",
    "        if frame is None: break\n",
    "            \n",
    "        hsv = cv2.cvtColor(frame, cv2.COLOR_BGR2HSV)\n",
    "        hsv_backproj = cv2.calcBackProject([hsv], [0], hist, [0,180], 1)\n",
    "        track_box, track_window = cv2.CamShift(hsv_backproj, track_window,\n",
    "                        (cv2.TERM_CRITERIA_EPS | cv2.TERM_CRITERIA_COUNT, 10, 1)) \n",
    "        \n",
    "        bp = cv2.cvtColor(hsv_backproj, cv2.COLOR_GRAY2BGR)\n",
    "        cv2.ellipse(frame, track_box, (0,255,0), 2)\n",
    "        img2 = cv2.hconcat([bp, frame])\n",
    "        show_image(img2)\n",
    "        \n",
    "except KeyboardInterrupt:\n",
    "    print('Interrupted')\n",
    "\n",
    "cap.release()"
   ]
  }
 ],
 "metadata": {
  "kernelspec": {
   "display_name": "Python 3",
   "language": "python",
   "name": "python3"
  },
  "language_info": {
   "codemirror_mode": {
    "name": "ipython",
    "version": 3
   },
   "file_extension": ".py",
   "mimetype": "text/x-python",
   "name": "python",
   "nbconvert_exporter": "python",
   "pygments_lexer": "ipython3",
   "version": "3.6.7"
  }
 },
 "nbformat": 4,
 "nbformat_minor": 2
}
