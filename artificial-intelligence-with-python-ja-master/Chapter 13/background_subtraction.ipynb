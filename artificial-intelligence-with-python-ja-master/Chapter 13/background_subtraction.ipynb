{
 "cells": [
  {
   "cell_type": "code",
   "execution_count": null,
   "metadata": {},
   "outputs": [],
   "source": [
    "%run ipython_show_image.ipynb\n",
    "import cv2 \n",
    "import numpy as np\n",
    "\n",
    "cap = cv2.VideoCapture('bbb.mp4') \n",
    "scaling_factor = 1 \n",
    "\n",
    "bg_subtractor = cv2.createBackgroundSubtractorMOG2() \n",
    "\n",
    "history = 100 \n",
    "learning_rate = 1.0 / history \n",
    "\n",
    "try:\n",
    "    while True:\n",
    "        frame = get_frame(cap, scaling_factor)\n",
    "        if frame is None: break\n",
    "\n",
    "        mask = bg_subtractor.apply(frame, learningRate=learning_rate) \n",
    "        mask = cv2.cvtColor(mask, cv2.COLOR_GRAY2BGR) \n",
    "        img2 = cv2.hconcat([frame, frame & mask])\n",
    "        show_image(img2)\n",
    "\n",
    "except KeyboardInterrupt:\n",
    "    print('Interrupted')\n",
    "\n",
    "cap.release()"
   ]
  }
 ],
 "metadata": {
  "kernelspec": {
   "display_name": "Python 3",
   "language": "python",
   "name": "python3"
  },
  "language_info": {
   "codemirror_mode": {
    "name": "ipython",
    "version": 3
   },
   "file_extension": ".py",
   "mimetype": "text/x-python",
   "name": "python",
   "nbconvert_exporter": "python",
   "pygments_lexer": "ipython3",
   "version": "3.6.7"
  }
 },
 "nbformat": 4,
 "nbformat_minor": 2
}
