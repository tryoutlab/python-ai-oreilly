{
 "cells": [
  {
   "cell_type": "code",
   "execution_count": null,
   "metadata": {},
   "outputs": [],
   "source": [
    "from easyAI import TwoPlayersGame, id_solve, Human_Player, AI_Player \n",
    "from easyAI.AI import TT \n",
    "\n",
    "class LastCoinStanding(TwoPlayersGame): \n",
    "    def __init__(self, players): \n",
    "        self.players = players \n",
    "        self.nplayer = 1 \n",
    "        self.num_coins = 25 \n",
    "        self.max_coins = 4 \n",
    "\n",
    "    def possible_moves(self): \n",
    "        return [str(x) for x in range(1, self.max_coins + 1)] \n",
    "\n",
    "    def make_move(self, move): \n",
    "        self.num_coins -= int(move) \n",
    "\n",
    "    def win(self): \n",
    "        return self.num_coins <= 0 \n",
    "\n",
    "    def is_over(self): \n",
    "        return self.win() \n",
    "\n",
    "    def scoring(self): \n",
    "        return 100 if self.win() else 0 \n",
    "\n",
    "    def show(self): \n",
    "        print(self.num_coins, 'coins left in the pile') \n",
    "\n",
    "    def ttentry(self): \n",
    "        return self.num_coins\n",
    "\n",
    "tt = TT() \n",
    "result, depth, move = id_solve(LastCoinStanding,\n",
    "    range(2, 20), win_score=100, tt=tt) \n",
    "print(result, depth, move)  \n",
    "\n",
    "game = LastCoinStanding([AI_Player(tt), Human_Player()]) \n",
    "game.play() "
   ]
  },
  {
   "cell_type": "code",
   "execution_count": null,
   "metadata": {},
   "outputs": [],
   "source": []
  }
 ],
 "metadata": {
  "kernelspec": {
   "display_name": "Python 3",
   "language": "python",
   "name": "python3"
  },
  "language_info": {
   "codemirror_mode": {
    "name": "ipython",
    "version": 3
   },
   "file_extension": ".py",
   "mimetype": "text/x-python",
   "name": "python",
   "nbconvert_exporter": "python",
   "pygments_lexer": "ipython3",
   "version": "3.6.7"
  }
 },
 "nbformat": 4,
 "nbformat_minor": 2
}
