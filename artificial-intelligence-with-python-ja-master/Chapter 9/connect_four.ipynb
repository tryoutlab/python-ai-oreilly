{
 "cells": [
  {
   "cell_type": "code",
   "execution_count": null,
   "metadata": {
    "scrolled": false
   },
   "outputs": [],
   "source": [
    "import numpy as np \n",
    "import random\n",
    "from easyAI import TwoPlayersGame, Human_Player, AI_Player, Negamax, SSS \n",
    "\n",
    "class GameController(TwoPlayersGame): \n",
    "    def __init__(self, players):\n",
    "        self.players = players \n",
    "        self.nplayer = 1 \n",
    "\n",
    "        self.board = np.zeros((6,7), dtype=np.int)\n",
    "        self.pos_dir = np.array(\n",
    "            [[[i, 0], [0, 1]] for i in range(6)] +     #右方向\n",
    "            [[[0, i], [1, 0]] for i in range(7)] +     #上方向\n",
    "            [[[i, 0], [1, 1]] for i in range(1, 3)] +  #右上方向\n",
    "            [[[0, i], [1, 1]] for i in range(4)] +     #右上方向\n",
    "            [[[i, 6], [1, -1]] for i in range(1, 3)] + #右下方向\n",
    "            [[[0, i], [1, -1]] for i in range(3, 7)])  #右下方向\n",
    "\n",
    "    def possible_moves(self):\n",
    "        return [i for i in range(7) if (self.board[:, i].min() == 0)]\n",
    "#        return np.random.permutation([i for i in range(7) if (self.board[:, i].min() == 0)])\n",
    "\n",
    "    def make_move(self, column): \n",
    "        line = np.argmin(self.board[:, column] != 0) \n",
    "        self.board[line, column] = self.nplayer \n",
    "\n",
    "    def show(self): \n",
    "        print('\\n0 1 2 3 4 5 6')\n",
    "        print(13 * '-')\n",
    "        for j in range(5,-1,-1):\n",
    "            print(' '.join(['.OX'[self.board[j][i]]\n",
    "                            for i in range(7)]))\n",
    "\n",
    "    def loss_condition(self): \n",
    "        for pos, direction in self.pos_dir: \n",
    "            streak = 0 \n",
    "            while (0 <= pos[0] <= 5) and (0 <= pos[1] <= 6): \n",
    "                if self.board[pos[0], pos[1]] == self.nopponent: \n",
    "                    streak += 1 \n",
    "                    if streak == 4: \n",
    "                        return True \n",
    "                else: \n",
    "                    streak = 0 \n",
    "                pos = pos + direction \n",
    "        return False \n",
    "\n",
    "    def is_over(self): \n",
    "        return (self.board.min() > 0) or self.loss_condition() \n",
    "\n",
    "    def scoring(self): \n",
    "        return -100 if self.loss_condition() else 0 \n",
    "\n",
    "\n",
    "algo_neg = Negamax(5) \n",
    "algo_sss = SSS(5) \n",
    "\n",
    "game = GameController([AI_Player(algo_neg), AI_Player(algo_sss)]) \n",
    "game.play() \n",
    "\n",
    "if game.loss_condition(): \n",
    "    print('\\nPlayer', game.nopponent, 'wins. ') \n",
    "else: \n",
    "    print(\"\\nIt's a draw.\") "
   ]
  },
  {
   "cell_type": "code",
   "execution_count": null,
   "metadata": {},
   "outputs": [],
   "source": []
  }
 ],
 "metadata": {
  "kernelspec": {
   "display_name": "Python 3",
   "language": "python",
   "name": "python3"
  },
  "language_info": {
   "codemirror_mode": {
    "name": "ipython",
    "version": 3
   },
   "file_extension": ".py",
   "mimetype": "text/x-python",
   "name": "python",
   "nbconvert_exporter": "python",
   "pygments_lexer": "ipython3",
   "version": "3.6.7"
  }
 },
 "nbformat": 4,
 "nbformat_minor": 2
}
