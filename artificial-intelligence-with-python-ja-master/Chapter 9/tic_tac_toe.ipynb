{
 "cells": [
  {
   "cell_type": "code",
   "execution_count": null,
   "metadata": {},
   "outputs": [],
   "source": [
    "from easyAI import TwoPlayersGame, AI_Player, Negamax \n",
    "from easyAI.Player import Human_Player \n",
    "\n",
    "class GameController(TwoPlayersGame): \n",
    "    def __init__(self, players): \n",
    "        self.players = players \n",
    "        self.nplayer = 1 \n",
    "        self.board = [0] * 9 \n",
    "\n",
    "    def possible_moves(self): \n",
    "        return [a + 1 for a, b in enumerate(self.board) if b == 0] \n",
    "\n",
    "    def make_move(self, move): \n",
    "        self.board[int(move) - 1] = self.nplayer \n",
    "\n",
    "    def loss_condition(self): \n",
    "        possible_combinations = [[1,2,3], [4,5,6], [7,8,9], [1,4,7], \n",
    "                                 [2,5,8], [3,6,9], [1,5,9], [3,5,7]] \n",
    "        return any([all([(self.board[i-1] == self.nopponent) \n",
    "                        for i in combination]) \n",
    "                    for combination in possible_combinations]) \n",
    "\n",
    "    def is_over(self): \n",
    "        return (self.possible_moves() == []) or self.loss_condition() \n",
    "\n",
    "    def show(self): \n",
    "        print('\\n'+'\\n'.join([' '.join([['.', 'O', 'X'][self.board[3*j + i]] \n",
    "                                       for i in range(3)]) for j in range(3)])) \n",
    "\n",
    "    def scoring(self): \n",
    "        return -100 if self.loss_condition() else 0 \n",
    "\n",
    "algorithm = Negamax(7) \n",
    "game = GameController([Human_Player(), AI_Player(algorithm)])\n",
    "game.play() "
   ]
  },
  {
   "cell_type": "code",
   "execution_count": null,
   "metadata": {},
   "outputs": [],
   "source": []
  }
 ],
 "metadata": {
  "kernelspec": {
   "display_name": "Python 3",
   "language": "python",
   "name": "python3"
  },
  "language_info": {
   "codemirror_mode": {
    "name": "ipython",
    "version": 3
   },
   "file_extension": ".py",
   "mimetype": "text/x-python",
   "name": "python",
   "nbconvert_exporter": "python",
   "pygments_lexer": "ipython3",
   "version": "3.6.7"
  }
 },
 "nbformat": 4,
 "nbformat_minor": 2
}
