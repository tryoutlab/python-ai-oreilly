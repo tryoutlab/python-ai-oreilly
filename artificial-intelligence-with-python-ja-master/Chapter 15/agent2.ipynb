{
 "cells": [
  {
   "cell_type": "code",
   "execution_count": null,
   "metadata": {},
   "outputs": [],
   "source": [
    "import gym\n",
    "import numpy as np\n",
    "import random\n",
    "\n",
    "env = gym.make('CartPole-v1')\n",
    "\n",
    "class Agent:\n",
    "    def __init__(self):\n",
    "        self.Q = np.zeros((5**4,2))\n",
    "        self.last_s = None\n",
    "        self.last_a = None\n",
    "        \n",
    "    def quantize5(self, x, a, b):\n",
    "        return 0 if x < -a else 1 if x < -b else \\\n",
    "               2 if x <= b else 3 if x <= a else 4\n",
    "\n",
    "    def quantize(self, obs):\n",
    "        pos = self.quantize5(obs[0], 1.2, 0.2)\n",
    "        vel = self.quantize5(obs[1], 1.5, 0.2)\n",
    "        ang = self.quantize5(obs[2], 0.25, 0.02)\n",
    "        acc = self.quantize5(obs[2], 1.0, 0.2)\n",
    "        return  pos + vel * 5 + ang * 25 + acc * 125\n",
    "    \n",
    "    def action(self, obs, episode, reward):\n",
    "        s = self.quantize(obs)\n",
    "        if random.random() > 0.5 * (1 / (episode + 1)):\n",
    "            a = np.argmax(self.Q[s,:])\n",
    "        else:\n",
    "            a = random.randint(0, 1)\n",
    "            \n",
    "        if self.last_s is not None:\n",
    "            q = self.Q[self.last_s, self.last_a]\n",
    "            self.Q[self.last_s, self.last_a] = \\\n",
    "               q + 0.2 * (reward + 0.99 * np.max(self.Q[s,:]) - q)\n",
    "        self.last_s = s\n",
    "        self.last_a = a\n",
    "        return a\n",
    "    \n",
    "agent = Agent()\n",
    "\n",
    "steps = []\n",
    "for episode in range(100):\n",
    "    observation = env.reset()\n",
    "\n",
    "    reward = 0\n",
    "    for step in range(200):\n",
    "        env.render()\n",
    "        action = agent.action(observation, episode, reward)\n",
    "        observation, reward, done, info = env.step(action)\n",
    "        if done:\n",
    "            agent.action(observation, episode, -200)\n",
    "            break\n",
    "            \n",
    "    print('Episode {} finished after {} timesteps'.format(episode+1, step+1))\n",
    "    steps.append(step+1)\n",
    "env.close()"
   ]
  },
  {
   "cell_type": "code",
   "execution_count": null,
   "metadata": {},
   "outputs": [],
   "source": [
    "import matplotlib.pyplot as plt\n",
    "%matplotlib inline\n",
    "\n",
    "plt.figure()\n",
    "plt.plot(steps)\n",
    "plt.xlabel('Episode')\n",
    "plt.ylabel('Step')\n",
    "plt.show()"
   ]
  },
  {
   "cell_type": "code",
   "execution_count": null,
   "metadata": {},
   "outputs": [],
   "source": []
  }
 ],
 "metadata": {
  "kernelspec": {
   "display_name": "Python 3",
   "language": "python",
   "name": "python3"
  },
  "language_info": {
   "codemirror_mode": {
    "name": "ipython",
    "version": 3
   },
   "file_extension": ".py",
   "mimetype": "text/x-python",
   "name": "python",
   "nbconvert_exporter": "python",
   "pygments_lexer": "ipython3",
   "version": "3.6.7"
  }
 },
 "nbformat": 4,
 "nbformat_minor": 2
}
