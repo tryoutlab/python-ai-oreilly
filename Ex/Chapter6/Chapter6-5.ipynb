{
 "cells": [
  {
   "cell_type": "code",
   "execution_count": 2,
   "metadata": {},
   "outputs": [],
   "source": [
    "from kanren import run, var, fact\n",
    "import kanren.assoccomm as la\n",
    "\n",
    "# 足し算(add)と掛け算（mul)\n",
    "add = 'addition'\n",
    "mul = 'multiplication'\n",
    "\n",
    "# 足し算、掛け算は交換法則（commutative)、結合法則(associative)を持つ事をfactを使って宣言する\n",
    "fact(la.commutative, mul)\n",
    "fact(la.commutative, add)\n",
    "fact(la.associative, mul)\n",
    "fact(la.associative, add)\n",
    "\n",
    "a, b, c = var('a'), var('b'), var('c')"
   ]
  },
  {
   "cell_type": "code",
   "execution_count": null,
   "metadata": {},
   "outputs": [],
   "source": []
  }
 ],
 "metadata": {
  "file_extension": ".py",
  "kernelspec": {
   "display_name": "Python 3",
   "language": "python",
   "name": "python3"
  },
  "language_info": {
   "codemirror_mode": {
    "name": "ipython",
    "version": 3
   },
   "file_extension": ".py",
   "mimetype": "text/x-python",
   "name": "python",
   "nbconvert_exporter": "python",
   "pygments_lexer": "ipython3",
   "version": "3.7.5"
  },
  "mimetype": "text/x-python",
  "name": "python",
  "npconvert_exporter": "python",
  "pygments_lexer": "ipython3",
  "version": 3
 },
 "nbformat": 4,
 "nbformat_minor": 4
}
