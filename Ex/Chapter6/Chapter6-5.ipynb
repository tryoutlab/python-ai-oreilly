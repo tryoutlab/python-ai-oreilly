{
 "cells": [
  {
   "cell_type": "code",
   "execution_count": 2,
   "metadata": {
    "pycharm": {
     "is_executing": false
    }
   },
   "outputs": [],
   "source": [
    "from kanren import run, var, fact\n",
    "import kanren.assoccomm as la\n",
    "\n",
    "# 足し算(add)と掛け算（mul)\n",
    "# addとmulはルールの名前なだけ\n",
    "add = 'addition'\n",
    "mul = 'multiplication'\n",
    "\n",
    "# 足し算、掛け算は交換法則（commutative)、結合法則(associative)を持つ事をfactを使って宣言する\n",
    "# 交換法則とは、入れ替えても結果が変わらない事。足し算も掛け算も入れ替えても答えは変わらない\n",
    "# 結合法則とは、カッコの位置を変えても変わらない事。足し算だけの式、掛け算だけの式はカッコの位置が変わっても答えは変わらない\n",
    "# 交換法則も結合法則も文字列をどう扱うかといったルールでも使える\n",
    "fact(la.commutative, mul)\n",
    "fact(la.commutative, add)\n",
    "fact(la.associative, mul)\n",
    "fact(la.associative, add)\n",
    "\n",
    "a, b, c = var('a'), var('b'), var('c')\n",
    "\n",
    "expression_orig = (add, (mul, 3, -2), (mul, (add, 1, (mul, 2, 3)), -1))\n",
    "\n",
    "expression1 = (add, (mul, (add, 1, (mul, 2, a)), b), (mul, 3, c))\n",
    "expression2 = (add, (mul, 3, c), (mul, b, (add, (mul, 2, a), 1)))\n",
    "expression3 = (add, (add, (mul, (mul, 2, a), b), b), (mul, 3, c))"
   ]
  },
  {
   "cell_type": "markdown",
   "metadata": {},
   "source": [
    "この式を例に\n",
    "\n",
    "$$\n",
    "  expression\\_orig = 3 \\times (-2) + (1 + 2 \\times 3) \\times (-1)\n",
    "$$\n",
    "\n",
    "変数で置き換えた式を照合する\n",
    "\n",
    "$$\n",
    "\\begin{align}\n",
    "  &expression1 = (1 + 2 \\times a) \\times b + 3 \\times c\\\\ \n",
    "  &expression2 = c \\times 3 + b \\times (2 \\times a + 1)\\\\\n",
    "  &expression3 = (((2 \\times a) \\times b) + b) + 3 \\times c\n",
    " \\end{align}\n",
    "$$\n",
    "\n",
    "expression1〜3は数学的に同じ式"
   ]
  },
  {
   "cell_type": "code",
   "execution_count": 3,
   "metadata": {
    "pycharm": {
     "is_executing": false
    }
   },
   "outputs": [
    {
     "name": "stdout",
     "text": [
      "((3, -1, -2),)\n",
      "((3, -1, -2),)\n",
      "()\n"
     ],
     "output_type": "stream"
    }
   ],
   "source": [
    "print(run(0, (a, b, c), la.eq_assoccomm(expression1, expression_orig)))\n",
    "print(run(0, (a, b, c), la.eq_assoccomm(expression2, expression_orig)))\n",
    "print(run(0, (a, b, c), la.eq_assoccomm(expression3, expression_orig)))"
   ]
  },
  {
   "cell_type": "markdown",
   "source": [
    "1番目と2番目の式は一緒。３番目は構造的に異なる（らしい）\n",
    "\n",
    "run(答えの個数, （欲しい答えの変数）, \n",
    "\n",
    "分配法則を定義していないから？？"
   ],
   "metadata": {
    "collapsed": false,
    "pycharm": {
     "name": "#%% md\n"
    }
   }
  },
  {
   "cell_type": "markdown",
   "metadata": {
    "pycharm": {
     "name": "#%% md\n"
    }
   },
   "source": [
    "`eq_assoccomm`が分からん。。。\n",
    "\n",
    "\n"
   ]
  }
 ],
 "metadata": {
  "file_extension": ".py",
  "kernelspec": {
   "display_name": "Python 3",
   "language": "python",
   "name": "python3"
  },
  "language_info": {
   "codemirror_mode": {
    "name": "ipython",
    "version": 3
   },
   "file_extension": ".py",
   "mimetype": "text/x-python",
   "name": "python",
   "nbconvert_exporter": "python",
   "pygments_lexer": "ipython3",
   "version": "3.7.6"
  },
  "mimetype": "text/x-python",
  "name": "python",
  "npconvert_exporter": "python",
  "pygments_lexer": "ipython3",
  "version": 3,
  "pycharm": {
   "stem_cell": {
    "cell_type": "raw",
    "source": [],
    "metadata": {
     "collapsed": false
    }
   }
  }
 },
 "nbformat": 4,
 "nbformat_minor": 4
}