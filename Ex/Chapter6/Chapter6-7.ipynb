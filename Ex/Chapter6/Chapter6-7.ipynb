{
 "nbformat": 4,
 "nbformat_minor": 2,
 "metadata": {
  "language_info": {
   "name": "python",
   "codemirror_mode": {
    "name": "ipython",
    "version": 3
   },
   "version": "3.7.6-final"
  },
  "orig_nbformat": 2,
  "file_extension": ".py",
  "mimetype": "text/x-python",
  "name": "python",
  "npconvert_exporter": "python",
  "pygments_lexer": "ipython3",
  "version": 3,
  "kernelspec": {
   "name": "python37664bitbaseconda8174702101a04ade9928e57b00042209",
   "display_name": "Python 3.7.6 64-bit ('base': conda)"
  }
 },
 "cells": [
  {
   "cell_type": "markdown",
   "execution_count": null,
   "metadata": {},
   "outputs": [],
   "source": [
    "## 家系図"
   ]
  },
  {
   "cell_type": "code",
   "execution_count": 2,
   "metadata": {},
   "outputs": [
    {
     "name": "stdout",
     "output_type": "stream",
     "text": "John\nMegan\n"
    }
   ],
   "source": [
    "import json\n",
    "from kanren import Relation, facts, run, conde, var, eq\n",
    "\n",
    "# ファイル読み込み\n",
    "with open('./relationships.json') as f:\n",
    "    d = json.loads(f.read())\n",
    "\n",
    "# father と motherを定義する\n",
    "father = Relation()\n",
    "mother = Relation()\n",
    "\n",
    "# jsonファイルにあるfatherを定義する\n",
    "for item in d['father']:\n",
    "    facts(father, (list(item.keys())[0], list(item.values())[0]))\n",
    "\n",
    "# jsonファイルにあるmotherを定義する\n",
    "for item in d['mother']:\n",
    "    facts(mother, (list(item.keys())[0], list(item.values())[0]))\n",
    "\n",
    "# xがyの親かどうかを判定する\n",
    "def parent(x, y):\n",
    "    # condeの引数はそれぞれOR条件として扱われる\n",
    "    # x, yの関係性をfather, motherのどちらかに当てはまるかを確認する\n",
    "    return conde((father(x, y),), (mother(x, y),))\n",
    "\n",
    "# 求めたい変数xを定義する\n",
    "x = var()\n",
    "\n",
    "# Adamの親は誰かを求める\n",
    "output = run(0, x, parent(x, 'Adam'))\n",
    "for item in output:\n",
    "    print(item)\n"
   ]
  },
  {
   "cell_type": "code",
   "execution_count": 4,
   "metadata": {},
   "outputs": [
    {
     "name": "stdout",
     "output_type": "stream",
     "text": "Megan\nJohn\n"
    }
   ],
   "source": [
    "def grandparent(x, y):\n",
    "    temp = var()\n",
    "    # condeの引数がタプルの時はANDを取る\n",
    "    return conde((parent(x, temp), parent(temp, y)))\n",
    "\n",
    "# Wayneの祖父母は誰かを求める\n",
    "output = run(0, x, grandparent(x, 'Wayne'))\n",
    "for item in output:\n",
    "    print(item)\n"
   ]
  },
  {
   "cell_type": "code",
   "execution_count": 6,
   "metadata": {},
   "outputs": [
    {
     "name": "stdout",
     "output_type": "stream",
     "text": "Husband William <==> Wife: Emma\nHusband David <==> Wife: Olivia\nHusband Adam <==> Wife: Lily\nHusband John <==> Wife: Megan\n"
    }
   ],
   "source": [
    "a, b, c = var(), var(), var()\n",
    "\n",
    "# cの父a、cの母bの組み合わせになる、夫婦a, bを求める\n",
    "output = run(0, (a, b), father(a, c), mother(b, c))\n",
    "\n",
    "for item in output:\n",
    "    print('Husband', item[0], '<==> Wife:', item[1])"
   ]
  },
  {
   "cell_type": "code",
   "execution_count": null,
   "metadata": {},
   "outputs": [],
   "source": []
  }
 ]
}