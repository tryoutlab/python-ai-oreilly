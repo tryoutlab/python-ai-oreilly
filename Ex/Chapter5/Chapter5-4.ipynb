{
 "cells": [
  {
   "cell_type": "markdown",
   "metadata": {},
   "source": [
    "## 5.4 類似度の計算"
   ]
  },
  {
   "cell_type": "code",
   "execution_count": 3,
   "metadata": {},
   "outputs": [],
   "source": [
    "import json\n",
    "import numpy as np\n",
    "\n",
    "def euclidean_score(dataset, user1, user2):\n",
    "    if user1 not in dataset:\n",
    "        raise TypeError('Cannot find ' + user1 + ' in the dataset')\n",
    "    if user2 not in dataset:\n",
    "        raise TypeError('Cannot find ' + user2 + ' in the dataset')\n",
    "    \n",
    "    common_movies = {}\n",
    "    for item in dataset[user1]:\n",
    "        if item in dataset[user2]:\n",
    "            common_movies[item] = 1\n",
    "            \n",
    "    if len(common_movies) == 0:\n",
    "        return 0\n",
    "    \n",
    "    squared_diff = []\n",
    "    for item in common_movies:\n",
    "        squared_diff.append(np.square(dataset[user1][item] - \n",
    "                                     dataset[user2][item]))\n",
    "        \n",
    "    return 1 / (1 + np.sqrt(np.sum(squared_diff)))"
   ]
  },
  {
   "cell_type": "code",
   "execution_count": 6,
   "metadata": {},
   "outputs": [],
   "source": [
    "def pearson_score(dataset, user1, user2):\n",
    "    if user1 not in dataset:\n",
    "        raise TypeError('Cannot find ' + user1 + ' in the dataset')\n",
    "    if user2 not in dataset:\n",
    "        raise TypeError('Cannot find ' + user2 + ' in the dataset')\n",
    "    \n",
    "    common_movies = {}\n",
    "    for item in dataset[user1]:\n",
    "        if item in dataset[user2]:\n",
    "            common_movies[item] = 1\n",
    "            \n",
    "    num_rating = len(common_movies)\n",
    "    \n",
    "    if num_rating == 0:\n",
    "        return 0\n",
    "    \n",
    "    user1_sum = np.sum([dataset[user1][item] for item in common_movies])\n",
    "    user2_sum = np.sum([dataset[user2][item] for item in common_movies])\n",
    "    \n",
    "    user1_squared_sum = np.sum([np.square(dataset[user1][item]) for item in common_movies])\n",
    "    user2_squared_sum = np.sum([np.square(dataset[user2][item]) for item in common_movies])\n",
    "    \n",
    "    sum_of_products = np.sum([dataset[user1][item] * dataset[user2][item] for item in common_movies])\n",
    "    \n",
    "    Sxy = sum_of_products - (user1_sum * user2_sum / num_rating)\n",
    "    Sxx = user1_squared_sum - np.square(user1_sum) / num_rating\n",
    "    Syy = user2_squared_sum - np.square(user2_sum) / num_rating\n",
    "    \n",
    "    if Sxx * Syy == 0:\n",
    "        return 0\n",
    "    \n",
    "    return (Sxy / np.sqrt(Sxx * Syy))"
   ]
  },
  {
   "cell_type": "code",
   "execution_count": 10,
   "metadata": {},
   "outputs": [
    {
     "name": "stdout",
     "output_type": "stream",
     "text": "Euclidean score:\n0\nPearson score:\n0\n"
    }
   ],
   "source": [
    "rating_file = './data/ratings.json'\n",
    "\n",
    "with open(rating_file, 'r') as f:\n",
    "    data = json.loads(f.read())\n",
    "    \n",
    "user1 = 'Julie Hammel'\n",
    "user2 = 'Chris Duncan'\n",
    "\n",
    "print(\"Euclidean score:\") \n",
    "print(euclidean_score(data, user1, user2))\n",
    "\n",
    "print(\"Pearson score:\") \n",
    "print(pearson_score(data, user1, user2)) "
   ]
  },
  {
   "cell_type": "code",
   "execution_count": null,
   "metadata": {},
   "outputs": [],
   "source": []
  }
 ],
 "metadata": {
  "kernelspec": {
   "display_name": "Python 3",
   "language": "python",
   "name": "python3"
  },
  "language_info": {
   "codemirror_mode": {
    "name": "ipython",
    "version": 3
   },
   "file_extension": ".py",
   "mimetype": "text/x-python",
   "name": "python",
   "nbconvert_exporter": "python",
   "pygments_lexer": "ipython3",
   "version": "3.7.5"
  }
 },
 "nbformat": 4,
 "nbformat_minor": 4
}