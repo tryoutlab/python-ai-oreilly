{
 "cells": [
  {
   "cell_type": "markdown",
   "metadata": {},
   "source": [
    "## 教師あり学習の際、データ分類を行うための方法"
   ]
  },
  {
   "cell_type": "markdown",
   "metadata": {},
   "source": [
    "### 二値化\n",
    "**値を2.1を閾値にして0 or 1で正規化する**  \n",
    "**preprocessingは前処理用のライブラリとして用意されている**"
   ]
  },
  {
   "cell_type": "code",
   "execution_count": 7,
   "metadata": {},
   "outputs": [
    {
     "name": "stdout",
     "output_type": "stream",
     "text": "Binarized data:\n [[1. 0. 1.]\n [0. 1. 0.]\n [1. 0. 0.]\n [1. 0. 0.]]\n"
    }
   ],
   "source": [
    "import numpy as np\n",
    "from sklearn import preprocessing\n",
    "\n",
    "input_data = np.array([[5.1, -2.9, 3.3],\n",
    "                     [-1.2, 7.8, -6.1],\n",
    "                     [3.9, 0.4, 2.1],\n",
    "                     [7.3, -9.9, -4.5]])\n",
    "\n",
    "data_binarized = preprocessing.Binarizer(threshold=2.1).transform(input_data)\n",
    "print(\"Binarized data:\\n\", data_binarized)"
   ]
  },
  {
   "cell_type": "markdown",
   "metadata": {},
   "source": [
    "### 平均値を引く\n",
    "\n",
    "値から平均値を引くと、特徴量の中心が原点になり平均からの偏りを表すことができる"
   ]
  },
  {
   "cell_type": "code",
   "execution_count": 3,
   "metadata": {},
   "outputs": [
    {
     "name": "stdout",
     "output_type": "stream",
     "text": "BEFORE:\nMean（平均）= [ 3.775 -1.15  -1.3  ]\nStd deviation（標準偏差）= [3.12039661 6.36651396 4.0620192 ]\n"
    }
   ],
   "source": [
    "print(\"BEFORE:\")\n",
    "print(\"Mean（平均）=\", input_data.mean(axis=0))\n",
    "print(\"Std deviation（標準偏差）=\", input_data.std(axis=0))"
   ]
  },
  {
   "cell_type": "code",
   "execution_count": 4,
   "metadata": {},
   "outputs": [
    {
     "name": "stdout",
     "output_type": "stream",
     "text": "AFTER:\nMean（平均）= [1.11022302e-16 0.00000000e+00 2.77555756e-17]\nStd deviation（標準偏差）= [1. 1. 1.]\n"
    }
   ],
   "source": [
    "data_scaled = preprocessing.scale(input_data)\n",
    "print(\"AFTER:\")\n",
    "print(\"Mean（平均）=\", data_scaled.mean(axis=0))\n",
    "print(\"Std deviation（標準偏差）=\", data_scaled.std(axis=0))"
   ]
  },
  {
   "cell_type": "markdown",
   "execution_count": 2,
   "metadata": {},
   "outputs": [
    {
     "ename": "SyntaxError",
     "evalue": "invalid syntax (<ipython-input-2-0b5bc44b3aa3>, line 2)",
     "output_type": "error",
     "traceback": [
      "\u001b[0;36m  File \u001b[0;32m\"<ipython-input-2-0b5bc44b3aa3>\"\u001b[0;36m, line \u001b[0;32m2\u001b[0m\n\u001b[0;31m    **今回であれば0-1の間になるように量を変換する**\u001b[0m\n\u001b[0m     ^\u001b[0m\n\u001b[0;31mSyntaxError\u001b[0m\u001b[0;31m:\u001b[0m invalid syntax\n"
     ]
    }
   ],
   "source": [
    "### スケーリング  \n",
    "今回であれば**各列の値**が0-1の間になるように量を変換する\n"
   ]
  },
  {
   "cell_type": "code",
   "execution_count": 5,
   "metadata": {},
   "outputs": [
    {
     "name": "stdout",
     "output_type": "stream",
     "text": "Min max scaled data:\n [[0.74117647 0.39548023 1.        ]\n [0.         1.         0.        ]\n [0.6        0.5819209  0.87234043]\n [1.         0.         0.17021277]]\n"
    }
   ],
   "source": [
    "data_scaler_minmax = preprocessing.MinMaxScaler(feature_range=(0,1))\n",
    "data_scaled_minmax = data_scaler_minmax.fit_transform(input_data)\n",
    "print(\"Min max scaled data:\\n\", data_scaled_minmax)"
   ]
  },
  {
   "cell_type": "markdown",
   "execution_count": 3,
   "metadata": {},
   "outputs": [],
   "source": [
    "### 正規化\n",
    "- L1正規化\n",
    "  - 各行の要素の絶対値の和が1となるようの調整したもの\n",
    "\n",
    "- L2正規化\n",
    "  - 各行の要素値の二乗の和が1となるように調整したもの\n",
    "\n",
    "- L1正規化の方がL2正規化より外れ値の影響を受けにくい。逆に外れ値が重要な場合はL2正規化を利用すると良い。"
   ]
  },
  {
   "cell_type": "code",
   "execution_count": 8,
   "metadata": {},
   "outputs": [
    {
     "name": "stdout",
     "output_type": "stream",
     "text": "L1 normalized data:\n [[ 0.45132743 -0.25663717  0.2920354 ]\n [-0.0794702   0.51655629 -0.40397351]\n [ 0.609375    0.0625      0.328125  ]\n [ 0.33640553 -0.4562212  -0.20737327]]\nL2 normalized data:\n [[ 0.75765788 -0.43082507  0.49024922]\n [-0.12030718  0.78199664 -0.61156148]\n [ 0.87690281  0.08993875  0.47217844]\n [ 0.55734935 -0.75585734 -0.34357152]]\n"
    }
   ],
   "source": [
    "data_normalized_l1 = preprocessing.normalize(input_data, norm=\"l1\")\n",
    "data_normalized_l2 = preprocessing.normalize(input_data, norm=\"l2\")\n",
    "\n",
    "print(\"L1 normalized data:\\n\", data_normalized_l1)\n",
    "print(\"L2 normalized data:\\n\", data_normalized_l2)"
   ]
  },
  {
   "cell_type": "code",
   "execution_count": null,
   "metadata": {},
   "outputs": [],
   "source": []
  }
 ],
 "metadata": {
  "kernelspec": {
   "display_name": "Python 3",
   "language": "python",
   "name": "python3"
  },
  "language_info": {
   "codemirror_mode": {
    "name": "ipython",
    "version": 3
   },
   "file_extension": ".py",
   "mimetype": "text/x-python",
   "name": "python",
   "nbconvert_exporter": "python",
   "pygments_lexer": "ipython3",
   "version": "3.7.5"
  }
 },
 "nbformat": 4,
 "nbformat_minor": 2
}