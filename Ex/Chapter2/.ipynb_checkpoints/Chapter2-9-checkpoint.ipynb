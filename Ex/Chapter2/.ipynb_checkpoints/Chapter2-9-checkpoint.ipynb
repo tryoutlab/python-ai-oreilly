{
 "cells": [
  {
   "cell_type": "code",
   "execution_count": 5,
   "metadata": {},
   "outputs": [
    {
     "data": {
      "text/plain": [
       "array([['39', 'State-gov', '77516', ..., '40', 'United-States', '<=50K'],\n",
       "       ['50', 'Self-emp-not-inc', '83311', ..., '13', 'United-States',\n",
       "        '<=50K'],\n",
       "       ['38', 'Private', '215646', ..., '40', 'United-States', '<=50K'],\n",
       "       ...,\n",
       "       ['58', 'Private', '151910', ..., '40', 'United-States', '<=50K'],\n",
       "       ['22', 'Private', '201490', ..., '20', 'United-States', '<=50K'],\n",
       "       ['52', 'Self-emp-inc', '287927', ..., '40', 'United-States',\n",
       "        '>50K']], dtype='<U26')"
      ]
     },
     "execution_count": 5,
     "metadata": {},
     "output_type": "execute_result"
    }
   ],
   "source": [
    "import numpy as np\n",
    "import matplotlib.pyplot as plt\n",
    "\n",
    "%matplotlib inline\n",
    "from sklearn import preprocessing\n",
    "from sklearn.svm import LinearSVC\n",
    "from sklearn.multiclass import OneVsOneClassifier\n",
    "from sklearn import model_selection\n",
    "\n",
    "# データファイルを読み込む\n",
    "input_file = './data/income_data.txt'\n",
    "\n",
    "# 各変数を定義しておく\n",
    "Xy = []\n",
    "count_class1 = 0\n",
    "count_class2 = 0\n",
    "max_datapoints = 25000\n",
    "\n",
    "# データファイルをwith構文で読み込む。fはファイルポインタ\n",
    "with open(input_file, 'r') as f:\n",
    "    \n",
    "    # ファイルを1行ずつ読み込む\n",
    "    for line in f.readlines():\n",
    "        \n",
    "        # count_class1tとcount_class2がmax_datapoints件数を超えたらbreakする\n",
    "        if count_class1 >= max_datapoints and count_class2 >= max_datapoints:\n",
    "            break\n",
    "        \n",
    "        # lineの中に?が入ってたら飛ばす\n",
    "        if '?' in line:\n",
    "            continue\n",
    "        \n",
    "        # ', 'で区切る\n",
    "        data = line[:-1].split(', ')\n",
    "\n",
    "        # dataリストの配列の最後のラベルをmax_datapoints読までみ込む。<=50Kだったら。count_class1をカウント。\n",
    "        if data[-1] == '<=50K' and count_class1 < max_datapoints:\n",
    "            # リストXyにそのdataをappendする\n",
    "            Xy.append(data)\n",
    "            count_class1 += 1\n",
    "\n",
    "        # dataリストの配列の最後のラベルをmax_datapoints読までみ込む。>50Kだったら。count_class2をカウント\n",
    "        if data[-1] == '>50K' and count_class2 < max_datapoints:\n",
    "            Xy.append(data)\n",
    "            count_class2 += 1\n",
    "\n",
    "# XyをNumPy配列に変換する\n",
    "Xy = np.array(Xy)"
   ]
  },
  {
   "cell_type": "code",
   "execution_count": 13,
   "metadata": {},
   "outputs": [
    {
     "name": "stdout",
     "output_type": "stream",
     "text": [
      "(30162, 15)\n",
      "[[0. 0. 0. ... 0. 0. 0.]\n",
      " [0. 0. 0. ... 0. 0. 0.]\n",
      " [0. 0. 0. ... 0. 0. 0.]\n",
      " ...\n",
      " [0. 0. 0. ... 0. 0. 0.]\n",
      " [0. 0. 0. ... 0. 0. 0.]\n",
      " [0. 0. 0. ... 0. 0. 0.]]\n"
     ]
    },
    {
     "name": "stderr",
     "output_type": "stream",
     "text": [
      "/Users/tryoutlab/anaconda3/lib/python3.7/site-packages/sklearn/svm/base.py:929: ConvergenceWarning: Liblinear failed to converge, increase the number of iterations.\n",
      "  \"the number of iterations.\", ConvergenceWarning)\n",
      "/Users/tryoutlab/anaconda3/lib/python3.7/site-packages/sklearn/svm/base.py:929: ConvergenceWarning: Liblinear failed to converge, increase the number of iterations.\n",
      "  \"the number of iterations.\", ConvergenceWarning)\n",
      "/Users/tryoutlab/anaconda3/lib/python3.7/site-packages/sklearn/svm/base.py:929: ConvergenceWarning: Liblinear failed to converge, increase the number of iterations.\n",
      "  \"the number of iterations.\", ConvergenceWarning)\n"
     ]
    },
    {
     "name": "stdout",
     "output_type": "stream",
     "text": [
      "F1 Score: 66.82%\n"
     ]
    },
    {
     "name": "stderr",
     "output_type": "stream",
     "text": [
      "/Users/tryoutlab/anaconda3/lib/python3.7/site-packages/sklearn/svm/base.py:929: ConvergenceWarning: Liblinear failed to converge, increase the number of iterations.\n",
      "  \"the number of iterations.\", ConvergenceWarning)\n"
     ]
    }
   ],
   "source": [
    "label_encoder = []\n",
    "\n",
    "print(Xy.shape)\n",
    "\n",
    "Xy_encoded = np.empty(Xy.shape)\n",
    "\n",
    "print(Xy_encoded)\n",
    "\n",
    "for i,item in enumerate(Xy[0]):\n",
    "    if item.isdigit():\n",
    "        Xy_encoded[:, i] = Xy[:, i]\n",
    "    else:\n",
    "        encoder = preprocessing.LabelEncoder()\n",
    "        Xy_encoded[:, i] = encoder.fit_transform(Xy[:, i])\n",
    "        label_encoder.append(encoder)\n",
    "        \n",
    "X = Xy_encoded[:, :-1].astype(int)\n",
    "y = Xy_encoded[:, -1].astype(int)\n",
    "\n",
    "X_train, X_test, y_train, y_test = model_selection.train_test_split(X, y, test_size=0.2, random_state=5)\n",
    "\n",
    "classifier = LinearSVC(random_state=0)\n",
    "classifier.fit(X_train, y_train)\n",
    "y_test_pred = classifier.predict(X_test)\n",
    "\n",
    "f1 = model_selection.cross_val_score(classifier, X, y, scoring='f1_weighted', cv=3)\n",
    "print(\"F1 Score: \" + str(round(100*f1.mean(), 2)) + \"%\")"
   ]
  },
  {
   "cell_type": "code",
   "execution_count": null,
   "metadata": {},
   "outputs": [],
   "source": []
  }
 ],
 "metadata": {
  "kernelspec": {
   "display_name": "Python 3",
   "language": "python",
   "name": "python3"
  },
  "language_info": {
   "codemirror_mode": {
    "name": "ipython",
    "version": 3
   },
   "file_extension": ".py",
   "mimetype": "text/x-python",
   "name": "python",
   "nbconvert_exporter": "python",
   "pygments_lexer": "ipython3",
   "version": "3.7.5"
  }
 },
 "nbformat": 4,
 "nbformat_minor": 4
}
