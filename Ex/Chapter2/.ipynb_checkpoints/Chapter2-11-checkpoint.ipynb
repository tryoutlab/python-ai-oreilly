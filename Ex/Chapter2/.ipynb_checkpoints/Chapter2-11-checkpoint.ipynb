{
 "cells": [
  {
   "cell_type": "markdown",
   "metadata": {},
   "source": [
    "## 1変数の回帰モデル\n",
    "**値が線形的にとる時に有効**"
   ]
  },
  {
   "cell_type": "code",
   "execution_count": 6,
   "metadata": {},
   "outputs": [
    {
     "data": {
      "image/png": "[encoded data removed]",
      "text/plain": [
       "<Figure size 432x288 with 1 Axes>"
      ]
     },
     "metadata": {
      "needs_background": "light"
     },
     "output_type": "display_data"
    }
   ],
   "source": [
    "import numpy as np\n",
    "from sklearn import linear_model\n",
    "import sklearn.metrics as sm\n",
    "import matplotlib.pyplot as plt\n",
    "%matplotlib inline\n",
    "\n",
    "# ファイルを読み込む\n",
    "input_file = './data/data_singlevar_regr.txt'\n",
    "\n",
    "# ファイルを読み込んで,カンマ区切りで分ける\n",
    "data = np.loadtxt(input_file, delimiter=',')\n",
    "# Xには最後の列以外、yには最後の列だけ入れる\n",
    "X, y = data[:, :-1], data[:, -1]\n",
    "\n",
    "# 線形回帰モデルを作成してX,yを元に訓練する\n",
    "regressor = linear_model.LinearRegression()\n",
    "regressor.fit(X, y)\n",
    "\n",
    "# Xを元に予測する\n",
    "y_pred = regressor.predict(X)\n",
    "\n",
    "# 出力を予測する\n",
    "plt.scatter(X, y, color='green')\n",
    "plt.plot(X, y_pred, color='black')\n",
    "\n",
    "# グラフを表示する\n",
    "plt.show()"
   ]
  },
  {
   "cell_type": "markdown",
   "metadata": {},
   "source": [
    "### 線形回帰で求めた直線と実際の値yとがどの程度離れているか計算する"
   ]
  },
  {
   "cell_type": "markdown",
   "metadata": {},
   "source": [
    "### 線形回帰モデルの性能\n",
    "- Mean absolute error: 絶対値誤差の平均\n",
    "- Mean squared error: 二乗誤差の平均\n",
    "- Medium absolute error: 絶対値誤差の中央値\n",
    "- Explain variance error: 因子の寄与率\n",
    "- R2 score: R2スコア"
   ]
  },
  {
   "cell_type": "code",
   "execution_count": 10,
   "metadata": {},
   "outputs": [
    {
     "name": "stdout",
     "output_type": "stream",
     "text": [
      "線形回帰モデルの性能\n",
      "Mean absolute error =  0.65\n",
      "Mean squared error =  0.62\n",
      "Medium absolute error =  0.56\n",
      "Explain variance error =  0.86\n",
      "R2 score =  0.86\n"
     ]
    }
   ],
   "source": [
    "print(\"線形回帰モデルの性能\")\n",
    "print(\"Mean absolute error = \", round(sm.mean_absolute_error(y, y_pred), 2))\n",
    "print(\"Mean squared error = \", round(sm.mean_squared_error(y, y_pred), 2))\n",
    "print(\"Medium absolute error = \", round(sm.median_absolute_error(y, y_pred), 2))\n",
    "print(\"Explain variance error = \", round(sm.explained_variance_score(y, y_pred), 2))\n",
    "print(\"R2 score = \", round(sm.r2_score(y, y_pred), 2))"
   ]
  },
  {
   "cell_type": "code",
   "execution_count": 13,
   "metadata": {},
   "outputs": [
    {
     "name": "stdout",
     "output_type": "stream",
     "text": [
      "\n",
      "New mean absolute error = 0.65\n"
     ]
    }
   ],
   "source": [
    "import pickle\n",
    "\n",
    "# 訓練済みモデルを保存\n",
    "output_model_file = 'model.pkl'\n",
    "with open(output_model_file, 'wb') as f:\n",
    "    pickle.dump(regressor, f)\n",
    "\n",
    "# 訓練済みモデルを読み込む\n",
    "with open(output_model_file, 'rb') as f:\n",
    "    regressor_model = pickle.load(f)\n",
    "\n",
    "# 読み込んだモデルを使ってもう一度予測してみる\n",
    "y_pred_new = regressor_model.predict(X)\n",
    "\n",
    "# 再度絶対値誤差を求めてあってるか確認する\n",
    "print(\"\\nNew mean absolute error =\", round(sm.mean_absolute_error(y, y_pred_new), 2))"
   ]
  },
  {
   "cell_type": "code",
   "execution_count": null,
   "metadata": {},
   "outputs": [],
   "source": []
  },
  {
   "cell_type": "code",
   "execution_count": null,
   "metadata": {},
   "outputs": [],
   "source": []
  }
 ],
 "metadata": {
  "kernelspec": {
   "display_name": "Python 3",
   "language": "python",
   "name": "python3"
  },
  "language_info": {
   "codemirror_mode": {
    "name": "ipython",
    "version": 3
   },
   "file_extension": ".py",
   "mimetype": "text/x-python",
   "name": "python",
   "nbconvert_exporter": "python",
   "pygments_lexer": "ipython3",
   "version": "3.7.5"
  }
 },
 "nbformat": 4,
 "nbformat_minor": 4
}
