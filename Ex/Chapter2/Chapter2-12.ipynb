{
 "cells": [
  {
   "cell_type": "markdown",
   "metadata": {},
   "source": [
    "## 多変数の回帰モデル"
   ]
  },
  {
   "cell_type": "code",
   "execution_count": null,
   "metadata": {},
   "outputs": [],
   "source": [
    "import numpy as np\n",
    "from sklearn import linear_model\n",
    "import sklearn.metrics as sm\n",
    "\n",
    "input_file = './data/data_multivar_regr.txt'\n",
    "\n",
    "# ファイルを読み込んで,カンマ区切りで分ける\n",
    "data = np.loadtxt(input_file, delimiter=',')\n",
    "\n",
    "# Xには最後の列以外、yには最後の列だけ入れる\n",
    "# 読み込んだファイルが４列のデータなので、Xは３次元データ\n",
    "X, y = data[:, :-1], data[:, -1]\n",
    "\n",
    "# 線形回帰モデルを作成してX,yを元に訓練する\n",
    "linear_regressor = linear_model.LinearRegression()\n",
    "linear_regressor.fit(X, y)\n",
    "\n",
    " # Xを元に予測する\n",
    "y_pred = regressor.predict(X)\n",
    "\n",
    "print(\"線形回帰モデルの性能\")\n",
    "print(\"Mean absolute error = \", round(sm.mean_absolute_error(y, y_pred), 2))\n",
    "print(\"Mean squared error = \", round(sm.mean_squared_error(y, y_pred), 2))\n",
    "print(\"Medium absolute error = \", round(sm.median_absolute_error(y, y_pred), 2))\n",
    "print(\"Explain variance error = \", round(sm.explained_variance_score(y, y_pred), 2))\n",
    "print(\"R2 score = \", round(sm.r2_score(y, y_pred), 2))"
   ]
  },
  {
   "cell_type": "markdown",
   "metadata": {},
   "source": [
    "### データの先頭５個で検証してみる"
   ]
  },
  {
   "cell_type": "code",
   "execution_count": 5,
   "metadata": {},
   "outputs": [
    {
     "name": "stdout",
     "output_type": "stream",
     "text": [
      "Linear regression:\n",
      " [10.82449559 17.3818526   3.29725309 38.64955824 10.41302956]\n",
      "True output values:\n",
      " [15.69 15.34  0.66 38.37  9.96]\n"
     ]
    }
   ],
   "source": [
    "print(\"Linear regression:\\n\", linear_regressor.predict(X[0:5]))\n",
    "print(\"True output values:\\n\", y[0:5])\n"
   ]
  },
  {
   "cell_type": "code",
   "execution_count": null,
   "metadata": {},
   "outputs": [],
   "source": []
  },
  {
   "cell_type": "code",
   "execution_count": null,
   "metadata": {},
   "outputs": [],
   "source": []
  }
 ],
 "metadata": {
  "kernelspec": {
   "display_name": "Python 3",
   "language": "python",
   "name": "python3"
  },
  "language_info": {
   "codemirror_mode": {
    "name": "ipython",
    "version": 3
   },
   "file_extension": ".py",
   "mimetype": "text/x-python",
   "name": "python",
   "nbconvert_exporter": "python",
   "pygments_lexer": "ipython3",
   "version": "3.7.5"
  }
 },
 "nbformat": 4,
 "nbformat_minor": 4
}
