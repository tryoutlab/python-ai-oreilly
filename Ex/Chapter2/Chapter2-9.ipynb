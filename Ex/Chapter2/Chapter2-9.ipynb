{
 "cells": [
  {
   "cell_type": "code",
   "execution_count": 6,
   "metadata": {},
   "outputs": [],
   "source": [
    "import numpy as np\n",
    "import matplotlib.pyplot as plt\n",
    "\n",
    "%matplotlib inline\n",
    "from sklearn import preprocessing\n",
    "from sklearn.svm import LinearSVC\n",
    "from sklearn.multiclass import OneVsOneClassifier\n",
    "from sklearn import model_selection\n",
    "\n",
    "# データファイルを読み込む\n",
    "input_file = './data/income_data.txt'\n",
    "\n",
    "# 各変数を定義しておく\n",
    "Xy = []\n",
    "count_class1 = 0\n",
    "count_class2 = 0\n",
    "max_datapoints = 25000\n",
    "\n",
    "# データファイルをwith構文で読み込む。fはファイルポインタ\n",
    "with open(input_file, 'r') as f:\n",
    "    \n",
    "    # ファイルを1行ずつ読み込む\n",
    "    for line in f.readlines():\n",
    "        \n",
    "        # count_class1tとcount_class2がmax_datapoints件数を超えたらbreakする\n",
    "        if count_class1 >= max_datapoints and count_class2 >= max_datapoints:\n",
    "            break\n",
    "        \n",
    "        # lineの中に?が入ってたら飛ばす\n",
    "        if '?' in line:\n",
    "            continue\n",
    "        \n",
    "        # ', 'で区切る\n",
    "        data = line[:-1].split(', ')\n",
    "\n",
    "        # dataリストの配列の最後のラベルをmax_datapoints読までみ込む。<=50Kだったら。count_class1をカウント。\n",
    "        if data[-1] == '<=50K' and count_class1 < max_datapoints:\n",
    "            # リストXyにそのdataをappendする\n",
    "            Xy.append(data)\n",
    "            count_class1 += 1\n",
    "\n",
    "        # dataリストの配列の最後のラベルをmax_datapoints読までみ込む。>50Kだったら。count_class2をカウント\n",
    "        if data[-1] == '>50K' and count_class2 < max_datapoints:\n",
    "            Xy.append(data)\n",
    "            count_class2 += 1\n",
    "\n",
    "# XyをNumPy配列に変換する\n",
    "Xy = np.array(Xy)"
   ]
  },
  {
   "cell_type": "code",
   "execution_count": 7,
   "metadata": {},
   "outputs": [
    {
     "name": "stdout",
     "output_type": "stream",
     "text": "(30162, 15)\n0 39\n1 State-gov\n2 77516\n3 Bachelors\n4 13\n5 Never-married\n6 Adm-clerical\n7 Not-in-family\n8 White\n9 Male\n10 2174\n11 0\n12 40\n13 United-States\n14 <=50K\n/Users/tryoutlab/anaconda3/lib/python3.7/site-packages/sklearn/svm/base.py:929: ConvergenceWarning: Liblinear failed to converge, increase the number of iterations.\n  \"the number of iterations.\", ConvergenceWarning)\n/Users/tryoutlab/anaconda3/lib/python3.7/site-packages/sklearn/svm/base.py:929: ConvergenceWarning: Liblinear failed to converge, increase the number of iterations.\n  \"the number of iterations.\", ConvergenceWarning)\n/Users/tryoutlab/anaconda3/lib/python3.7/site-packages/sklearn/svm/base.py:929: ConvergenceWarning: Liblinear failed to converge, increase the number of iterations.\n  \"the number of iterations.\", ConvergenceWarning)\nF1 Score: 66.82%\n/Users/tryoutlab/anaconda3/lib/python3.7/site-packages/sklearn/svm/base.py:929: ConvergenceWarning: Liblinear failed to converge, increase the number of iterations.\n  \"the number of iterations.\", ConvergenceWarning)\n"
    }
   ],
   "source": [
    "label_encoder = []\n",
    "\n",
    "print(Xy.shape)\n",
    "\n",
    "# 全て0のXy行列を作成する\n",
    "Xy_encoded = np.empty(Xy.shape)\n",
    "\n",
    "# income_data.txtの1行目にあるそれぞれのインデックスと値を取り出す\n",
    "# i:インデックス\n",
    "# item: 値\n",
    "for i,item in enumerate(Xy[0]):\n",
    "    \n",
    "    # 値が数値ならそのまま値をXy_encodedに入れる\n",
    "    if item.isdigit():\n",
    "        Xy_encoded[:, i] = Xy[:, i]\n",
    "    # 値が数値以外（テキストとか）なら\n",
    "    else:\n",
    "        # encoderを作成してテキストの値を数値でラベル化する\n",
    "        encoder = preprocessing.LabelEncoder()\n",
    "        \n",
    "        Xy_encoded[:, i] = encoder.fit_transform(Xy[:, i])\n",
    "        label_encoder.append(encoder)\n",
    "        \n",
    "X = Xy_encoded[:, :-1].astype(int)\n",
    "y = Xy_encoded[:, -1].astype(int)\n",
    "\n",
    "X_train, X_test, y_train, y_test = model_selection.train_test_split(X, y, test_size=0.2, random_state=5)\n",
    "\n",
    "classifier = LinearSVC(random_state=0)\n",
    "classifier.fit(X_train, y_train)\n",
    "y_test_pred = classifier.predict(X_test)\n",
    "\n",
    "f1 = model_selection.cross_val_score(classifier, X, y, scoring='f1_weighted', cv=3)\n",
    "print(\"F1 Score: \" + str(round(100*f1.mean(), 2)) + \"%\")"
   ]
  },
  {
   "cell_type": "code",
   "execution_count": 8,
   "metadata": {},
   "outputs": [
    {
     "name": "stdout",
     "output_type": "stream",
     "text": "['<=50K' '>50K']\n"
    }
   ],
   "source": [
    "input_data = np.array([\n",
    "    ['37', 'Private', '215646', 'HS-grad', '9', 'Never-married', \n",
    "     'Handlers-cleaners', 'Not-in-family', 'White', 'Male', '0', '0', '40',\n",
    "     'United-States'],\n",
    "    ['55', 'Private', '287927', 'Doctorate', '16', 'Married-civ-spouse', \n",
    "     'Exec-managerial', 'Husband', 'White', 'Female', '15000', '0', '40',\n",
    "     'United-States']])\n",
    "\n",
    "input_data_encoded = np.zeros(input_data.shape)\n",
    "c = 0\n",
    "for i, item in enumerate(input_data[0]):\n",
    "    if item.isdigit():\n",
    "        input_data_encoded[:, i] = input_data[:, i]\n",
    "    else:\n",
    "        input_data_encoded[:, i] = label_encoder[c].transform(input_data[:, i])\n",
    "        c += 1\n",
    "        \n",
    "predicted_class = classifier.predict(input_data_encoded)\n",
    "print(label_encoder[-1].inverse_transform(predicted_class))"
   ]
  },
  {
   "cell_type": "code",
   "execution_count": null,
   "metadata": {},
   "outputs": [],
   "source": []
  }
 ],
 "metadata": {
  "kernelspec": {
   "display_name": "Python 3",
   "language": "python",
   "name": "python3"
  },
  "language_info": {
   "codemirror_mode": {
    "name": "ipython",
    "version": 3
   },
   "file_extension": ".py",
   "mimetype": "text/x-python",
   "name": "python",
   "nbconvert_exporter": "python",
   "pygments_lexer": "ipython3",
   "version": "3.7.5"
  }
 },
 "nbformat": 4,
 "nbformat_minor": 4
}