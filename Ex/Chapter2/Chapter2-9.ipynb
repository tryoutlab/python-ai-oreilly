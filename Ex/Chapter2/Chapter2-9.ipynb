{
 "cells": [
  {
   "cell_type": "code",
   "execution_count": 3,
   "metadata": {},
   "outputs": [
    {
     "data": {
      "text/plain": "array([['39', 'State-gov', '77516', ..., '40', 'United-States', '<=50K'],\n       ['50', 'Self-emp-not-inc', '83311', ..., '13', 'United-States',\n        '<=50K'],\n       ['38', 'Private', '215646', ..., '40', 'United-States', '<=50K'],\n       ...,\n       ['58', 'Private', '151910', ..., '40', 'United-States', '<=50K'],\n       ['22', 'Private', '201490', ..., '20', 'United-States', '<=50K'],\n       ['52', 'Self-emp-inc', '287927', ..., '40', 'United-States',\n        '>50K']], dtype='<U26')"
     },
     "execution_count": 3,
     "metadata": {},
     "output_type": "execute_result"
    }
   ],
   "source": [
    "import numpy as np\n",
    "import matplotlib.pyplot as plt\n",
    "\n",
    "%matplotlib inline\n",
    "from sklearn import preprocessing\n",
    "from sklearn.svm import LinearSVC\n",
    "from sklearn.multiclass import OneVsOneClassifier\n",
    "from sklearn import model_selection\n",
    "\n",
    "# データファイルを読み込む\n",
    "input_file = './data/income_data.txt'\n",
    "\n",
    "# 各変数を定義しておく\n",
    "Xy = []\n",
    "count_class1 = 0\n",
    "count_class2 = 0\n",
    "max_datapoints = 25000\n",
    "\n",
    "with open(input_file, 'r') as f:\n",
    "    for line in f.readlines():\n",
    "        if count_class1 >= max_datapoints and count_class2 >= max_datapoints:\n",
    "            break\n",
    "            \n",
    "        if '?' in line:\n",
    "            continue\n",
    "            \n",
    "        data = line[:-1].split(', ')\n",
    "\n",
    "        if data[-1] == '<=50K' and count_class1 < max_datapoints:\n",
    "            Xy.append(data)\n",
    "            count_class1 += 1\n",
    "\n",
    "        if data[-1] == '>50K' and count_class2 < max_datapoints:\n",
    "            Xy.append(data)\n",
    "            count_class2 += 1\n",
    "\n",
    "\n",
    "Xy = np.array(Xy)\n",
    "Xy"
   ]
  },
  {
   "cell_type": "code",
   "execution_count": null,
   "metadata": {},
   "outputs": [],
   "source": [
    "label_encoder = []\n",
    "Xy_encoded = np.empty(Xy.shape)\n",
    "for i, item in enumerate(Xy[0]):\n",
    "    if item.isdigit():\n",
    "        Xy_encoded[:]"
   ]
  }
 ],
 "metadata": {
  "kernelspec": {
   "display_name": "Python 3",
   "language": "python",
   "name": "python3"
  },
  "language_info": {
   "codemirror_mode": {
    "name": "ipython",
    "version": 3
   },
   "file_extension": ".py",
   "mimetype": "text/x-python",
   "name": "python",
   "nbconvert_exporter": "python",
   "pygments_lexer": "ipython3",
   "version": "3.7.5"
  }
 },
 "nbformat": 4,
 "nbformat_minor": 4
}