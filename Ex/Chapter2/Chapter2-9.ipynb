{
 "cells": [
  {
   "cell_type": "code",
   "execution_count": 1,
   "metadata": {},
   "outputs": [],
   "source": [
    "import numpy as np\n",
    "import matplotlib.pyplot as plt\n",
    "\n",
    "%matplotlib inline\n",
    "from sklearn import preprocessing\n",
    "from sklearn.svm import LinearSVC\n",
    "from sklearn.multiclass import OneVsOneClassifier\n",
    "from sklearn import model_selection\n",
    "\n",
    "# データファイルを読み込む\n",
    "input_file = './data/income_data.txt'\n",
    "\n",
    "# 各変数を定義しておく\n",
    "Xy = []\n",
    "count_class1 = 0\n",
    "count_class2 = 0\n",
    "max_datapoints = 25000\n",
    "\n",
    "# データファイルをwith構文で読み込む。fはファイルポインタ\n",
    "with open(input_file, 'r') as f:\n",
    "    \n",
    "    # ファイルを1行ずつ読み込む\n",
    "    for line in f.readlines():\n",
    "        \n",
    "        # count_class1tとcount_class2がmax_datapoints件数を超えたらbreakする\n",
    "        if count_class1 >= max_datapoints and count_class2 >= max_datapoints:\n",
    "            break\n",
    "        \n",
    "        # lineの中に?が入ってたら飛ばす\n",
    "        if '?' in line:\n",
    "            continue\n",
    "        \n",
    "        # ', 'で区切る\n",
    "        data = line[:-1].split(', ')\n",
    "\n",
    "        # dataリストの配列の最後のラベルをmax_datapoints読までみ込む。<=50Kだったら。count_class1をカウント。\n",
    "        if data[-1] == '<=50K' and count_class1 < max_datapoints:\n",
    "            # リストXyにそのdataをappendする\n",
    "            Xy.append(data)\n",
    "            count_class1 += 1\n",
    "\n",
    "        # dataリストの配列の最後のラベルをmax_datapoints読までみ込む。>50Kだったら。count_class2をカウント\n",
    "        if data[-1] == '>50K' and count_class2 < max_datapoints:\n",
    "            Xy.append(data)\n",
    "            count_class2 += 1\n",
    "\n",
    "# XyをNumPy配列に変換する\n",
    "Xy = np.array(Xy)"
   ]
  },
  {
   "cell_type": "code",
   "execution_count": 13,
   "metadata": {},
   "outputs": [
    {
     "name": "stdout",
     "output_type": "stream",
     "text": [
      "[['39' 'State-gov' '77516' ... '40' 'United-States' '<=50K']\n",
      " ['50' 'Self-emp-not-inc' '83311' ... '13' 'United-States' '<=50K']\n",
      " ['38' 'Private' '215646' ... '40' 'United-States' '<=50K']\n",
      " ...\n",
      " ['58' 'Private' '151910' ... '40' 'United-States' '<=50K']\n",
      " ['22' 'Private' '201490' ... '20' 'United-States' '<=50K']\n",
      " ['52' 'Self-emp-inc' '287927' ... '40' 'United-States' '>50K']]\n",
      "['39' 'State-gov' '77516' 'Bachelors' '13' 'Never-married' 'Adm-clerical'\n",
      " 'Not-in-family' 'White' 'Male' '2174' '0' '40' 'United-States' '<=50K']\n",
      "0 39\n",
      "1 State-gov\n",
      "2 77516\n",
      "3 Bachelors\n",
      "4 13\n",
      "5 Never-married\n",
      "6 Adm-clerical\n",
      "7 Not-in-family\n",
      "8 White\n",
      "9 Male\n",
      "10 2174\n",
      "11 0\n",
      "12 40\n",
      "13 United-States\n",
      "14 <=50K\n",
      "[[3.90000e+01 5.00000e+00 7.75160e+04 ... 4.00000e+01 3.80000e+01\n",
      "  0.00000e+00]\n",
      " [5.00000e+01 4.00000e+00 8.33110e+04 ... 1.30000e+01 3.80000e+01\n",
      "  0.00000e+00]\n",
      " [3.80000e+01 2.00000e+00 2.15646e+05 ... 4.00000e+01 3.80000e+01\n",
      "  0.00000e+00]\n",
      " ...\n",
      " [5.80000e+01 2.00000e+00 1.51910e+05 ... 4.00000e+01 3.80000e+01\n",
      "  0.00000e+00]\n",
      " [2.20000e+01 2.00000e+00 2.01490e+05 ... 2.00000e+01 3.80000e+01\n",
      "  0.00000e+00]\n",
      " [5.20000e+01 3.00000e+00 2.87927e+05 ... 4.00000e+01 3.80000e+01\n",
      "  1.00000e+00]]\n"
     ]
    },
    {
     "name": "stderr",
     "output_type": "stream",
     "text": [
      "/Users/tryoutlab/anaconda3/lib/python3.7/site-packages/sklearn/svm/base.py:929: ConvergenceWarning: Liblinear failed to converge, increase the number of iterations.\n",
      "  \"the number of iterations.\", ConvergenceWarning)\n",
      "/Users/tryoutlab/anaconda3/lib/python3.7/site-packages/sklearn/svm/base.py:929: ConvergenceWarning: Liblinear failed to converge, increase the number of iterations.\n",
      "  \"the number of iterations.\", ConvergenceWarning)\n",
      "/Users/tryoutlab/anaconda3/lib/python3.7/site-packages/sklearn/svm/base.py:929: ConvergenceWarning: Liblinear failed to converge, increase the number of iterations.\n",
      "  \"the number of iterations.\", ConvergenceWarning)\n"
     ]
    },
    {
     "name": "stdout",
     "output_type": "stream",
     "text": [
      "F1 Score: 66.82%\n"
     ]
    },
    {
     "name": "stderr",
     "output_type": "stream",
     "text": [
      "/Users/tryoutlab/anaconda3/lib/python3.7/site-packages/sklearn/svm/base.py:929: ConvergenceWarning: Liblinear failed to converge, increase the number of iterations.\n",
      "  \"the number of iterations.\", ConvergenceWarning)\n"
     ]
    }
   ],
   "source": [
    "label_encoder = []\n",
    "\n",
    "print(Xy)\n",
    "\n",
    "# 全て0のXy行列を作成する\n",
    "Xy_encoded = np.empty(Xy.shape)\n",
    "\n",
    "# income_data.txtの1行目にあるそれぞれのインデックスと値を取り出す\n",
    "# i:インデックス\n",
    "# item: 値\n",
    "print(Xy[0])\n",
    "\n",
    "# Xy[0]でなんで全ての値を入れるのかが分からない。。。\n",
    "for i,item in enumerate(Xy[0]):\n",
    "    print(i, item)\n",
    "    # 値が数値ならそのまま値をXy_encodedに入れる\n",
    "    if item.isdigit():\n",
    "        Xy_encoded[:, i] = Xy[:, i]\n",
    "    # 値が数値以外（テキストとか）なら\n",
    "    else:\n",
    "        # encoderを作成してテキストの値を数値でラベル化する\n",
    "        encoder = preprocessing.LabelEncoder()        \n",
    "        Xy_encoded[:, i] = encoder.fit_transform(Xy[:, i])\n",
    "        label_encoder.append(encoder)\n",
    "\n",
    "print(Xy_encoded)\n",
    "# Xに末尾以外を入れる\n",
    "X = Xy_encoded[:, :-1].astype(int)\n",
    "# yに末尾のラベルを入れる\n",
    "y = Xy_encoded[:, -1].astype(int)\n",
    "\n",
    "# X, yを訓連用に80%、検証用に20%に分ける\n",
    "X_train, X_test, y_train, y_test = model_selection.train_test_split(X, y, test_size=0.2, random_state=5)\n",
    "\n",
    "# 分類器を線形分類器を使う\n",
    "classifier = LinearSVC(random_state=0)\n",
    "\n",
    "# 線形分類器で訓練する\n",
    "classifier.fit(X_train, y_train)\n",
    "\n",
    "# 線形分類器で予測してテストする\n",
    "y_test_pred = classifier.predict(X_test)\n",
    "\n",
    "# F1値を出す\n",
    "f1 = model_selection.cross_val_score(classifier, X, y, scoring='f1_weighted', cv=3)\n",
    "print(\"F1 Score: \" + str(round(100*f1.mean(), 2)) + \"%\")"
   ]
  },
  {
   "cell_type": "code",
   "execution_count": 14,
   "metadata": {},
   "outputs": [
    {
     "name": "stdout",
     "output_type": "stream",
     "text": [
      "['<=50K' '>50K']\n"
     ]
    }
   ],
   "source": [
    "# 適当な検証データを作成する\n",
    "input_data = np.array([\n",
    "    ['37', 'Private', '215646', 'HS-grad', '9', 'Never-married', \n",
    "     'Handlers-cleaners', 'Not-in-family', 'White', 'Male', '0', '0', '40',\n",
    "     'United-States'],\n",
    "    ['55', 'Private', '287927', 'Doctorate', '16', 'Married-civ-spouse', \n",
    "     'Exec-managerial', 'Husband', 'White', 'Female', '15000', '0', '40',\n",
    "     'United-States']])\n",
    "\n",
    "# 入力データと同じ行列を初期値0で作成する\n",
    "input_data_encoded = np.zeros(input_data.shape)\n",
    "c = 0\n",
    "for i, item in enumerate(input_data[0]):\n",
    "    if item.isdigit():\n",
    "        input_data_encoded[:, i] = input_data[:, i]\n",
    "    else:\n",
    "        # label_encoderでラベル値を変換する\n",
    "        input_data_encoded[:, i] = label_encoder[c].transform(input_data[:, i])\n",
    "        c += 1\n",
    "\n",
    "# 分類器で入力データから予測する\n",
    "predicted_class = classifier.predict(input_data_encoded)\n",
    "print(label_encoder[-1].inverse_transform(predicted_class))"
   ]
  },
  {
   "cell_type": "code",
   "execution_count": null,
   "metadata": {},
   "outputs": [],
   "source": []
  }
 ],
 "metadata": {
  "kernelspec": {
   "display_name": "Python 3",
   "language": "python",
   "name": "python3"
  },
  "language_info": {
   "codemirror_mode": {
    "name": "ipython",
    "version": 3
   },
   "file_extension": ".py",
   "mimetype": "text/x-python",
   "name": "python",
   "nbconvert_exporter": "python",
   "pygments_lexer": "ipython3",
   "version": "3.7.5"
  }
 },
 "nbformat": 4,
 "nbformat_minor": 4
}
