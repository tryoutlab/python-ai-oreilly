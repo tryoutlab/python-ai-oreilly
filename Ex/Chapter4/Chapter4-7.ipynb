{
 "nbformat": 4,
 "nbformat_minor": 2,
 "metadata": {
  "language_info": {
   "name": "python",
   "codemirror_mode": {
    "name": "ipython",
    "version": 3
   },
   "version": "3.7.5"
  },
  "orig_nbformat": 2,
  "file_extension": ".py",
  "mimetype": "text/x-python",
  "name": "python",
  "npconvert_exporter": "python",
  "pygments_lexer": "ipython3",
  "version": 3
 },
 "cells": [
  {
   "cell_type": "markdown",
   "execution_count": 1,
   "metadata": {},
   "outputs": [],
   "source": [
    "# Affinity Propagationモデルを使った株式市場のサブグループ検出"
   ]
  },
  {
   "cell_type": "markdown",
   "execution_count": 2,
   "metadata": {},
   "outputs": [
    {
     "ename": "SyntaxError",
     "evalue": "invalid character in identifier (<ipython-input-2-ffaf48b70db2>, line 1)",
     "output_type": "error",
     "traceback": [
      "\u001b[0;36m  File \u001b[0;32m\"<ipython-input-2-ffaf48b70db2>\"\u001b[0;36m, line \u001b[0;32m1\u001b[0m\n\u001b[0;31m    Affinity Propagation（アフィニティ・プロパゲーション）\u001b[0m\n\u001b[0m                                        ^\u001b[0m\n\u001b[0;31mSyntaxError\u001b[0m\u001b[0;31m:\u001b[0m invalid character in identifier\n"
     ]
    }
   ],
   "source": [
    "Affinity Propagation（アフィニティ・プロパゲーション）\n",
    "\n",
    "クラスタ数を事前に指定する事なく、クラスタリングをしてくれる。\n",
    "\n",
    "- 入力で使う教師なしデータ\n",
    "    - exampler\n",
    "\n",
    "- クラスタリングの評価値\n",
    "    - responsibility\n",
    "    - avilability"
   ]
  },
  {
   "cell_type": "markdown",
   "execution_count": 6,
   "metadata": {},
   "outputs": [
    {
     "ename": "SyntaxError",
     "evalue": "invalid syntax (<ipython-input-6-8b8633b585f4>, line 1)",
     "output_type": "error",
     "traceback": [
      "\u001b[0;36m  File \u001b[0;32m\"<ipython-input-6-8b8633b585f4>\"\u001b[0;36m, line \u001b[0;32m1\u001b[0m\n\u001b[0;31m    ```\u001b[0m\n\u001b[0m    ^\u001b[0m\n\u001b[0;31mSyntaxError\u001b[0m\u001b[0;31m:\u001b[0m invalid syntax\n"
     ]
    }
   ],
   "source": [
    "`pandas_datareader`をインストールしておかないといけない\n",
    "\n",
    "```\n",
    "$ pip install pandas_datareader\n",
    "```"
   ]
  },
  {
   "cell_type": "code",
   "execution_count": 3,
   "metadata": {},
   "outputs": [],
   "source": [
    "import datetime\n",
    "import json\n",
    "import numpy as np\n",
    "from sklearn import covariance, cluster\n",
    "import pandas as pd\n",
    "import pandas_datareader.data as pdd\n",
    "from dotenv import load_dotenv\n",
    "import os\n",
    "\n",
    "load_dotenv()\n",
    "\n",
    "input_file = './data/company_symbol_mapping.json'\n",
    "with open(input_file, 'r') as f:\n",
    "    company_symbol_map = json.loads(f.read())\n",
    "\n",
    "# JSONファイルのKeyだけを読み込む\n",
    "symbols = company_symbol_map.keys()"
   ]
  },
  {
   "cell_type": "markdown",
   "execution_count": 14,
   "metadata": {},
   "outputs": [],
   "source": [
    "## 株価データを取得する\n",
    "\n",
    "- [Quandle](https://www.quandl.com/)というサイトから読み込むためにユーザ登録してAPI KEYを取得する必要がある。\n"
   ]
  },
  {
   "cell_type": "code",
   "execution_count": 4,
   "metadata": {},
   "outputs": [
    {
     "name": "stdout",
     "output_type": "stream",
     "text": "Loading TOT Total...Unable to read URL: https://www.quandl.com/api/v3/datasets/WIKI/TOT.csv?start_date=2003-07-03&end_date=2007-05-04&order=asc&api_key=a2g1DA1J52nVEHgCBM3s\nResponse Text:\nb'code,message\\nQECx02,You have submitted an incorrect Quandl code. Please check your Quandl codes and try again.\\n'\nnot found\nLoading XOM Exxon...done\nLoading CVX Chevron...done\nLoading COP ConocoPhillips...done\nLoading VLO Valero Energy...done\nLoading MSFT Microsoft...done\nLoading IBM IBM...done\nLoading TWX Time Warner...done\nLoading CMCSA Comcast...done\nLoading YHOO Yahoo...done\nLoading HPQ HP...done\nLoading AMZN Amazon...done\nLoading TM Toyota...Unable to read URL: https://www.quandl.com/api/v3/datasets/WIKI/TM.csv?start_date=2003-07-03&end_date=2007-05-04&order=asc&api_key=a2g1DA1J52nVEHgCBM3s\nResponse Text:\nb'code,message\\nQECx02,You have submitted an incorrect Quandl code. Please check your Quandl codes and try again.\\n'\nnot found\nLoading CAJ Canon...Unable to read URL: https://www.quandl.com/api/v3/datasets/WIKI/CAJ.csv?start_date=2003-07-03&end_date=2007-05-04&order=asc&api_key=a2g1DA1J52nVEHgCBM3s\nResponse Text:\nb'code,message\\nQECx02,You have submitted an incorrect Quandl code. Please check your Quandl codes and try again.\\n'\nnot found\nLoading MTU Mitsubishi...Unable to read URL: https://www.quandl.com/api/v3/datasets/WIKI/MTU.csv?start_date=2003-07-03&end_date=2007-05-04&order=asc&api_key=a2g1DA1J52nVEHgCBM3s\nResponse Text:\nb'code,message\\nQECx02,You have submitted an incorrect Quandl code. Please check your Quandl codes and try again.\\n'\nnot found\nLoading SNE Sony...Unable to read URL: https://www.quandl.com/api/v3/datasets/WIKI/SNE.csv?start_date=2003-07-03&end_date=2007-05-04&order=asc&api_key=a2g1DA1J52nVEHgCBM3s\nResponse Text:\nb'code,message\\nQECx02,You have submitted an incorrect Quandl code. Please check your Quandl codes and try again.\\n'\nnot found\nLoading F Ford...done\nLoading HMC Honda...Unable to read URL: https://www.quandl.com/api/v3/datasets/WIKI/HMC.csv?start_date=2003-07-03&end_date=2007-05-04&order=asc&api_key=a2g1DA1J52nVEHgCBM3s\nResponse Text:\nb'code,message\\nQECx02,You have submitted an incorrect Quandl code. Please check your Quandl codes and try again.\\n'\nnot found\nLoading NAV Navistar...done\nLoading NOC Northrop Grumman...done\nLoading BA Boeing...done\nLoading KO Coca Cola...done\nLoading MMM 3M...done\nLoading MCD Mc Donalds...done\nLoading PEP Pepsi...done\nLoading MDLZ Kraft Foods...done\nLoading K Kellogg...done\nLoading UN Unilever...Unable to read URL: https://www.quandl.com/api/v3/datasets/WIKI/UN.csv?start_date=2003-07-03&end_date=2007-05-04&order=asc&api_key=a2g1DA1J52nVEHgCBM3s\nResponse Text:\nb'code,message\\nQECx02,You have submitted an incorrect Quandl code. Please check your Quandl codes and try again.\\n'\nnot found\nLoading MAR Marriott...done\nLoading PG Procter Gamble...done\nLoading CL Colgate-Palmolive...done\nLoading GE General Electrics...done\nLoading WFC Wells Fargo...done\nLoading JPM JPMorgan Chase...done\nLoading AIG AIG...done\nLoading AXP American express...done\nLoading BAC Bank of America...done\nLoading GS Goldman Sachs...done\nLoading AAPL Apple...done\nLoading SAP SAP...Unable to read URL: https://www.quandl.com/api/v3/datasets/WIKI/SAP.csv?start_date=2003-07-03&end_date=2007-05-04&order=asc&api_key=a2g1DA1J52nVEHgCBM3s\nResponse Text:\nb'code,message\\nQECx02,You have submitted an incorrect Quandl code. Please check your Quandl codes and try again.\\n'\nnot found\nLoading CSCO Cisco...done\nLoading TXN Texas instruments...done\nLoading XRX Xerox...done\nLoading WMT Wal-Mart...done\nLoading WBA Walgreen...done\nLoading HD Home Depot...done\nLoading GSK GlaxoSmithKline...Unable to read URL: https://www.quandl.com/api/v3/datasets/WIKI/GSK.csv?start_date=2003-07-03&end_date=2007-05-04&order=asc&api_key=a2g1DA1J52nVEHgCBM3s\nResponse Text:\nb'code,message\\nQECx02,You have submitted an incorrect Quandl code. Please check your Quandl codes and try again.\\n'\nnot found\nLoading PFE Pfizer...done\nLoading SNY Sanofi-Aventis...Unable to read URL: https://www.quandl.com/api/v3/datasets/WIKI/SNY.csv?start_date=2003-07-03&end_date=2007-05-04&order=asc&api_key=a2g1DA1J52nVEHgCBM3s\nResponse Text:\nb'code,message\\nQECx02,You have submitted an incorrect Quandl code. Please check your Quandl codes and try again.\\n'\nnot found\nLoading NVS Novartis...Unable to read URL: https://www.quandl.com/api/v3/datasets/WIKI/NVS.csv?start_date=2003-07-03&end_date=2007-05-04&order=asc&api_key=a2g1DA1J52nVEHgCBM3s\nResponse Text:\nb'code,message\\nQECx02,You have submitted an incorrect Quandl code. Please check your Quandl codes and try again.\\n'\nnot found\nLoading KMB Kimberly-Clark...done\nLoading R Ryder...done\nLoading GD General Dynamics...done\nLoading RTN Raytheon...done\nLoading CVS CVS...done\nLoading CAT Caterpillar...done\n"
    }
   ],
   "source": [
    "start_date = datetime.datetime(2003, 7, 3)\n",
    "end_date = datetime.datetime(2007, 5, 4)\n",
    "\n",
    "quotes = []\n",
    "names = []\n",
    "\n",
    "for symbol in symbols:\n",
    "    try:\n",
    "        print('Loading', symbol, company_symbol_map[symbol], end='...')\n",
    "        d = pdd.DataReader('WIKI/' + symbol, 'quandl', start_date, end_date, api_key=os.environ['QUANDL_API_KEY'])\n",
    "        print('done')\n",
    "        quotes.append(d)\n",
    "        names.append(company_symbol_map[symbol])\n",
    "    except Exception as e:\n",
    "        print(e)\n",
    "        print('not found')\n",
    "\n",
    "names = np.array(names)\n"
   ]
  },
  {
   "cell_type": "code",
   "execution_count": 23,
   "metadata": {},
   "outputs": [
    {
     "name": "stdout",
     "output_type": "stream",
     "text": "['Exxon' 'Chevron' 'ConocoPhillips' 'Valero Energy' 'Microsoft' 'IBM'\n 'Time Warner' 'Comcast' 'Yahoo' 'HP' 'Amazon' 'Ford' 'Navistar'\n 'Northrop Grumman' 'Boeing' 'Coca Cola' '3M' 'Mc Donalds' 'Pepsi'\n 'Kraft Foods' 'Kellogg' 'Marriott' 'Procter Gamble' 'Colgate-Palmolive'\n 'General Electrics' 'Wells Fargo' 'JPMorgan Chase' 'AIG'\n 'American express' 'Bank of America' 'Goldman Sachs' 'Apple' 'Cisco'\n 'Texas instruments' 'Xerox' 'Wal-Mart' 'Walgreen' 'Home Depot' 'Pfizer'\n 'Kimberly-Clark' 'Ryder' 'General Dynamics' 'Raytheon' 'CVS'\n 'Caterpillar']\n"
    }
   ],
   "source": [
    "print(names)\n"
   ]
  },
  {
   "cell_type": "code",
   "execution_count": 17,
   "metadata": {},
   "outputs": [
    {
     "name": "stdout",
     "output_type": "stream",
     "text": "[[-0.45  0.85 -0.01 ... -0.2  -0.05 -0.04]\n [-0.41  1.03  0.16 ...  0.42  1.05 -0.57]\n [ 0.05  0.84  0.21 ... -0.52 -0.77 -0.2 ]\n ...\n [-0.11  0.45 -0.05 ...  0.09 -0.15 -0.3 ]\n [-0.81 -0.24  0.38 ...  0.22  0.19  0.07]\n [-0.24  0.05  0.2  ...  0.4   0.16  0.17]]\nCluster 1 ==> Exxon, Chevron, ConocoPhillips, Valero Energy\nCluster 2 ==> Yahoo, Amazon, Apple\nCluster 3 ==> Ford, Navistar, Caterpillar\nCluster 4 ==> Kraft Foods\nCluster 5 ==> Coca Cola, Pepsi, Kellogg, Procter Gamble, Colgate-Palmolive, Kimberly-Clark\nCluster 6 ==> Comcast, Mc Donalds, Marriott, Wells Fargo, JPMorgan Chase, AIG, American express, Bank of America, Goldman Sachs, Xerox, Wal-Mart, Home Depot, Pfizer, Ryder\nCluster 7 ==> Microsoft, IBM, Time Warner, HP, 3M, General Electrics, Cisco, Texas instruments\nCluster 8 ==> Walgreen, CVS\nCluster 9 ==> Northrop Grumman, Boeing, General Dynamics, Raytheon\n"
    }
   ],
   "source": [
    "# 株価の始値、終値の差を計算する\n",
    "opening_quotes = np.array([quote['Open'] for quote in quotes]).astype(np.float)\n",
    "closing_quotes = np.array([quote['Close'] for quote in quotes]).astype(np.float)\n",
    "quotes_diff = closing_quotes - opening_quotes\n",
    "print(quotes_diff)\n",
    "# 転置行列を標準偏差で割ってデータを正規化する\n",
    "X = quotes_diff.copy().T\n",
    "X /= X.std(axis=0)\n",
    "\n",
    "edge_model = covariance.GraphicalLassoCV(cv=3)\n",
    "\n",
    "with np.errstate(invalid='ignore'):\n",
    "    edge_model.fit(X)\n",
    "\n",
    "_, labels = cluster.affinity_propagation(edge_model.covariance_)\n",
    "num_labels = labels.max()\n",
    "\n",
    "for i in range(num_labels + 1):\n",
    "    print(\"Cluster\", i+1, \"==>\", ', '.join(names[labels==i]))\n"
   ]
  },
  {
   "cell_type": "code",
   "execution_count": null,
   "metadata": {},
   "outputs": [],
   "source": []
  }
 ]
}