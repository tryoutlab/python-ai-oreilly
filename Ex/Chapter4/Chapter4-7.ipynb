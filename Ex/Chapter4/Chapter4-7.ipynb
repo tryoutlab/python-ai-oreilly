{
 "nbformat": 4,
 "nbformat_minor": 2,
 "metadata": {
  "language_info": {
   "name": "python",
   "codemirror_mode": {
    "name": "ipython",
    "version": 3
   },
   "version": "3.7.5"
  },
  "orig_nbformat": 2,
  "file_extension": ".py",
  "mimetype": "text/x-python",
  "name": "python",
  "npconvert_exporter": "python",
  "pygments_lexer": "ipython3",
  "version": 3
 },
 "cells": [
  {
   "cell_type": "markdown",
   "execution_count": 1,
   "metadata": {},
   "outputs": [],
   "source": [
    "# Affinity Propagationモデルを使った株式市場のサブグループ検出"
   ]
  },
  {
   "cell_type": "markdown",
   "execution_count": 2,
   "metadata": {},
   "outputs": [
    {
     "ename": "SyntaxError",
     "evalue": "invalid character in identifier (<ipython-input-2-ffaf48b70db2>, line 1)",
     "output_type": "error",
     "traceback": [
      "\u001b[0;36m  File \u001b[0;32m\"<ipython-input-2-ffaf48b70db2>\"\u001b[0;36m, line \u001b[0;32m1\u001b[0m\n\u001b[0;31m    Affinity Propagation（アフィニティ・プロパゲーション）\u001b[0m\n\u001b[0m                                        ^\u001b[0m\n\u001b[0;31mSyntaxError\u001b[0m\u001b[0;31m:\u001b[0m invalid character in identifier\n"
     ]
    }
   ],
   "source": [
    "Affinity Propagation（アフィニティ・プロパゲーション）\n",
    "\n",
    "クラスタ数を事前に指定する事なく、クラスタリングをしてくれる。\n",
    "\n",
    "- 入力で使う教師なしデータ\n",
    "    - exampler\n",
    "\n",
    "- クラスタリングの評価値\n",
    "    - responsibility\n",
    "    - avilability"
   ]
  },
  {
   "cell_type": "markdown",
   "execution_count": 6,
   "metadata": {},
   "outputs": [
    {
     "ename": "SyntaxError",
     "evalue": "invalid syntax (<ipython-input-6-8b8633b585f4>, line 1)",
     "output_type": "error",
     "traceback": [
      "\u001b[0;36m  File \u001b[0;32m\"<ipython-input-6-8b8633b585f4>\"\u001b[0;36m, line \u001b[0;32m1\u001b[0m\n\u001b[0;31m    ```\u001b[0m\n\u001b[0m    ^\u001b[0m\n\u001b[0;31mSyntaxError\u001b[0m\u001b[0;31m:\u001b[0m invalid syntax\n"
     ]
    }
   ],
   "source": [
    "`pandas_datareader`をインストールしておかないといけない\n",
    "\n",
    "```\n",
    "$ pip install pandas_datareader\n",
    "```"
   ]
  },
  {
   "cell_type": "code",
   "execution_count": 12,
   "metadata": {},
   "outputs": [],
   "source": [
    "import datetime\n",
    "import json\n",
    "import numpy as np\n",
    "from sklearn import covariance, cluster\n",
    "import pandas as pd\n",
    "import pandas_datareader.data as pdd\n",
    "\n",
    "input_file = './data/company_symbol_mapping.json'\n",
    "with open(input_file, 'r') as f:\n",
    "    company_symbol_map = json.loads(f.read())\n",
    "\n",
    "# JSONファイルのKeyだけを読み込む\n",
    "symbols = company_symbol_map.keys()\n"
   ]
  },
  {
   "cell_type": "markdown",
   "execution_count": 14,
   "metadata": {},
   "outputs": [],
   "source": [
    "## 株価データを取得する\n",
    "\n",
    "- [Quandle](https://www.quandl.com/)というサイトから読み込むためにユーザ登録してAPI KEYを取得する必要がある。\n"
   ]
  },
  {
   "cell_type": "code",
   "execution_count": null,
   "metadata": {},
   "outputs": [],
   "source": []
  }
 ]
}