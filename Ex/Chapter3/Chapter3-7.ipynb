{
 "cells": [
  {
   "cell_type": "markdown",
   "metadata": {},
   "source": [
    "## 特徴量の相対重要度\n",
    "\n",
    "複数の特徴量から構成されるインプットデータの中で全ての特徴量が重要とは限らない。  \n",
    "ある特徴量が他の特徴量に比べて重要なことも想定される。  \n",
    "\n",
    "そういう場合は無駄な特徴量は省いた方（次元削除）が計算も早くなる。\n",
    "\n",
    "ex）学校で優秀なクラスを求める時に偏差値や各科目の点数と比べて、年齢（早生まれ、遅生まれとか）や性別は無視できる。"
   ]
  },
  {
   "cell_type": "markdown",
   "metadata": {},
   "source": [
    "特徴量の重要度はAdaBoost(Adaptive Boost)回帰を使う"
   ]
  },
  {
   "cell_type": "code",
   "execution_count": 4,
   "metadata": {},
   "outputs": [
    {
     "name": "stdout",
     "output_type": "stream",
     "text": [
      "ADABOOST REGRESSOR\n",
      "Mean squared error = 7.29\n",
      "Explained variance score = 0.91\n"
     ]
    },
    {
     "data": {
      "image/png": "[encoded data removed]",
      "text/plain": [
       "<Figure size 432x288 with 1 Axes>"
      ]
     },
     "metadata": {
      "needs_background": "light"
     },
     "output_type": "display_data"
    }
   ],
   "source": [
    "import numpy as np\n",
    "import matplotlib.pyplot as plt\n",
    "\n",
    "%matplotlib inline\n",
    "\n",
    "from sklearn.tree import DecisionTreeRegressor\n",
    "from sklearn.ensemble import AdaBoostRegressor\n",
    "from sklearn import datasets\n",
    "from sklearn.metrics import mean_squared_error, explained_variance_score\n",
    "from sklearn import model_selection\n",
    "from sklearn.utils import shuffle\n",
    "\n",
    "# ボストンの住宅費データセットを選ぶ\n",
    "housing_data = datasets.load_boston()\n",
    "\n",
    "# データをシャッフルする\n",
    "X, y = shuffle(housing_data.data, housing_data.target, random_state=7)\n",
    "\n",
    "# 訓練用データを80%、テスト用データは20%\n",
    "# random_stateは結果に再現性を求める時に指定すると良い。\n",
    "X_train, X_test, y_train, y_test = model_selection.train_test_split(X, y, test_size=0.2, random_state=4)\n",
    "\n",
    "# DecisionTreeRegressor（決定木）モデルを基本にしたAdaBoost学習器を定義する\n",
    "regressor = AdaBoostRegressor(DecisionTreeRegressor(max_depth=4), n_estimators=400, random_state=7)\n",
    "\n",
    "# 訓練\n",
    "regressor.fit(X_train, y_train)\n",
    "\n",
    "# 予測\n",
    "y_pred = regressor.predict(X_test)\n",
    "\n",
    "# 予測評価\n",
    "mse = mean_squared_error(y_test, y_pred)\n",
    "evs = explained_variance_score(y_test, y_pred)\n",
    "\n",
    "print(\"ADABOOST REGRESSOR\") \n",
    "print(\"Mean squared error =\", round(mse, 2)) \n",
    "print(\"Explained variance score =\", round(evs, 2)) \n",
    "\n",
    "# 特徴量の重要度を計算した結果を表示する\n",
    "feature_importances = regressor.feature_importances_\n",
    "feature_names = housing_data.feature_names\n",
    "\n",
    "# 重要度の値を正規化して相対評価として見やすくする\n",
    "feature_importances = 100*(feature_importances / max(feature_importances))\n",
    "\n",
    "# ソートする\n",
    "index_sorted = np.flipud(np.argsort(feature_importances))\n",
    "\n",
    "# グラフのX軸のメモリを設定する\n",
    "pos = np.arange(index_sorted.shape[0]) + 0.5\n",
    "\n",
    "plt.figure()\n",
    "plt.bar(pos, feature_importances[index_sorted], align='center')\n",
    "plt.xticks(pos, feature_names[index_sorted])\n",
    "plt.ylabel('Relative Importances')\n",
    "plt.title('Feature importance using AdaBoost regressor') \n",
    "plt.show() "
   ]
  },
  {
   "cell_type": "markdown",
   "metadata": {},
   "source": [
    "LSTATという値が重要そうという結果がでました。  \n",
    "**LSTAT: 人口あたりの低所得者率**"
   ]
  },
  {
   "cell_type": "code",
   "execution_count": null,
   "metadata": {},
   "outputs": [],
   "source": []
  }
 ],
 "metadata": {
  "kernelspec": {
   "display_name": "Python 3",
   "language": "python",
   "name": "python3"
  },
  "language_info": {
   "codemirror_mode": {
    "name": "ipython",
    "version": 3
   },
   "file_extension": ".py",
   "mimetype": "text/x-python",
   "name": "python",
   "nbconvert_exporter": "python",
   "pygments_lexer": "ipython3",
   "version": "3.7.5"
  }
 },
 "nbformat": 4,
 "nbformat_minor": 4
}
