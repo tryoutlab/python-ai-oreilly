{
 "cells": [
  {
   "cell_type": "markdown",
   "metadata": {},
   "source": [
    "## ERT回帰モデルを使った交通量予測"
   ]
  },
  {
   "cell_type": "markdown",
   "metadata": {},
   "source": [
    "ロサンゼルススタジアムで開催された野球の試合の間に通行した車の量を数えたデータを扱う"
   ]
  },
  {
   "cell_type": "markdown",
   "metadata": {},
   "source": [
    "トラフィックデータはこんな感じ\n",
    "\n",
    "曜日, 時間, 対戦相手, 試合中かどうか(yes/no), 通った車の数\n",
    "```\n",
    "Tuesday,00:00,San Francisco,no,3\n",
    "Tuesday,00:05,San Francisco,no,8\n",
    "Tuesday,00:10,San Francisco,no,10\n",
    "：\n",
    "：\n",
    "```\n",
    "\n",
    "情報から車の通行量を予測できるようにする。"
   ]
  },
  {
   "cell_type": "code",
   "execution_count": 16,
   "metadata": {},
   "outputs": [
    {
     "name": "stdout",
     "output_type": "stream",
     "text": [
      "[[ 5.  4. 13.  0.  1.]\n",
      " [ 5.  5. 13.  0.  4.]\n",
      " [ 5.  6. 13.  0.  9.]\n",
      " [ 5.  7. 13.  0.  4.]\n",
      " [ 5.  8. 13.  0.  6.]\n",
      " [ 5.  9. 13.  0. 13.]]\n",
      "Mean absolute error: 7.42\n"
     ]
    }
   ],
   "source": [
    "import numpy as np\n",
    "import matplotlib.pyplot as plt\n",
    "from sklearn.metrics import classification_report, mean_absolute_error\n",
    "from sklearn import model_selection, preprocessing\n",
    "from sklearn.ensemble import ExtraTreesRegressor\n",
    "\n",
    "# 変数定義\n",
    "input_file = './data/traffic_data.txt'\n",
    "data = []\n",
    "\n",
    "# ファイルを読み込む\n",
    "with open(input_file, 'r') as f:\n",
    "    # 1行づつ読み込む。lineには \"Tuesday,00:00,San Francisco,no,3\\n\\n\" な感じで入る。\n",
    "    for line in f.readlines():\n",
    "        # line[:-1]で改行コードを取り除いて、\",\"で分割したリストをitemsに入れる\n",
    "        items = line[:-1].split(',')\n",
    "        # dataにitemsを追加していく\n",
    "        data.append(items)\n",
    "\n",
    "# Numpy配列に変換する\n",
    "data = np.array(data)\n",
    "\n",
    "# ラベル作り\n",
    "label_encoder = []\n",
    "X_encoded = np.empty(data.shape)\n",
    "\n",
    "# dataからそれぞれインデックス番号と値を取り出す\n",
    "for i, item in enumerate(data[0]):\n",
    "    # 数値ならそのまま入れる\n",
    "    if item.isdigit():\n",
    "        X_encoded[:, i] = data[:, i]\n",
    "    # 数値以外ならテキストを数値にラベル化する\n",
    "    else:\n",
    "        label_encoder.append(preprocessing.LabelEncoder())\n",
    "        X_encoded[:, i] = label_encoder[-1].fit_transform(data[:, i])\n",
    "\n",
    "# X_encodedは[ 5.  4. 13.  0.  1.]な感じ\n",
    "X = X_encoded[:, :-1].astype(int)\n",
    "y = X_encoded[:, -1].astype(int)\n",
    "\n",
    "\n",
    "# 訓練用データを75%、テスト用データは25%\n",
    "# random_stateは結果に再現性を求める時に指定すると良い。\n",
    "X_train, X_test, y_train, y_test = model_selection.train_test_split(X, y, test_size=0.25, random_state=5)\n",
    "\n",
    "# ERT回帰のパラメーター設定と回帰学習器を作成\n",
    "params = {'n_estimators': 100, 'random_state': 0, 'max_depth': 4}\n",
    "regressor = ExtraTreesRegressor(**params)\n",
    "\n",
    "# 訓練\n",
    "regressor.fit(X_train, y_train)\n",
    "\n",
    "# 検証\n",
    "y_pred = regressor.predict(X_test)\n",
    "\n",
    "print(\"Mean absolute error:\", round(mean_absolute_error(y_test, y_pred), 2)) "
   ]
  },
  {
   "cell_type": "code",
   "execution_count": 17,
   "metadata": {},
   "outputs": [
    {
     "name": "stdout",
     "output_type": "stream",
     "text": [
      "Predicted traffic: 26\n"
     ]
    }
   ],
   "source": [
    "# 適当な入力値を作る\n",
    "test_datapoint = ['Saturday', '10:20', 'Atlanta', 'no'] \n",
    "test_datapoint_encoded = [0] * len(test_datapoint) \n",
    "count = 0 \n",
    "\n",
    "# 入力パラメータを先ほど作成したラベルエンコーダーを元に作成する\n",
    "for i, item in enumerate(test_datapoint): \n",
    "    if item.isdigit(): \n",
    "        test_datapoint_encoded[i] = int(test_datapoint[i]) \n",
    "    else: \n",
    "        test_datapoint_encoded[i] = int(label_encoder[count].transform(\n",
    "                                        [test_datapoint[i]])[0]) \n",
    "        count = count + 1 \n",
    "\n",
    "# Numpy配列に変換する\n",
    "test_datapoint_encoded = np.array(test_datapoint_encoded) \n",
    "\n",
    "# 予測値を出す\n",
    "print(\"Predicted traffic:\", int(regressor.predict([test_datapoint_encoded])[0])) "
   ]
  },
  {
   "cell_type": "code",
   "execution_count": null,
   "metadata": {},
   "outputs": [],
   "source": []
  }
 ],
 "metadata": {
  "kernelspec": {
   "display_name": "Python 3",
   "language": "python",
   "name": "python3"
  },
  "language_info": {
   "codemirror_mode": {
    "name": "ipython",
    "version": 3
   },
   "file_extension": ".py",
   "mimetype": "text/x-python",
   "name": "python",
   "nbconvert_exporter": "python",
   "pygments_lexer": "ipython3",
   "version": "3.7.5"
  }
 },
 "nbformat": 4,
 "nbformat_minor": 4
}
